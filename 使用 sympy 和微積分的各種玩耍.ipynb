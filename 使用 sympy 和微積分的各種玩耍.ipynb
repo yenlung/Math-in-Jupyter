{
  "nbformat": 4,
  "nbformat_minor": 0,
  "metadata": {
    "colab": {
      "name": "使用 sympy 和微積分的各種玩耍.ipynb",
      "provenance": [],
      "collapsed_sections": [],
      "authorship_tag": "ABX9TyOy/bCkJH5aeuvxUI3IV3M7",
      "include_colab_link": true
    },
    "kernelspec": {
      "name": "python3",
      "display_name": "Python 3"
    },
    "language_info": {
      "name": "python"
    },
    "widgets": {
      "application/vnd.jupyter.widget-state+json": {
        "1b5e5b48cd9e4d3b9fa811f7e69e7bc2": {
          "model_module": "@jupyter-widgets/controls",
          "model_name": "VBoxModel",
          "model_module_version": "1.5.0",
          "state": {
            "_view_name": "VBoxView",
            "_dom_classes": [
              "widget-interact"
            ],
            "_model_name": "VBoxModel",
            "_view_module": "@jupyter-widgets/controls",
            "_model_module_version": "1.5.0",
            "_view_count": null,
            "_view_module_version": "1.5.0",
            "box_style": "",
            "layout": "IPY_MODEL_0902c010327d49cf83b30313bbd2c2cc",
            "_model_module": "@jupyter-widgets/controls",
            "children": [
              "IPY_MODEL_291c3c94c7cf4a6984a8cc0e40fd3048",
              "IPY_MODEL_94f7edc8f8f5410aac4e5523f6014b97"
            ]
          }
        },
        "0902c010327d49cf83b30313bbd2c2cc": {
          "model_module": "@jupyter-widgets/base",
          "model_name": "LayoutModel",
          "model_module_version": "1.2.0",
          "state": {
            "_view_name": "LayoutView",
            "grid_template_rows": null,
            "right": null,
            "justify_content": null,
            "_view_module": "@jupyter-widgets/base",
            "overflow": null,
            "_model_module_version": "1.2.0",
            "_view_count": null,
            "flex_flow": null,
            "width": null,
            "min_width": null,
            "border": null,
            "align_items": null,
            "bottom": null,
            "_model_module": "@jupyter-widgets/base",
            "top": null,
            "grid_column": null,
            "overflow_y": null,
            "overflow_x": null,
            "grid_auto_flow": null,
            "grid_area": null,
            "grid_template_columns": null,
            "flex": null,
            "_model_name": "LayoutModel",
            "justify_items": null,
            "grid_row": null,
            "max_height": null,
            "align_content": null,
            "visibility": null,
            "align_self": null,
            "height": null,
            "min_height": null,
            "padding": null,
            "grid_auto_rows": null,
            "grid_gap": null,
            "max_width": null,
            "order": null,
            "_view_module_version": "1.2.0",
            "grid_template_areas": null,
            "object_position": null,
            "object_fit": null,
            "grid_auto_columns": null,
            "margin": null,
            "display": null,
            "left": null
          }
        },
        "291c3c94c7cf4a6984a8cc0e40fd3048": {
          "model_module": "@jupyter-widgets/controls",
          "model_name": "IntSliderModel",
          "model_module_version": "1.5.0",
          "state": {
            "_view_name": "IntSliderView",
            "style": "IPY_MODEL_544ce52649ae4ef4949b0e6fade7bc78",
            "_dom_classes": [],
            "description": "n",
            "step": 1,
            "_model_name": "IntSliderModel",
            "orientation": "horizontal",
            "max": 50,
            "_view_module": "@jupyter-widgets/controls",
            "_model_module_version": "1.5.0",
            "value": 10,
            "_view_count": null,
            "disabled": false,
            "_view_module_version": "1.5.0",
            "min": 1,
            "continuous_update": true,
            "readout_format": "d",
            "description_tooltip": null,
            "readout": true,
            "_model_module": "@jupyter-widgets/controls",
            "layout": "IPY_MODEL_3322df5eb12342388b070efd9b01fe88"
          }
        },
        "94f7edc8f8f5410aac4e5523f6014b97": {
          "model_module": "@jupyter-widgets/output",
          "model_name": "OutputModel",
          "model_module_version": "1.0.0",
          "state": {
            "_view_name": "OutputView",
            "msg_id": "",
            "_dom_classes": [],
            "_model_name": "OutputModel",
            "outputs": [
              {
                "output_type": "display_data",
                "data": {
                  "image/png": "iVBORw0KGgoAAAANSUhEUgAAAagAAAEXCAYAAAD4LtBgAAAABHNCSVQICAgIfAhkiAAAAAlwSFlzAAALEgAACxIB0t1+/AAAADh0RVh0U29mdHdhcmUAbWF0cGxvdGxpYiB2ZXJzaW9uMy4yLjIsIGh0dHA6Ly9tYXRwbG90bGliLm9yZy+WH4yJAAAgAElEQVR4nO3deXhU9cH28e+ZTHaSQDAhIYEIhiVhh2FxAYWIIiqIIIpYoYh5i+2rpa2121NbWwVpcXtq6xNfF1ypogXKElAoD7swLEGISIBESAghQEIg+8yc949AFAmbhpyZzP25rlzJnHNmzp0h5M7vrIZpmoiIiHgbm9UBREREGqKCEhERr6SCEhERr6SCEhERr6SCEhERr6SCEhERr6SCEhERr6SCEhERr2S3OoDI5TIMIxa4HmgLVAI7Aadpmh5Lg4lIozJ0JQnxFYZhDAV+BUQD24AjQAjQGbgGmAfMNk2zzLKQItJoVFDiMwzD+Avw36ZpHmhgnh24AwgwTfOjJg8nIo1OBSUiIl5JB0mIzzEM423DMKK+8fhqwzBWWJlJRBqfCkp80VrgM8MwRhqG8TCwHHjB4kwi0sgutolP2//EK61du5ahQ4dy1VVXsW3bNuLi4qyOxIgRI8jMzLQ6hoivMC62gEZQ4nPefvttpkyZwltvvcXkyZMZOXIkWVlZVsfi6NGjVkcQaVZ0HpT4nI8++oi1a9cSGxvLhAkTGDNmDJMnT2bbtm1WRxORRqRNfNIs1NTUEBQUZGkGh8OB0+m0NIOID9EmPmk+/vznP3P8+PEG5wUFBbFy5UoWLVrUxKlE5ErRJj7xGT169ODOO+8kJCSEvn37EhMTQ1VVFTk5OWzfvp2bb76Z3/zmN1bHFJFGooISnzFv3jzWrVvHrFmziI2NpbCwkMjISB544AEyMjIIDQ21OqKINCIVlPiMLVu2cOjQId59913+85//nDWvsrJSBSXSzKigxGf86Ec/Ii0tjf379+NwOOqnm6aJYRjs37/fwnQi0th0FJ/4nGnTpvGPf/zD6hjn0FF8IpdFR/FJ8+ON5STS3FlxXXEVlIiIXNS4cXD33U27ThWUiIhclNMJISFNu04VlIiIXFBJCRw4AL16Ne16VVAiInJBO3bUfe7Zs2nXq4ISEZELOnOzAI2gRETEq2RlwVVXQXx8065XBSUiIheUlQU3di3CcNU26XpVUCIicl4uF+zcCc8cmAhDhjTpulVQIiJyXnv2QHW1SdKxrdCjR5OuWwUlfmHKlCnExsbSvXv3c+bNnj0bwzDqb9lumiaPPvooycnJ9OzZk61btzZ1XBGvsWMHdCCX4PIS6NevSdetghK/MHnyZDIzM8+ZfvDgQZYvX0779u3rpy1dupScnBxycnLIyMhg2rRpTRlVxKtkZcGAgNN/pKmgRBrfkCFDiI6OPmf69OnTmTVrFobx9XUrFyxYwIMPPohhGAwaNIjS0lIKCwubMq6I18jKguHRW8Bu1yY+kaayYMECEhIS6PWtkzsKCgpo165d/ePExEQKCgoafI2MjAwcDgcOh4Pi4uIrmlfECllZMMC+Bbp3h+DgJl237gclfqmiooJnnnmG5cuXf6/XSU9PJz09HeCse1SJNAdHj8KhQybJYVtg5JgmX78KSvzSvn37yM3NrR895efn07dvXzZt2kRCQgIHDx6sXzY/P5+EhASroopYJisL2nOA0IrjTb7/CbSJT/xUjx49OHLkCHl5eeTl5ZGYmMjWrVuJi4tj1KhRvPXWW5imycaNG4mKiiK+qU+hF/ECWVnQjy11D/r2bfL1q6DEL0yYMIFrr72WL7/8ksTERF577bXzLjty5Eg6duxIcnIyDz/8MH//+9+bMKmI98jKghvDt0BAQNNfKRbd8l2k0eiW79Lc9O4NrxbcRv+2h76+Ymzj0S3fRUTk8tXWQvYuk5SKLZZs3gMdJCEiIg3YvRvauPJp4Sq25AAJ0AhKREQakJUFfbHmChJnaAQlIiLnyMqCAbYtmNgwmvpOhadpBCUiIufIyoIhLbZgpKRAWJglGVRQIiJyjqztJj1rtli2eQ9UUCIi8i2HDsH1HQuJqipSQYmIiPdwOqH2M+uuIHGGCkpERM6yeTP0N7ZgGkbd2boWUUGJiMhZNm2CIRFbMbp2hRYtLMuhghIRkXqmWTeC6uWy9gAJ0HlQIiLyDfv2QVDJYVpxyNL9T6ARlIiIfMPmzdZfQeIMFZSIiNTbtAkG2U8fwdenj6VZVFAiIlJv82a4KXILdO4MERGWZlFBiYgIAC4XbN0KPSy+gsQZKigREQFg1y6IrCzEjI6GoUOtjqOCEhGROps3w3VsIPrADujRw+o4OsxcRETqbNoEQ4PXYxKMYfEh5qARlIiInLZ5M6SFrMPo3x+CgqyOo4IS/zBlyhRiY2Pp3r17/bTHH3+crl270rNnT8aMGUNpaWn9vBkzZpCcnEyXLl1YtmyZFZFFmlRFBezZUUXnk1vguuusjgOooMRPTJ48mczMzLOmDR8+nJ07d7Jjxw46d+7MjBkzAMjOzmbu3Lns2rWLzMxMHnnkEdxutxWxRZrM9u3Q27MFu6dWBSXSlIYMGUJ0dPRZ02655Rbs9rrdsIMGDSI/Px+ABQsWcN999xEcHEyHDh1ITk5m06ZNTZ5ZpClt2gTXsb7ugQpKxHu8/vrr3HbbbQAUFBTQrl27+nmJiYkUFBQ0+LyMjAwcDgcOh4Pi4uImySpyJZzZ/0SnThATY3UcQAUlwtNPP43dbmfixImX/dz09HScTidOp5MYL/lPLfJdbPrM5FrPeq8ZPYEOMxc/9+abb7Jo0SJWrFiBYRgAJCQkcPDgwfpl8vPzSUhIsCqiyBV3/DiY+/YRRbFXFZRGUOK3MjMzmTVrFgsXLiQsLKx++qhRo5g7dy7V1dXk5uaSk5PDgAEDLEwqcmU5nd63/wk0ghI/MWHCBFatWsXRo0dJTEzkj3/8IzNmzKC6uprhw4cDdQdKvPLKK3Tr1o3x48eTmpqK3W7n5ZdfJiAgwOLvQOTK2bwZrmcdZmQURmqq1XHqGaZpXmj+BWeKyNccDgdOp9PqGCKXbfRo+EtmDzoPS4SlS5tqtcbFFtAmPhERP2aasHtjKck1u7xq8x6ooERE/FpBAVx95DNsmCooERHxHlu3wp3R6zBtNvCyg4FUUCIifmzVKkgtWY/Zs5fld9D9NhWUiIgfW7/axSDbZ9iu967Ne6DDzEVE/NapU1C7bSdhnlNet/8JNIISEfFbGzbAIM+6ugcqKBER8RZr1sD1rMcT3xaSkqyOcw4VlIiIn1q9Gm4MWl+3/8m46HmzTU4FJSLih6qr4cDGQyTU5Hnl5j1QQYmI+KUtW6BvtfddIPabVFAiIn5ozRpIIZvaXg7o08fqOA1SQYmI+KE1a2Bi8EcEto6EoCCr4zRIBSUi4mc8HvhyzRG6Vu+AtDSr45yXCkpExM/s3Al9y/5T90AFJSIi3mL1akhjBZ4WkdCvn9VxzksFJSLiZ9asgVsDVmAMuwns3nvFOxWUiIgfMU3I/U8eSe79GF68eQ9UUCIifmX/fuhevLLugQpKRES8xZo1dfufaq+Kg9RUq+NckApK/MKUKVOIjY2le/fu9dOOHz/O8OHD6dSpE8OHD6ekpAQA0zR59NFHSU5OpmfPnmzdutWq2CKNbs1qkzRjJfbhw7zy+nvfpIISvzB58mQyMzPPmjZz5kzS0tLIyckhLS2NmTNnArB06VJycnLIyckhIyODadOmWRFZ5Io49Gk2ceZhjJu9e/MeqKDETwwZMoTo6Oizpi1YsIBJkyYBMGnSJObPn18//cEHH8QwDAYNGkRpaSmFhYVNnlmksRUUwK32FXUPvHz/E6igxI8VFRURHx8PQFxcHEVFRQAUFBTQrl27+uUSExMpKCho8DUyMjJwOBw4HA6Ki4uvfGiR7+GTT6BD7gqq213jlfd/+jYVlAhgGAbGd9gen56ejtPpxOl0EhMTcwWSiTSeTzNdDDVWETTC+0dPoIISP9amTZv6TXeFhYXExsYCkJCQwMGDB+uXy8/PJyEhwZKMIo3F44HizC1EmmU+sf8JVFDix0aNGsWcOXMAmDNnDqNHj66f/tZbb2GaJhs3biQqKqp+U6CIr9q2DfqdOL3/aehQa8NcIu+9xoVII5owYQKrVq3i6NGjJCYm8sc//pFf/epXjB8/ntdee42kpCQ++OADAEaOHMmSJUtITk4mLCyMN954w+L0It/f8uWnz3/q1otAH9kcbZimeaH5F5wpIl9zOBw4nU6rY4g06NYhlSxc24rg6T+G2bOtjgNw0Z2+2sQnItLMnToFrF9PsFntE4eXn6GCEhFp5latghvdK/AE2GHwYKvjXDIVlIhIM7d8OQw3VkD/ARARYXWcS6aCEhFp5j5bcoyoCDe28eOsjnJZVFAiIs1YXh503reEzmVbfGrzHqigRESateXLYRQLqY1tC337Wh3nsqigRESasZVLqxlhLMM++g6w+davfJ2oKyLSTLlcUPPJ/xJhnoTRo6yOc9l8q05FROSSbd4Mw8oX4goOg2HDrI5z2VRQIiLN1PJlJqNYiCftFggNtTrOZVNBiYg0U7nzs2jPQYLG3ml1lO9EBSUi0gyVlkLSjn/jwYDbb7c6zneighIRaYZWroQ7zIWc6j4I2rSxOs53ooISEWmGspYU0B8n4ff53tF7Z6igRESaGY8HKj9cBEDAXb65/wlUUCIizc6GDXBj2UJOxnaE1FSr43xnKigRkWZm0T/LSWMFQeNGgXHR+wJ6LV1JQkSkGTFNODb3E0KohnG+u/8JNIISEWlWtm6FQcULqQ6NghtusDrO96KCEhFpRv41z80dLMK8bSQEBlod53tRQYnfe/755+nWrRvdu3dnwoQJVFVVkZuby8CBA0lOTubee++lpqbG6pgiF2WasO+9z4ilmJB7fHvzHqigxM8VFBTw0ksv4XQ62blzJ263m7lz5/LEE08wffp09u7dS6tWrXjttdesjipyUdnZ0PPAv3Hb7DBihNVxvjcVlPg9l8tFZWUlLpeLiooK4uPjWblyJePG1d0ee9KkScyfP9/ilCIX9/HHdTcndF03BFq2tDrO96aCEr+WkJDAL37xC9q3b098fDxRUVH069ePli1bYrfXHeSamJhIQUFBg8/PyMjA4XDgcDgoLi5uyugi59j0bg7dyCbYx4/eO0MFJX6tpKSEBQsWkJuby6FDhygvLyczM/OSn5+eno7T6cTpdBITE3MFk4pc2L590O3Ljyhv0QbuusvqOI1C50GJX/v000/p0KFDfbncfffdrFu3jtLSUlwuF3a7nfz8fBISEixOKnJhH38M9/MeAV2ugaQkq+M0Co2gxK+1b9+ejRs3UlFRgWmarFixgtTUVIYOHcq8efMAmDNnDqNHj7Y4qciFbX17Fz35nJDJE6yO0mhUUOLXBg4cyLhx4+jbty89evTA4/GQnp7Os88+y3PPPUdycjLHjh3joYcesjqqyHnl50O3z9/HY9jgnnusjtNoDNM0LzT/gjNF5GsOhwOn02l1DPFD//2SycjHkom7PpnwtcusjnOpLnqRQI2gRER8XPabm7iG/YRPbT6b90AFJSLi044cgZRt71EbEAxjxlgdp1GpoEREfNjCf7m5hw8ov+l2iIqyOk6j0mHmIiI+bO//W0U8hzF/dL/VURqdRlAiIj7q6FEYfPA9qoIiMG4faXWcRqeCEhHxUf98q5rriz6i4tYxEBpqdZxGp018IiI+av/LS2nJCfhx89u8BxpBiYj4pB07oOP+5ZRHxkFamtVxrggVlIiID/rwH0eZymsYk34A9ua5Max5flciIs1YbS0Yb79FMDWQ/qDVca4YjaBERHzM4kUmE8pfpaTLIOje3eo4V4wKSkTEx3z23DpS2E3kzx+2OsoVpYISEfEhR45A6rpXqQqKIOD+e62Oc0WpoEREfMiHr5Yy1vyQirvuh/Bwq+NcUTpIQkTER5gmlL78LmFUEvbL5r15DzSCEhHxGVu3mNxe+CrF7fpAv35Wx7niVFAiIj5ixawt9CaL8Mea/+gJVFAiIj6huhpiF75KVUAYYVOb56WNvk0FJSLiA+a/c4rxrvcouXl8s7vv0/noIAkRES9nmrDnqbmEuU8R8jv/2LwHGkGJUFpayrhx4+jatSspKSls2LCB48ePM3z4cDp16sTw4cMpKSmxOqb4sXVrTW48MIccx33Yrr/W6jhNRgUlfu+xxx5jxIgR7N69m6ysLFJSUpg5cyZpaWnk5OSQlpbGzJkzrY4pfuyT365iCGtpPzkNDMPqOE3GME3zQvMvOFPE1504cYLevXuzf/9+jG/8x+/SpQurVq0iPj6ewsJCbrrpJr788ssLvpbD4cDpdF7pyOJncnMhu+Md3Bi2iRbHDkBIiNWRGstFm1YjKPFrubm5xMTE8MMf/pA+ffowdepUysvLKSoqIj4+HoC4uDiKiooafH5GRgYOhwOHw0FxcXFTRhc/8c8/7uZ2FuP+0Y+bUzldEhWU+DWXy8XWrVuZNm0a27ZtIzw8/JzNeYZhnDW6+qb09HScTidOp5OYmJimiCx+pKwMYt97nhpbMFFPTLM6TpNTQYlfS0xMJDExkYEDBwIwbtw4tm7dSps2bSgsLASgsLCQ2NhYK2OKn/rn34qZUPsWpXc+CH74M6iCEr8WFxdHu3bt6vcvrVixgtTUVEaNGsWcOXMAmDNnDqNHj7YypvghtxtO/fUfhFJF7IzpVsexhA6SEL+3fft2pk6dSk1NDR07duSNN97A4/Ewfvx4Dhw4QFJSEh988AHR0dEXfB0dJCGN6d8fVjFgfBKePg7ity62Os6VcNGDJHSirvi93r17N1gsK1assCCNSJ3s373HnRzB/ezPrY5iGW3iExHxMtu2mty+5zmOtO1FwM1DrY5jGRWUiIiX+eSXn9CFLwn/r5/71Ym536aCEhHxIgX5JoNX/oGC2N6ET2net3S/GBWUiIgXWfzoMq41NxD26MMQFGR1HEupoEREvMShApM+85+kuMXVxD4+2eo4llNBiYh4iQX/Zwn9zU3w29/5/egJVFAiIl7hqzyTgYt/T3FkR2J+/qDVcbyCCkpExAv8++GF9GUrtid/D4GBVsfxCiooERGL7d3j4YZPn+RIy060fnSi1XG8hgpKRMRiix+eT2+yCPrT78GuC/ycoYISEbFQ9uduhq1+kiPRXWg5bYLVcbyKCkpExEKrfvgmVbYwQmY/DQEBVsfxKiooERGL7FhzgrFbfkObtgFEPjjG6jheRxs7RUQsUjjtKbpTTPnbS8Cm8cK36R0REbHAmowvGLbrJXZfP5WIm/pZHccrqaBERJpYdZWJ7aePUmFrQfI/n7Y6jtdSQYmINLF/PzSf6ys/5dCPniIoIcbqOF5Lt3wXaSS65btcioN7KnF3TcWIaEHSsW3+fN7TRW90pRGUiEgTWjfmL1xt5hHyPy/5czldEhWUiEgTWf32V4zOnkF293toc5//3sr9UqmgRAC3202fPn244447AMjNzWXgwIEkJydz7733UlNTY3FC8XXV1VD+yONgGFzz8V+tjuMTVFAiwIsvvkhKSkr94yeeeILp06ezd+9eWrVqxWuvvWZhOmkOPv7JSm479SEHJ/6a4E7trY7jE1RQ4vfy8/NZvHgxU6dOBcA0TVauXMm4ceMAmDRpEvPnz7cyovi4/D0VtHr9r2RHX0/nVx+3Oo7P0B468Xs//elPmTVrFidPngTg2LFjtGzZEvvpHdiJiYkUFBQ0+NyMjAwyMjIAKC4ubprA4lNME3aMfIKRnqUUvvAJhIRYHclnaAQlfm3RokXExsbSr993O5M/PT0dp9OJ0+kkJkbns8i5MqcvY+S+v7HtxseI/8HNVsfxKRpBiV9bt24dCxcuZMmSJVRVVVFWVsZjjz1GaWkpLpcLu91Ofn4+CQkJVkcVH5TrPEbvl35IXngqvRbPsDqOz9EISvzajBkzyM/PJy8vj7lz5zJs2DDeffddhg4dyrx58wCYM2cOo0ePtjip+BpXrcn+EdNobR4l5MN3sIWHWh3J56igRBrw7LPP8txzz5GcnMyxY8d46KGHrI4kPmbxxHdJO/Yh2fc+RdxtfayO45N0qSORRqJLHckZO5ccoN3tPSi8qgddCv8Xw64bETZAlzoSEWlKVRUeKu6ZRIDhIW752yqn70EFJSLSiP4z6nkGVKwid/pLtOzTweo4Pk0FJSLSSDKf3ECLFf9iZ6/76fHXyVbH8Xk6zFxEpBFkLSmg11N34wkJJ3bZQjAuuotFLkIFJSLyPRXur8S86y4ijFPULP+UwDbRVkdqFrSJT0Tke6iuMskamE7vWifFz79L9OBuVkdqNlRQIiLfkWnCghtnM+LoO+y89090eGyU1ZGaFRWUiMh3tPCRTMZueoKdKffQ/f3fWh2n2VFBiYh8Bxve3M2Nr9zHV5E9SP3sDR0UcQWooERELtP+NQW0fugussP7E7N2PraIcKsjNUs6ik9E5DIUbDuCZ9jNJNoOEfr2O0T0uNrqSM2WRlAiIpeo8ItSTgy6lbaurzjw98W0G+OwOlKzpoISEbkExbmnONxvJMk1u8h77l90fXiw1ZGaPRWUiMhFHCuoYl+Pu+hRuYmcP80ldfqtVkfyCyooEZELKDlczeep9zKofAVfPvEG3X53t9WR/IYKSkTkPMoKy/mi6xg4WcauR16m28wfWB3Jr6igREQacGzPMYp63MzAE8toOe1+ur38iNWR/I4OMxcR+Za8NQdx3Xwr7Wr2s+O/5tHnqTFWR/JLKigRkW/Y/v4XxDxwC9FmGTn/vYw+P7nR6kh+S5v4xK8dPHiQoUOHkpqaSrdu3XjxxRcBOH78OMOHD6dTp04MHz6ckpISi5NKU1j1zDra3X8DgYaLkvmr6aFyspQKSvya3W5n9uzZZGdns3HjRl5++WWys7OZOXMmaWlp5OTkkJaWxsyZM62OKleSabLinlfo89vb2NNyAAEb1pE0qpfVqfyeCkr8Wnx8PH379gUgIiKClJQUCgoKWLBgAZMmTQJg0qRJzJ8/38qYcgVVl1Swtddk0uZNY3+b6+m9811a9+9odSxBBSVSLy8vj23btjFw4ECKioqIj48HIC4ujqKiIovTyZXw1cp9fJVwLb0/f5u1aU/SK38xoQm6G663UEGJAKdOnWLs2LG88MILREZGnjXPMAyM89xKISMjA4fDgcPhoLi4uCmiSiNZ88S/iUrrR0zVQT77r8Xc8OkfsNn1K9Gb6F9D/F5tbS1jx45l4sSJ3H133VUC2rRpQ2FhIQCFhYXExsY2+Nz09HScTidOp5OYmJgmyyzfXWVZLYsdTzJ41igOh19D+eqtXPvUbVbHkgaooMSvmabJQw89REpKCj/72c/qp48aNYo5c+YAMGfOHEaPHm1VRGlEe+dtJy9uIDFblrKp50NcU7iOxBuutjqWnIdhmuaF5l9wpoivW7t2LYMHD6ZHjx7YbHV/rz3zzDMMHDiQ8ePHc+DAAZKSkvjggw+Ijr7wvgmHw4HT6WyK2HKZqk/WsPGOP3Pd6hmcDGpN7i/+Tr+ndU09i130FsQqKJFGooLyTjte20zIj6fQuXonq6/+AV2XPE9sSmurY8klFJQ28YlIs3TycDmZjt/SbeogIlwlbH5yEUNy31I5+RAVlIg0K+4aN+umvkHN1Z0I27Kaz1Kn0CJvF/3/cLvV0eQyqaBEpNlwPruCvVH9uP61KRQFtSf6lZlct+tVIhKjrI4m34EuFisiPm/3v76gNP2XDDq6iHx7Euv/7/sMev5ebAEX3c0hXkwFJSI+K3fBDkqfmMHJLwvoTRZr7niWAe88SmJUiNXRpBFoE5+I+JwvXt+AM/5OOtzVi057FuEaNBjPnr0M/vcvCVY5NRsaQYmITzA9Jtv/8gnGzBn0Ll3FMaM1K258il6v/oRhnVpZHU+uABWUiHi10rxStv3sbRIXv0KYzU5EzTFW3vk8jv95mLT4cKvjyRWkghIRr2OakD1nM8eeeQVHzvsMpZJdLQZw7MHpXD1jDMMig62OKE1ABSUiXuPQ+jxy/vQ+sWs/IunUbpKALSkP0Ob3P6LbfX2tjidNTAUlIpY6uquIfTM/JHzhe3Qv20Bb4PMW17Jt6sv0fvIuBuscJr+lghKRpmWaFKz8kr0vLSZwzUr6lyxnIC6+DOrBirRnSP7dffS4qYPVKcULqKBE5IqrOF7FF/9YReW8xXT4YgkJ1ftJAHKCu/OftD/T7v/cTtdx3emi82rlG1RQItLo3NUucuZtp/C9VVRv3cngwx/SjwoqCGVH62Hk3PULrp42kk43JtHJ6rDitVRQIvK9lR8+yZ73nJQs3Yg7ezcDDs2nK2V0BXKCurGl91TC776VlEeGMqh1qNVxxUeooETkslSfqGLv/J0UrficgE0biP9qI9dU7aIPHgAyI+8hK3UCgTffRIfJN9KpT7xGSfKdqKBEpEGm20PhZwco+PQLSrbmErZjA4lHt5N48gu64eYagjhptCQvui+fDRlL4OBBdH5gACOu1lUdpHGooET8XFl+GYdW7+Xktr0cyy6iRfYmWh/Jpn3FbtpSQVtgHx0It1WTH9OH3B6jCbmuD+3u6E3CDR2ICdAlPeXKUEGJNGemyYkDJyjakk/pzoNUZudh5uURVfIV5UUn6VK2mRizmMjTi69nEEkBBRS2TGFTp3SCe6cQ5kjl6ttSaHlNa+Is/WbE36igRHyQu9rF8ZxjlHx5hJP7i6nKLcQsPIwr/zD2o4c5URVEyrF1xNbmE0U5UcAeOjGAHGoI5GhYew6GduLLLqPZ1aETwd2SiR6QTK/BHQiPiyDB6m9QBBWUyHllZmby2GOP4Xa7mTp1Kr/61a8a9fVNj0l5cQWnDpVRfqiUysITVB0upeZIKdUlFRiHC6HkOAEnjtPSdQzz2HGOeVrSq2ID0eZxYoDWgImNgNMHKFQSQrE9np2thlDUpicHY24jsGMiJCQS0b09h/u2J6ZnPG0DbbRt1O9GpPGpoEQa4Kp18ei0R/n4/Y+5KqI19901nmtj+9O2dRy1JyqpLavEXVlDbVhbD1kAAAlrSURBVMkp3CcrcJ+q5NT+I6y67VkoLyfIVUF1WRWB5ScIrDpJYPUpgmpOEeI6yVeByfQrX02EWUYLPLQA8kK70r1yd/3699k7c41rD6cI50RANDURrSmxR1N51TV8HpyEJzqGoMQYjNgYwq5uQ2TnOFqlxtGyXSTtbQbtrXvrRBqNYZrmheZfcKac3zffVo8HDOPrad/+XP+1aWJ6zHM/U/fXNh4Ppln39ZkPTPPraaYJ33jeOcs1MO+cZd0ePJ7ToU0Tj8tTP/1MBo+77vGZrw3Tg9sNpstdt9zpeabbg2nYMKtr6l7X5QF33TI2PNTWgllbi+lyw+nnGgHgLq85/VpuqHWdfo4bj8fAVlsFLje4XJguN5X2CMLKiwmkFleVC8PtwnDVUmkLp0VlMWGBtVSX12Jz1WLz1FJkTyTZ3ENteQ12dw12Tw0njQjiPIUEuKsJ8lQTRDXBVGPD5EBgB9rX5tb/O61iCDexGoDdQT3oWvN5/bw+BLANNwAVtnDyjXYEGzVU2VtQHdiCmqAIaoNbcCI2mVCzArNFJEZUJEbLKALjr8IeFU5IXEvC2rakRUIULTu00s33pDm76HVDmqSgPvkERo8+e9q118L69ecu27kz7Nlz9rTrroN16+q+DjRriKSMFmYZbSNOYZ48RaBZTRRlhFFBiFlJQqsKqkoqCaYKtxlANMe5um01XxyKJNEsIJBagqgBoG1UOXtKY0gyDmA3XbgIIJxyAnDjMQIINSsIwE0AbvbSiZ5BX+CucWOj7pfsTrrTm+0EGHW/0G142EYfHDix4cHAJMDwsNEcyLVswMA86+MA7elA3lnfbxY96cWOc96bjQxkEJ81+B6fIJIoys6ZXkgc8Rxu8DlruY4bOPcfYQ3XM5h1DawjgihONvhaGxjItQ1k29JiCP1OrW7wOfvoyDXsP2takT2eNq7CBpc/RDxtOXveKm5iAJ/hsdmpMQNxY8dl2DkQmEycu4CAkEAqXIG4jUDctkAOhHflans+5TVBeOyBeAKCqAqOJDjQQ60tGDMoGIKCKS47SXHZCboNGgg2G7mFBRwuPc4Nt99OULANe0Qo9sgwgiJDCGoZRnCrMG5/eBTrV60nNDoUw6Zr9ohcxPcrqBEjRphHjx793imqquDbL2O3g9tlYvPUEuCuJcBT9xeuDZMAVzU2jwubx4XHZifIVY7N46bWHkpwTd0vyFp7KIGuSgBqAsMJqi1vcN219lDs7mpMDGoDw7C7qjENA9MwcJsGATYDV0AwNnctnJ5++q0562swcNvsBOA+PfKpm+ex2TFMNwZn2tzAYwvAZrrrXoO60ZPHqFvumwwDPNgwTPOsfyrTCMDG6dHSeabXx/rGEw1bfQjMM9MN43SK0ys0v36KaXy97voR3un3oG563YKVlZWEhoaefq1vrLd+FWfeKxOjfvrpz6dfw/jWtK/f2tNfGwaG8a35Z6bZ6tZxZr5h+8ayV0hJSQllZWUkJSUBcOzYMcrLy2nf/uyNZ8XFxZz5P1JdXU3v3r2vXKhmori4mJiYGKtjeL3m/j5t2bJlmWmaIy60TNNs4jtwABYvhrw8+Oqrus9FRXVfmyYMGgQbN9Yte8MNkJUFrVvXffTtC2Vl0LIlJCXVLR8RAa1aQWgotGhR9zg0FMLCICTk7K/t59/N5nA4cDqdjfItNmf++D5t2LCBP/zhDyxbtgyAGTNmAPDrX//6vM8JDw+nvLzhP5Tka/748/Rd+MH7dNE/MZvmIIndu+GRRyAwsK5kkpKge/e6z3FxkJgIsbF1HzExdcUiYqH+/fuTk5NDbm4uCQkJzJ07l/fee8/qWCJ+pWkKavBgKCioKyObzjoX72e32/nb3/7GrbfeitvtZsqUKXTr1s3qWCJ+pWkKKjS07sPLpKenWx3BJ/jr+zRy5EhGjhx5yctfddVVVzBN8+GvP0+XS++TDjMXaTR+sM9ApDFddB+UtreJiIhXUkGdNnv2bAzDoDEOq2+OHn/8cbp27UrPnj0ZM2YMpaWlVkfyGpmZmXTp0oWdO3cyc+ZMq+N4rYMHDzJ06FBSU1Pp1q0bL774otWRvJbb7aZPnz7ccccdVkexlAqKuv84y5cvP+ccF/na8OHD2blzJzt27KBz5871h137O7fbzY9//GOWLl1Kt27deP/998nOzrY6lley2+3Mnj2b7OxsNm7cyMsvv6z36jxefPFFUlJSrI5hORUUMH36dGbNmlV38qc06JZbbsF++pyyQYMGkZ+fb3Ei77Bp0yaSk5Pp2LEjhmFw3333sWDBAqtjeaX4+Hj69u0LQEREBCkpKRQUFFicyvvk5+ezePFipk6danUUy/l9QS1YsICEhAR69epldRSf8frrr3PbbbdZHcMrFBQU0K5du/rHiYmJ+qV7CfLy8ti2bRsDBw60OorX+elPf8qsWbOw6ZQc/7ia+c0338zhw+dej+7pp5/mmWeeYfny5Rak8j4Xep9Gn76Y4tNPP43dbmfixIlNHU+aiVOnTjF27FheeOEFIiMjL/4EP7Jo0SJiY2Pp168fq1atsjqO5fyioD799NMGp3/++efk5ubWj57y8/Pp27cvmzZtIi7O/+4der736Yw333yTRYsWsWLFCm0OPS0hIYGDBw/WP87PzychQbf7O5/a2lrGjh3LxIkTufvuu62O43XWrVvHwoULWbJkCVVVVZSVlfHAAw/wzjvvWB3NEhc7D8qvGIaRBzhM09ShfN9iGMYI4DngRtM0i63O4y0Mw7ADe4A04BUgDrjfNM1dlgbzQkbdXzVzgOOmaf7U6jzezjCMm4BfmKbpt4fyaSOnXKq/ARHAJ4ZhbDcM4xWrA3kD0zRdwE+AZUAy8IHK6byuB34ADDv9M7TdMIxLv1SH+B2NoERExCtpBCUiIl5JBSUiIl5JBSUiIl5JBSUiIl5JBSUiIl5JBSUiIl5JBSUiIl5JBSUiIk3CMIz+hmHsMAwjxDCMcMMwdhmG0f28y+tEXRERaSqGYfwZCAFCgXzTNM97czkVlIiINBnDMIKAzUAVcJ1pmu7zLatNfCIi0pRaAy2ou7ZnyIUW1AhKRESajGEYC4G5QAcg3jTNn5xvWb+4H5SIiFjPMIwHgVrTNN8zDCMAWG8YxjDTNFc2uLxGUCIi4o20D0pERLySCkpERLySCkpERLySCkpERLySCkpERLySCkpERLySCkpERLySCkpERLzS/we/DnuS/qJ5CAAAAABJRU5ErkJggg==\n",
                  "text/plain": [
                    "<Figure size 432x288 with 1 Axes>"
                  ]
                },
                "metadata": {
                  "needs_background": "light"
                }
              }
            ],
            "_view_module": "@jupyter-widgets/output",
            "_model_module_version": "1.0.0",
            "_view_count": null,
            "_view_module_version": "1.0.0",
            "layout": "IPY_MODEL_0b67ddb681724c749fc50d953a3e75e7",
            "_model_module": "@jupyter-widgets/output"
          }
        },
        "544ce52649ae4ef4949b0e6fade7bc78": {
          "model_module": "@jupyter-widgets/controls",
          "model_name": "SliderStyleModel",
          "model_module_version": "1.5.0",
          "state": {
            "_view_name": "StyleView",
            "handle_color": null,
            "_model_name": "SliderStyleModel",
            "description_width": "",
            "_view_module": "@jupyter-widgets/base",
            "_model_module_version": "1.5.0",
            "_view_count": null,
            "_view_module_version": "1.2.0",
            "_model_module": "@jupyter-widgets/controls"
          }
        },
        "3322df5eb12342388b070efd9b01fe88": {
          "model_module": "@jupyter-widgets/base",
          "model_name": "LayoutModel",
          "model_module_version": "1.2.0",
          "state": {
            "_view_name": "LayoutView",
            "grid_template_rows": null,
            "right": null,
            "justify_content": null,
            "_view_module": "@jupyter-widgets/base",
            "overflow": null,
            "_model_module_version": "1.2.0",
            "_view_count": null,
            "flex_flow": null,
            "width": null,
            "min_width": null,
            "border": null,
            "align_items": null,
            "bottom": null,
            "_model_module": "@jupyter-widgets/base",
            "top": null,
            "grid_column": null,
            "overflow_y": null,
            "overflow_x": null,
            "grid_auto_flow": null,
            "grid_area": null,
            "grid_template_columns": null,
            "flex": null,
            "_model_name": "LayoutModel",
            "justify_items": null,
            "grid_row": null,
            "max_height": null,
            "align_content": null,
            "visibility": null,
            "align_self": null,
            "height": null,
            "min_height": null,
            "padding": null,
            "grid_auto_rows": null,
            "grid_gap": null,
            "max_width": null,
            "order": null,
            "_view_module_version": "1.2.0",
            "grid_template_areas": null,
            "object_position": null,
            "object_fit": null,
            "grid_auto_columns": null,
            "margin": null,
            "display": null,
            "left": null
          }
        },
        "0b67ddb681724c749fc50d953a3e75e7": {
          "model_module": "@jupyter-widgets/base",
          "model_name": "LayoutModel",
          "model_module_version": "1.2.0",
          "state": {
            "_view_name": "LayoutView",
            "grid_template_rows": null,
            "right": null,
            "justify_content": null,
            "_view_module": "@jupyter-widgets/base",
            "overflow": null,
            "_model_module_version": "1.2.0",
            "_view_count": null,
            "flex_flow": null,
            "width": null,
            "min_width": null,
            "border": null,
            "align_items": null,
            "bottom": null,
            "_model_module": "@jupyter-widgets/base",
            "top": null,
            "grid_column": null,
            "overflow_y": null,
            "overflow_x": null,
            "grid_auto_flow": null,
            "grid_area": null,
            "grid_template_columns": null,
            "flex": null,
            "_model_name": "LayoutModel",
            "justify_items": null,
            "grid_row": null,
            "max_height": null,
            "align_content": null,
            "visibility": null,
            "align_self": null,
            "height": null,
            "min_height": null,
            "padding": null,
            "grid_auto_rows": null,
            "grid_gap": null,
            "max_width": null,
            "order": null,
            "_view_module_version": "1.2.0",
            "grid_template_areas": null,
            "object_position": null,
            "object_fit": null,
            "grid_auto_columns": null,
            "margin": null,
            "display": null,
            "left": null
          }
        }
      }
    }
  },
  "cells": [
    {
      "cell_type": "markdown",
      "metadata": {
        "id": "view-in-github",
        "colab_type": "text"
      },
      "source": [
        "<a href=\"https://colab.research.google.com/github/yenlung/Math-in-Jupyter/blob/main/%E4%BD%BF%E7%94%A8%20sympy%20%E5%92%8C%E5%BE%AE%E7%A9%8D%E5%88%86%E7%9A%84%E5%90%84%E7%A8%AE%E7%8E%A9%E8%80%8D.ipynb\" target=\"_parent\"><img src=\"https://colab.research.google.com/assets/colab-badge.svg\" alt=\"Open In Colab\"/></a>"
      ]
    },
    {
      "cell_type": "markdown",
      "source": [
        "![Colab課程用.001拷貝.png](data:image/png;base64,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)"
      ],
      "metadata": {
        "id": "mshK6xSZu__H"
      }
    },
    {
      "cell_type": "markdown",
      "metadata": {
        "id": "GkSZoJAJrKkG"
      },
      "source": [
        "## 1. 讀入我們要使用的套件\n",
        "\n",
        "以下是一般任何數據分析, 我們推薦的標準套件。"
      ]
    },
    {
      "cell_type": "code",
      "metadata": {
        "id": "R6t8RmS5rg_u"
      },
      "source": [
        "%matplotlib inline\n",
        "\n",
        "import numpy as np\n",
        "import pandas as pd\n",
        "import matplotlib.pyplot as plt"
      ],
      "execution_count": null,
      "outputs": []
    },
    {
      "cell_type": "markdown",
      "metadata": {
        "id": "UiAsZt9OrpK3"
      },
      "source": [
        "今天我們主角是符號型運算的 `sympy` (symbolic python)。符號型運算其實就是「數學課」用的運算方式, 例如 1/2 + 1/3 要告訴我們精確的 5/6, 而不是近似的數值解。"
      ]
    },
    {
      "cell_type": "code",
      "metadata": {
        "id": "fQVbXgrbsGh-"
      },
      "source": [
        "import sympy as sp"
      ],
      "execution_count": null,
      "outputs": []
    },
    {
      "cell_type": "markdown",
      "metadata": {
        "id": "Ev5m1IkxsKgt"
      },
      "source": [
        "## 2. `sympy` 化\n",
        "\n",
        "我們先用一個簡單的例子來看符號型運算和傳統的數值型運算有什麼不同, 順便瞭解一下什麼叫 `sympy` 化。"
      ]
    },
    {
      "cell_type": "code",
      "metadata": {
        "colab": {
          "base_uri": "https://localhost:8080/"
        },
        "id": "B42c2Be1tGW8",
        "outputId": "47fa6192-4886-4ce5-bcb0-2ffe22464812"
      },
      "source": [
        "1/2 + 1/3"
      ],
      "execution_count": null,
      "outputs": [
        {
          "output_type": "execute_result",
          "data": {
            "text/plain": [
              "0.8333333333333333"
            ]
          },
          "metadata": {},
          "execution_count": 3
        }
      ]
    },
    {
      "cell_type": "markdown",
      "metadata": {
        "id": "VGsF1ANbtH8F"
      },
      "source": [
        "這一般電腦的計算, 很明顯是數值的近似解。現在我們要告訴電腦用 `sympy` 去算, 要用一個叫 `sympify` (也就是 `sympy` 化) 的指令, 但 `sympify` 也未免太長了, 所以有一個簡化到不能再簡化的版本 `S`。"
      ]
    },
    {
      "cell_type": "code",
      "metadata": {
        "id": "NQtAx-iTuP25"
      },
      "source": [
        "from sympy import S"
      ],
      "execution_count": null,
      "outputs": []
    },
    {
      "cell_type": "code",
      "metadata": {
        "colab": {
          "base_uri": "https://localhost:8080/",
          "height": 51
        },
        "id": "wXWCqT6UuSlZ",
        "outputId": "38de74cd-0842-4ea4-c7f9-6a79d70afbff"
      },
      "source": [
        "S(1)/2 + S(1)/3"
      ],
      "execution_count": null,
      "outputs": [
        {
          "output_type": "execute_result",
          "data": {
            "text/latex": "$\\displaystyle \\frac{5}{6}$",
            "text/plain": [
              "5/6"
            ]
          },
          "metadata": {},
          "execution_count": 5
        }
      ]
    },
    {
      "cell_type": "markdown",
      "metadata": {
        "id": "s-Bd1Cz8uT2K"
      },
      "source": [
        "本來就是交給 `sympy` 算的我們自然是不用擔心。"
      ]
    },
    {
      "cell_type": "code",
      "metadata": {
        "colab": {
          "base_uri": "https://localhost:8080/",
          "height": 38
        },
        "id": "Kdv0_vX_vJc3",
        "outputId": "8c5d26c4-dd6c-4e4c-95b2-6061ee229491"
      },
      "source": [
        "sp.sqrt(2) * sp.sqrt(3)"
      ],
      "execution_count": null,
      "outputs": [
        {
          "output_type": "execute_result",
          "data": {
            "text/latex": "$\\displaystyle \\sqrt{6}$",
            "text/plain": [
              "sqrt(6)"
            ]
          },
          "metadata": {},
          "execution_count": 6
        }
      ]
    },
    {
      "cell_type": "markdown",
      "metadata": {
        "id": "7JA9EON8vMp3"
      },
      "source": [
        "如果我們要看到近似的數值, 可以用 `n` 這個 method。"
      ]
    },
    {
      "cell_type": "code",
      "metadata": {
        "id": "VYgwCYhWve2P"
      },
      "source": [
        "π = sp.pi"
      ],
      "execution_count": null,
      "outputs": []
    },
    {
      "cell_type": "code",
      "metadata": {
        "colab": {
          "base_uri": "https://localhost:8080/",
          "height": 38
        },
        "id": "JIg00J_Iviik",
        "outputId": "88fba8be-325d-4b65-c193-ce89e2dd5c67"
      },
      "source": [
        "π"
      ],
      "execution_count": null,
      "outputs": [
        {
          "output_type": "execute_result",
          "data": {
            "text/latex": "$\\displaystyle \\pi$",
            "text/plain": [
              "pi"
            ]
          },
          "metadata": {},
          "execution_count": 8
        }
      ]
    },
    {
      "cell_type": "code",
      "metadata": {
        "colab": {
          "base_uri": "https://localhost:8080/",
          "height": 37
        },
        "id": "kaw1UcfWvjyc",
        "outputId": "5b87b4e9-930b-407e-91e7-ac9fcbf8226d"
      },
      "source": [
        "π.n(100)"
      ],
      "execution_count": null,
      "outputs": [
        {
          "output_type": "execute_result",
          "data": {
            "text/latex": "$\\displaystyle 3.141592653589793238462643383279502884197169399375105820974944592307816406286208998628034825342117068$",
            "text/plain": [
              "3.141592653589793238462643383279502884197169399375105820974944592307816406286208998628034825342117068"
            ]
          },
          "metadata": {},
          "execution_count": 9
        }
      ]
    },
    {
      "cell_type": "markdown",
      "metadata": {
        "id": "0Fsy6lhjvmW_"
      },
      "source": [
        "考一下 `sympy` 三角函數程度如何。"
      ]
    },
    {
      "cell_type": "code",
      "metadata": {
        "colab": {
          "base_uri": "https://localhost:8080/",
          "height": 55
        },
        "id": "KzlPxkdxv0tP",
        "outputId": "ae4391bf-7b1c-4b41-bc72-92a33e0a87ce"
      },
      "source": [
        "sp.sin(π/3)"
      ],
      "execution_count": null,
      "outputs": [
        {
          "output_type": "execute_result",
          "data": {
            "text/latex": "$\\displaystyle \\frac{\\sqrt{3}}{2}$",
            "text/plain": [
              "sqrt(3)/2"
            ]
          },
          "metadata": {},
          "execution_count": 10
        }
      ]
    },
    {
      "cell_type": "markdown",
      "metadata": {
        "id": "44rtwPCEv50i"
      },
      "source": [
        "## 3. 令數學式子用的變數\n",
        "\n",
        "電腦中的變數都要先給一個數值, 比如說\n",
        "\n",
        "```python\n",
        "egg = 87\n",
        "```\n",
        "\n",
        "不然呼叫時會出現錯誤。但是數學中我們常常要用的變數, 像是\n",
        "\n",
        "$$f(x) = x^2$$\n",
        "\n",
        "沒有指定值是多少, 甚至這樣就要給他微分或積分, 這該如何是好? 所以在 `sympy` 中就要有意識的告訴 Python, 這是我們要留給數學變數用的。定義方式有三種。"
      ]
    },
    {
      "cell_type": "markdown",
      "metadata": {
        "id": "rOJH4j12yfIu"
      },
      "source": [
        "### (1) 使用 `Symbol`\n",
        "\n",
        "假設我們要把 $x$ 定義為數學上的變數。\n",
        "\n"
      ]
    },
    {
      "cell_type": "code",
      "metadata": {
        "id": "L5gM-m87ytzK"
      },
      "source": [
        "x = sp.Symbol('x')"
      ],
      "execution_count": null,
      "outputs": []
    },
    {
      "cell_type": "code",
      "metadata": {
        "colab": {
          "base_uri": "https://localhost:8080/",
          "height": 38
        },
        "id": "XX_v_iuHyv1T",
        "outputId": "1f4bbf53-f5aa-452a-d663-864698073235"
      },
      "source": [
        "x**2"
      ],
      "execution_count": null,
      "outputs": [
        {
          "output_type": "execute_result",
          "data": {
            "text/latex": "$\\displaystyle x^{2}$",
            "text/plain": [
              "x**2"
            ]
          },
          "metadata": {},
          "execution_count": 12
        }
      ]
    },
    {
      "cell_type": "markdown",
      "metadata": {
        "id": "gZLHP0fgywsp"
      },
      "source": [
        "是不是! Python 真的不會抱怨了! 但是為什麼這裡 $x$ 要寫兩次呢? 原因是前面的 `x` 是我們在電腦中要用的變數名稱, 後面的是顯示的名稱。在正常情況, 這兩者名稱當然是一樣的, 但有時我們也會設不一樣的名稱。\n",
        "\n",
        "比如說下面這個例子。"
      ]
    },
    {
      "cell_type": "code",
      "metadata": {
        "id": "bP24MPHtzdsP"
      },
      "source": [
        "alpha = sp.Symbol('alp')"
      ],
      "execution_count": null,
      "outputs": []
    },
    {
      "cell_type": "code",
      "metadata": {
        "colab": {
          "base_uri": "https://localhost:8080/",
          "height": 38
        },
        "id": "B3r3N-HQzhIL",
        "outputId": "554fd196-c560-440e-bb77-d48fe613645e"
      },
      "source": [
        "alpha**2"
      ],
      "execution_count": null,
      "outputs": [
        {
          "output_type": "execute_result",
          "data": {
            "text/latex": "$\\displaystyle alp^{2}$",
            "text/plain": [
              "alp**2"
            ]
          },
          "metadata": {},
          "execution_count": 14
        }
      ]
    },
    {
      "cell_type": "markdown",
      "metadata": {
        "id": "bdGh7SJSzh8p"
      },
      "source": [
        "這很醜啊, `sympy` 知道你想要什麼, 所以如果看到顯示名稱叫 `alpha`, 他會知道要顯示 $\\alpha$!"
      ]
    },
    {
      "cell_type": "code",
      "metadata": {
        "id": "OZFlQGxQ0Ibj"
      },
      "source": [
        "alpha = sp.Symbol('alpha')"
      ],
      "execution_count": null,
      "outputs": []
    },
    {
      "cell_type": "code",
      "metadata": {
        "colab": {
          "base_uri": "https://localhost:8080/",
          "height": 37
        },
        "id": "d4Jgf7Fc0KdP",
        "outputId": "a8bdf546-1b26-4286-805c-6672774a1e36"
      },
      "source": [
        "sp.sqrt(alpha)"
      ],
      "execution_count": null,
      "outputs": [
        {
          "output_type": "execute_result",
          "data": {
            "text/latex": "$\\displaystyle \\sqrt{\\alpha}$",
            "text/plain": [
              "sqrt(alpha)"
            ]
          },
          "metadata": {},
          "execution_count": 16
        }
      ]
    },
    {
      "cell_type": "markdown",
      "metadata": {
        "id": "m9UKXkEb0PGW"
      },
      "source": [
        "### (2) 用 `symbols` 一次令多個變數\n",
        "\n",
        "事實上我們很少用 `Symbol` 這個指令, 而是用更方便的版本, 一次令多個變數的 `symbols` (沒錯, 變小寫加 `s`!)"
      ]
    },
    {
      "cell_type": "code",
      "metadata": {
        "id": "p9d5Rnry1Mpz"
      },
      "source": [
        "x, y, z = sp.symbols('x,y,z')"
      ],
      "execution_count": null,
      "outputs": []
    },
    {
      "cell_type": "markdown",
      "metadata": {
        "id": "22fR7FnN1QTu"
      },
      "source": [
        "試用一下。"
      ]
    },
    {
      "cell_type": "code",
      "metadata": {
        "colab": {
          "base_uri": "https://localhost:8080/",
          "height": 38
        },
        "id": "JOHjEgUR1W63",
        "outputId": "0acac939-b586-4584-c4bf-2bda0cda97d7"
      },
      "source": [
        "x**2 * y + 2*z"
      ],
      "execution_count": null,
      "outputs": [
        {
          "output_type": "execute_result",
          "data": {
            "text/latex": "$\\displaystyle x^{2} y + 2 z$",
            "text/plain": [
              "x**2*y + 2*z"
            ]
          },
          "metadata": {},
          "execution_count": 18
        }
      ]
    },
    {
      "cell_type": "markdown",
      "metadata": {
        "id": "79BmKyOo1Z-8"
      },
      "source": [
        "### (3) 神秘的 `abc` 子套件\n",
        "\n",
        "雖然偶而我們會想把變數名稱、顯示名稱選用不同的名字 (例如 `a` 這個變數, 顯示名稱是 $\\alpha$。但很多情況我們會用相同的名稱, 那不管用 `Symbol` 或 `symbols` 都太麻煩了。\n",
        "\n",
        "這裡我們介紹 `abc` 這個在 `sympy` 中的神秘子套件, 把\n",
        "\n",
        "$$x, y, z, a, b, c, \\alpha, \\beta, \\gamma$$\n",
        "\n",
        "全部設成我們要當 `sympy` 用的變數。"
      ]
    },
    {
      "cell_type": "code",
      "metadata": {
        "id": "i0Ah3Mzh2jaH"
      },
      "source": [
        "from sympy.abc import x, y, z, t, a, b, c, alpha, beta, gamma"
      ],
      "execution_count": null,
      "outputs": []
    },
    {
      "cell_type": "markdown",
      "metadata": {
        "id": "se5Kixyo2nrq"
      },
      "source": [
        "我們來試試看。"
      ]
    },
    {
      "cell_type": "code",
      "metadata": {
        "colab": {
          "base_uri": "https://localhost:8080/",
          "height": 38
        },
        "id": "bYYmBCss2uOJ",
        "outputId": "0eefbe82-796c-472b-fe03-180c53d2c991"
      },
      "source": [
        "a*x + b*y + c*z + gamma*x**2"
      ],
      "execution_count": null,
      "outputs": [
        {
          "output_type": "execute_result",
          "data": {
            "text/latex": "$\\displaystyle a x + b y + c z + \\gamma x^{2}$",
            "text/plain": [
              "a*x + b*y + c*z + gamma*x**2"
            ]
          },
          "metadata": {},
          "execution_count": 20
        }
      ]
    },
    {
      "cell_type": "markdown",
      "metadata": {
        "id": "ftQUcHGA21oS"
      },
      "source": [
        "## 4. 令一個給 `sympy` 用的函數"
      ]
    },
    {
      "cell_type": "markdown",
      "metadata": {
        "id": "bE8G9STvT1ZW"
      },
      "source": [
        "### 定義一個計算式子\n",
        "\n",
        "在 `sympy` 中要令一個函數 (事實上是定義一個式子) 很簡單。"
      ]
    },
    {
      "cell_type": "code",
      "metadata": {
        "id": "fBMAAVMN3zkW"
      },
      "source": [
        "f = x**2"
      ],
      "execution_count": null,
      "outputs": []
    },
    {
      "cell_type": "code",
      "metadata": {
        "colab": {
          "base_uri": "https://localhost:8080/",
          "height": 38
        },
        "id": "vhWqxGKG3024",
        "outputId": "d7425213-d7ca-483d-f100-f2f0ad8322c5"
      },
      "source": [
        "f"
      ],
      "execution_count": null,
      "outputs": [
        {
          "output_type": "execute_result",
          "data": {
            "text/latex": "$\\displaystyle x^{2}$",
            "text/plain": [
              "x**2"
            ]
          },
          "metadata": {},
          "execution_count": 22
        }
      ]
    },
    {
      "cell_type": "markdown",
      "metadata": {
        "id": "dq0jor2rUScV"
      },
      "source": [
        "### 用 `subs` 代值"
      ]
    },
    {
      "cell_type": "markdown",
      "metadata": {
        "id": "KyWYCdCx31Ka"
      },
      "source": [
        "但要記得, 這不是一個 Python 的函式, 所以要計算 $f(87)$ 不能用\n",
        "\n",
        "```python\n",
        "f(87)\n",
        "```\n",
        "\n",
        "要用 `subs` 代入。"
      ]
    },
    {
      "cell_type": "code",
      "metadata": {
        "colab": {
          "base_uri": "https://localhost:8080/",
          "height": 37
        },
        "id": "U7UvzkEQ5wmZ",
        "outputId": "ac6c58d5-596f-42ad-b40e-768857eac67d"
      },
      "source": [
        "f.subs(x, 87)"
      ],
      "execution_count": null,
      "outputs": [
        {
          "output_type": "execute_result",
          "data": {
            "text/latex": "$\\displaystyle 7569$",
            "text/plain": [
              "7569"
            ]
          },
          "metadata": {},
          "execution_count": 23
        }
      ]
    },
    {
      "cell_type": "markdown",
      "metadata": {
        "id": "M6fYeOSR5ymA"
      },
      "source": [
        "### 多個變數代值\n",
        "\n",
        "要是這函式有多個變數怎麼辦呢? 那就用一個串列。"
      ]
    },
    {
      "cell_type": "code",
      "metadata": {
        "id": "k2aykfQz58eg"
      },
      "source": [
        "g = x*y + 1"
      ],
      "execution_count": null,
      "outputs": []
    },
    {
      "cell_type": "code",
      "metadata": {
        "colab": {
          "base_uri": "https://localhost:8080/",
          "height": 37
        },
        "id": "FBJrKyE36B6w",
        "outputId": "3bc01e05-8460-4f0f-b953-8580e9978b56"
      },
      "source": [
        "g.subs([(x, 94), (y, 87)])"
      ],
      "execution_count": null,
      "outputs": [
        {
          "output_type": "execute_result",
          "data": {
            "text/latex": "$\\displaystyle 8179$",
            "text/plain": [
              "8179"
            ]
          },
          "metadata": {},
          "execution_count": 25
        }
      ]
    },
    {
      "cell_type": "markdown",
      "metadata": {
        "id": "GQXbeu2q6F0P"
      },
      "source": [
        "### 畫出函數圖形\n",
        "\n",
        "我們甚至可以快速畫出這個函數的圖形。"
      ]
    },
    {
      "cell_type": "code",
      "metadata": {
        "colab": {
          "base_uri": "https://localhost:8080/",
          "height": 315
        },
        "id": "5zzgQOhA66Yt",
        "outputId": "a44f168f-cb76-416b-b829-c663273ff812"
      },
      "source": [
        "sp.plot(f)"
      ],
      "execution_count": null,
      "outputs": [
        {
          "output_type": "display_data",
          "data": {
            "image/png": "[encoded data removed]",
            "text/plain": [
              "<Figure size 432x288 with 1 Axes>"
            ]
          },
          "metadata": {
            "needs_background": "light"
          }
        },
        {
          "output_type": "execute_result",
          "data": {
            "text/plain": [
              "<sympy.plotting.plot.Plot at 0x7f0ccde30b10>"
            ]
          },
          "metadata": {},
          "execution_count": 26
        }
      ]
    },
    {
      "cell_type": "markdown",
      "metadata": {
        "id": "IJAIcQ797Eui"
      },
      "source": [
        "也可以指定 $x$ 的範圍。"
      ]
    },
    {
      "cell_type": "code",
      "metadata": {
        "colab": {
          "base_uri": "https://localhost:8080/",
          "height": 315
        },
        "id": "jvv9LDjm7LAg",
        "outputId": "b3144c98-0e08-4f7e-8102-13ce30c9becf"
      },
      "source": [
        "sp.plot(f, (x, -5, 5))"
      ],
      "execution_count": null,
      "outputs": [
        {
          "output_type": "display_data",
          "data": {
            "image/png": "[encoded data removed]",
            "text/plain": [
              "<Figure size 432x288 with 1 Axes>"
            ]
          },
          "metadata": {
            "needs_background": "light"
          }
        },
        {
          "output_type": "execute_result",
          "data": {
            "text/plain": [
              "<sympy.plotting.plot.Plot at 0x7f0cc5685710>"
            ]
          },
          "metadata": {},
          "execution_count": 27
        }
      ]
    },
    {
      "cell_type": "markdown",
      "metadata": {
        "id": "PYpyzkKM7NcH"
      },
      "source": [
        "### 用 `PlotGrid` 同時顯示多個圖\n",
        "\n",
        "比較進階的是我們可以用 PlotGrid 同時顯式多個圖形。我們來用四大天王函數來試試。\n"
      ]
    },
    {
      "cell_type": "code",
      "metadata": {
        "id": "FCuup6Ax9Py8"
      },
      "source": [
        "from sympy.plotting import PlotGrid"
      ],
      "execution_count": null,
      "outputs": []
    },
    {
      "cell_type": "code",
      "metadata": {
        "id": "cd1uECRn9YYD"
      },
      "source": [
        "p1 = sp.plot(x**2,  show=False)\n",
        "p2 = sp.plot(sp.exp(x), show=False)\n",
        "p3 = sp.plot(sp.log(x), show=False)\n",
        "p4 = sp.plot(sp.sin(x), show=False)"
      ],
      "execution_count": null,
      "outputs": []
    },
    {
      "cell_type": "code",
      "metadata": {
        "colab": {
          "base_uri": "https://localhost:8080/",
          "height": 315
        },
        "id": "8d56NJtR9m-6",
        "outputId": "559171e0-700c-4a8a-94fe-34fe531ba80c"
      },
      "source": [
        "PlotGrid(2, 2, p1, p2, p3, p4)"
      ],
      "execution_count": null,
      "outputs": [
        {
          "output_type": "display_data",
          "data": {
            "image/png": "[encoded data removed]",
            "text/plain": [
              "<Figure size 432x288 with 4 Axes>"
            ]
          },
          "metadata": {
            "needs_background": "light"
          }
        },
        {
          "output_type": "execute_result",
          "data": {
            "text/plain": [
              "<sympy.plotting.plot.PlotGrid at 0x7f0cc5617a90>"
            ]
          },
          "metadata": {},
          "execution_count": 30
        }
      ]
    },
    {
      "cell_type": "markdown",
      "metadata": {
        "id": "kA3hFzlh9pUJ"
      },
      "source": [
        "## 5. 來和 `sympy` 比求極限的功力"
      ]
    },
    {
      "cell_type": "markdown",
      "metadata": {
        "id": "pjzwmym9U3N5"
      },
      "source": [
        "### 極限的基本求法\n",
        "\n",
        "我們終於要進行和微積分相關的內容了! 首先是求極限, 基本用法很簡單直覺:\n",
        "\n",
        "```python\n",
        "sp.limit(函數, 變數, 求極限的點)\n",
        "```"
      ]
    },
    {
      "cell_type": "code",
      "metadata": {
        "colab": {
          "base_uri": "https://localhost:8080/",
          "height": 37
        },
        "id": "wmSnFe4v_hjb",
        "outputId": "8b9dfd4f-377c-49de-9277-1f9e684e74ce"
      },
      "source": [
        "sp.limit(x**2+1, x, 2)"
      ],
      "execution_count": null,
      "outputs": [
        {
          "output_type": "execute_result",
          "data": {
            "text/latex": "$\\displaystyle 5$",
            "text/plain": [
              "5"
            ]
          },
          "metadata": {},
          "execution_count": 31
        }
      ]
    },
    {
      "cell_type": "markdown",
      "metadata": {
        "id": "LBa3piTS_oU-"
      },
      "source": [
        "哦, `sympy` 會耶! 但這麼簡單的實在沒有很令人感動。來個略略難一點的例子。"
      ]
    },
    {
      "cell_type": "code",
      "metadata": {
        "id": "CaRbUzHyAABX"
      },
      "source": [
        "f = (x**2+2*x-3)/(x-1)"
      ],
      "execution_count": null,
      "outputs": []
    },
    {
      "cell_type": "code",
      "metadata": {
        "colab": {
          "base_uri": "https://localhost:8080/",
          "height": 55
        },
        "id": "sCYrEA4xAIk2",
        "outputId": "e409c80e-8ceb-443a-f62c-d65acee2840d"
      },
      "source": [
        "f"
      ],
      "execution_count": null,
      "outputs": [
        {
          "output_type": "execute_result",
          "data": {
            "text/latex": "$\\displaystyle \\frac{x^{2} + 2 x - 3}{x - 1}$",
            "text/plain": [
              "(x**2 + 2*x - 3)/(x - 1)"
            ]
          },
          "metadata": {},
          "execution_count": 33
        }
      ]
    },
    {
      "cell_type": "code",
      "metadata": {
        "colab": {
          "base_uri": "https://localhost:8080/",
          "height": 37
        },
        "id": "gPU48kfXAIxB",
        "outputId": "1528bb30-8423-4e00-ab2f-1f241d98f36b"
      },
      "source": [
        "sp.limit(f, x, 1)"
      ],
      "execution_count": null,
      "outputs": [
        {
          "output_type": "execute_result",
          "data": {
            "text/latex": "$\\displaystyle 4$",
            "text/plain": [
              "4"
            ]
          },
          "metadata": {},
          "execution_count": 34
        }
      ]
    },
    {
      "cell_type": "markdown",
      "metadata": {
        "id": "OaK_qEQ9ALOJ"
      },
      "source": [
        "### 分段定義函數\n",
        "\n",
        "分段定義函數是可能的嗎? 比方說課本習題的一個例子:\n",
        "\n",
        "$$f(x) = \\begin{cases}\n",
        "2x+1 & \\mbox{當 } x\\leq 2\\\\\n",
        "7-x  & \\mbox{當 } 2< x < 4\\\\\n",
        "x    & \\mbox{當 } x\\geq 4\n",
        "\\end{cases}$$"
      ]
    },
    {
      "cell_type": "code",
      "metadata": {
        "id": "tJQoSrDwCb2s"
      },
      "source": [
        "f = sp.Piecewise((2*x+1, x<=2), (7-x, x<4), (x, True))"
      ],
      "execution_count": null,
      "outputs": []
    },
    {
      "cell_type": "markdown",
      "metadata": {
        "id": "vzxuoSjjJprs"
      },
      "source": [
        "### 不連續函數畫圖技巧\n",
        "\n",
        "這個函數在 $x=4$ 是不連續的, 如果沒有不連續的點, `sympy` 要畫個分段定義函數還是強強的。但是有不連續的點, `sympy` 會把這點連起來! 為了看到正確的圖形, 我們用了分開畫的小技巧。"
      ]
    },
    {
      "cell_type": "code",
      "metadata": {
        "colab": {
          "base_uri": "https://localhost:8080/",
          "height": 297
        },
        "id": "qSAUo8pZHPdG",
        "outputId": "3cc1b140-cc3b-46b9-88da-d1f55885cafc"
      },
      "source": [
        "p1 = sp.plot(f, (x, 0, 3.99), show=False)\n",
        "p2 = sp.plot(f, (x, 4, 6), show=False)\n",
        "p1.extend(p2)\n",
        "p1.show()"
      ],
      "execution_count": null,
      "outputs": [
        {
          "output_type": "display_data",
          "data": {
            "image/png": "[encoded data removed]",
            "text/plain": [
              "<Figure size 432x288 with 1 Axes>"
            ]
          },
          "metadata": {
            "needs_background": "light"
          }
        }
      ]
    },
    {
      "cell_type": "markdown",
      "metadata": {
        "id": "fACUMy6IC3Zy"
      },
      "source": [
        "### 單邊極限的計算\n",
        "\n",
        "然後我們想計算\n",
        "\n",
        "$$\\lim_{x \\to 4^-} f(x)$$\n",
        "\n",
        "和\n",
        "\n",
        "$$\\lim_{x \\to 4^+} f(x)$$\n",
        "\n",
        "首先先看一般極限的計算。"
      ]
    },
    {
      "cell_type": "code",
      "metadata": {
        "colab": {
          "base_uri": "https://localhost:8080/",
          "height": 37
        },
        "id": "h4Hr5LqKC6JH",
        "outputId": "6eefd2fa-dcf9-45c0-ee80-9230ecdb4597"
      },
      "source": [
        "sp.limit(f, x, 5)"
      ],
      "execution_count": null,
      "outputs": [
        {
          "output_type": "execute_result",
          "data": {
            "text/latex": "$\\displaystyle 5$",
            "text/plain": [
              "5"
            ]
          },
          "metadata": {},
          "execution_count": 37
        }
      ]
    },
    {
      "cell_type": "markdown",
      "metadata": {
        "id": "3YceATE-DXQ6"
      },
      "source": [
        "這是正確的, 可惜單邊極限在 `sympy` 有 bug, 我們只好算更簡單的單邊極限。"
      ]
    },
    {
      "cell_type": "code",
      "metadata": {
        "colab": {
          "base_uri": "https://localhost:8080/",
          "height": 37
        },
        "id": "wqRnDceaFMXf",
        "outputId": "4cfa2779-a5e8-489f-a170-7f92796d8d25"
      },
      "source": [
        "sp.limit(1/x, x, 0, '+')"
      ],
      "execution_count": null,
      "outputs": [
        {
          "output_type": "execute_result",
          "data": {
            "text/latex": "$\\displaystyle \\infty$",
            "text/plain": [
              "oo"
            ]
          },
          "metadata": {},
          "execution_count": 38
        }
      ]
    },
    {
      "cell_type": "code",
      "metadata": {
        "colab": {
          "base_uri": "https://localhost:8080/",
          "height": 37
        },
        "id": "Pwyl9N2AFPmH",
        "outputId": "d0d9aed5-0a98-4c0e-c454-c37fb594e89a"
      },
      "source": [
        "sp.limit(1/x, x, 0, '-')"
      ],
      "execution_count": null,
      "outputs": [
        {
          "output_type": "execute_result",
          "data": {
            "text/latex": "$\\displaystyle -\\infty$",
            "text/plain": [
              "-oo"
            ]
          },
          "metadata": {},
          "execution_count": 39
        }
      ]
    },
    {
      "cell_type": "markdown",
      "metadata": {
        "id": "x3FX2z9XFSax"
      },
      "source": [
        "### 無窮大 $\\infty$ 的輸入方式\n",
        "\n",
        "順便說明一下, 在 `sympy` 要表示 $\\infty$ 是用很可愛的 `oo`。"
      ]
    },
    {
      "cell_type": "code",
      "metadata": {
        "id": "74sU051nF9bW"
      },
      "source": [
        "f = (4*x**3-5)/(x**3-2*x+9487)"
      ],
      "execution_count": null,
      "outputs": []
    },
    {
      "cell_type": "code",
      "metadata": {
        "colab": {
          "base_uri": "https://localhost:8080/",
          "height": 55
        },
        "id": "HSEUgGFSGfyj",
        "outputId": "61aff855-dacc-4520-bdb2-5cd940e88b89"
      },
      "source": [
        "f"
      ],
      "execution_count": null,
      "outputs": [
        {
          "output_type": "execute_result",
          "data": {
            "text/latex": "$\\displaystyle \\frac{4 x^{3} - 5}{x^{3} - 2 x + 9487}$",
            "text/plain": [
              "(4*x**3 - 5)/(x**3 - 2*x + 9487)"
            ]
          },
          "metadata": {},
          "execution_count": 41
        }
      ]
    },
    {
      "cell_type": "code",
      "metadata": {
        "colab": {
          "base_uri": "https://localhost:8080/",
          "height": 37
        },
        "id": "_ckwmKzNGgK4",
        "outputId": "317430f9-d079-4207-851e-03b60e225c62"
      },
      "source": [
        "sp.limit(f, x, sp.oo)"
      ],
      "execution_count": null,
      "outputs": [
        {
          "output_type": "execute_result",
          "data": {
            "text/latex": "$\\displaystyle 4$",
            "text/plain": [
              "4"
            ]
          },
          "metadata": {},
          "execution_count": 42
        }
      ]
    },
    {
      "cell_type": "markdown",
      "metadata": {
        "id": "sD7K-sE6GjZ4"
      },
      "source": [
        "## 6. 微分"
      ]
    },
    {
      "cell_type": "markdown",
      "metadata": {
        "id": "DhGrpKWRVpOu"
      },
      "source": [
        "### 標準導數求法\n",
        "\n",
        "到了看 `sympy` 微分功力的時刻了。"
      ]
    },
    {
      "cell_type": "code",
      "metadata": {
        "id": "zDm93hjSKeiC"
      },
      "source": [
        "f = x**4 - 3*x**2 + 2*x - 5"
      ],
      "execution_count": null,
      "outputs": []
    },
    {
      "cell_type": "code",
      "metadata": {
        "colab": {
          "base_uri": "https://localhost:8080/",
          "height": 38
        },
        "id": "hSOGOpLWLbv3",
        "outputId": "b911ec56-a21d-47b5-e38b-dc12d6eced0e"
      },
      "source": [
        "f"
      ],
      "execution_count": null,
      "outputs": [
        {
          "output_type": "execute_result",
          "data": {
            "text/latex": "$\\displaystyle x^{4} - 3 x^{2} + 2 x - 5$",
            "text/plain": [
              "x**4 - 3*x**2 + 2*x - 5"
            ]
          },
          "metadata": {},
          "execution_count": 44
        }
      ]
    },
    {
      "cell_type": "code",
      "metadata": {
        "colab": {
          "base_uri": "https://localhost:8080/",
          "height": 38
        },
        "id": "esT18YSPLcHP",
        "outputId": "78bf6c06-5607-4f2e-bb51-8743d1fd2e69"
      },
      "source": [
        "sp.diff(f, x)"
      ],
      "execution_count": null,
      "outputs": [
        {
          "output_type": "execute_result",
          "data": {
            "text/latex": "$\\displaystyle 4 x^{3} - 6 x + 2$",
            "text/plain": [
              "4*x**3 - 6*x + 2"
            ]
          },
          "metadata": {},
          "execution_count": 45
        }
      ]
    },
    {
      "cell_type": "markdown",
      "metadata": {
        "id": "UeERliErLeBr"
      },
      "source": [
        "### 高階導數\n",
        "\n",
        "還可以啦, 畢竟很簡單。二階導數可以怎麼做呢?"
      ]
    },
    {
      "cell_type": "code",
      "metadata": {
        "colab": {
          "base_uri": "https://localhost:8080/",
          "height": 38
        },
        "id": "yo2o22x2LljK",
        "outputId": "ce444f58-e275-498f-a88b-ac6898ab63d4"
      },
      "source": [
        "sp.diff(f, x, x)"
      ],
      "execution_count": null,
      "outputs": [
        {
          "output_type": "execute_result",
          "data": {
            "text/latex": "$\\displaystyle 6 \\left(2 x^{2} - 1\\right)$",
            "text/plain": [
              "6*(2*x**2 - 1)"
            ]
          },
          "metadata": {},
          "execution_count": 46
        }
      ]
    },
    {
      "cell_type": "markdown",
      "metadata": {
        "id": "_sDLstviLrEY"
      },
      "source": [
        "另外也可以這樣寫。"
      ]
    },
    {
      "cell_type": "code",
      "metadata": {
        "colab": {
          "base_uri": "https://localhost:8080/",
          "height": 38
        },
        "id": "RD2JP5qCLwat",
        "outputId": "44173dc7-f966-4d25-911f-4fd3ea01bd7a"
      },
      "source": [
        "sp.diff(f, x, 2)"
      ],
      "execution_count": null,
      "outputs": [
        {
          "output_type": "execute_result",
          "data": {
            "text/latex": "$\\displaystyle 6 \\left(2 x^{2} - 1\\right)$",
            "text/plain": [
              "6*(2*x**2 - 1)"
            ]
          },
          "metadata": {},
          "execution_count": 47
        }
      ]
    },
    {
      "cell_type": "markdown",
      "metadata": {
        "id": "ZSmzv1RhLxaH"
      },
      "source": [
        "### 指數、對數、三角函數的導數\n",
        "\n",
        "指數、對數函數也來試試。"
      ]
    },
    {
      "cell_type": "code",
      "metadata": {
        "colab": {
          "base_uri": "https://localhost:8080/",
          "height": 38
        },
        "id": "NjwnwX1pLzzX",
        "outputId": "6c811445-8d40-4a93-df6a-52d0661525c0"
      },
      "source": [
        "sp.diff(sp.exp(x), x)"
      ],
      "execution_count": null,
      "outputs": [
        {
          "output_type": "execute_result",
          "data": {
            "text/latex": "$\\displaystyle e^{x}$",
            "text/plain": [
              "exp(x)"
            ]
          },
          "metadata": {},
          "execution_count": 48
        }
      ]
    },
    {
      "cell_type": "code",
      "metadata": {
        "colab": {
          "base_uri": "https://localhost:8080/",
          "height": 51
        },
        "id": "WuDxAsahL9yy",
        "outputId": "38be1eab-9c79-4357-9d56-5731b60e42ff"
      },
      "source": [
        "sp.diff(sp.log(x), x)"
      ],
      "execution_count": null,
      "outputs": [
        {
          "output_type": "execute_result",
          "data": {
            "text/latex": "$\\displaystyle \\frac{1}{x}$",
            "text/plain": [
              "1/x"
            ]
          },
          "metadata": {},
          "execution_count": 49
        }
      ]
    },
    {
      "cell_type": "markdown",
      "metadata": {
        "id": "vm0JUoZ5L_l0"
      },
      "source": [
        "事實上三角函數也是可以的!"
      ]
    },
    {
      "cell_type": "code",
      "metadata": {
        "colab": {
          "base_uri": "https://localhost:8080/",
          "height": 38
        },
        "id": "Ac4JGLxTMTgX",
        "outputId": "b4d3fed6-ece8-44ad-c0d7-c43aec2dd642"
      },
      "source": [
        "sp.diff(sp.sin(x), x)"
      ],
      "execution_count": null,
      "outputs": [
        {
          "output_type": "execute_result",
          "data": {
            "text/latex": "$\\displaystyle \\cos{\\left(x \\right)}$",
            "text/plain": [
              "cos(x)"
            ]
          },
          "metadata": {},
          "execution_count": 50
        }
      ]
    },
    {
      "cell_type": "code",
      "metadata": {
        "colab": {
          "base_uri": "https://localhost:8080/",
          "height": 38
        },
        "id": "7H-m1X6UMVRI",
        "outputId": "ba74fad2-5d2f-4e45-e6c7-ee4603f54fac"
      },
      "source": [
        "sp.diff(sp.tan(x), x)"
      ],
      "execution_count": null,
      "outputs": [
        {
          "output_type": "execute_result",
          "data": {
            "text/latex": "$\\displaystyle \\tan^{2}{\\left(x \\right)} + 1$",
            "text/plain": [
              "tan(x)**2 + 1"
            ]
          },
          "metadata": {},
          "execution_count": 51
        }
      ]
    },
    {
      "cell_type": "markdown",
      "metadata": {
        "id": "pbDk8hrQMoNk"
      },
      "source": [
        "注意我們平常習慣看到的是 $\\sec^2(x)$。"
      ]
    },
    {
      "cell_type": "code",
      "metadata": {
        "colab": {
          "base_uri": "https://localhost:8080/",
          "height": 38
        },
        "id": "Qr12BhOsMW0j",
        "outputId": "f56bc347-0fcc-44be-a803-199560bb0e98"
      },
      "source": [
        "sp.diff(sp.sec(x), x)"
      ],
      "execution_count": null,
      "outputs": [
        {
          "output_type": "execute_result",
          "data": {
            "text/latex": "$\\displaystyle \\tan{\\left(x \\right)} \\sec{\\left(x \\right)}$",
            "text/plain": [
              "tan(x)*sec(x)"
            ]
          },
          "metadata": {},
          "execution_count": 52
        }
      ]
    },
    {
      "cell_type": "markdown",
      "metadata": {
        "id": "wJXb8Kt3MY_d"
      },
      "source": [
        "### 反三角函數的微分\n",
        "\n",
        "看看好像很難的反三角函數的微分。"
      ]
    },
    {
      "cell_type": "code",
      "metadata": {
        "colab": {
          "base_uri": "https://localhost:8080/",
          "height": 55
        },
        "id": "Yxmr2ZJ_NMQw",
        "outputId": "69e816fc-5ccc-4c73-89de-7ec2835dcd4a"
      },
      "source": [
        "sp.diff(sp.asin(x), x)"
      ],
      "execution_count": null,
      "outputs": [
        {
          "output_type": "execute_result",
          "data": {
            "text/latex": "$\\displaystyle \\frac{1}{\\sqrt{1 - x^{2}}}$",
            "text/plain": [
              "1/sqrt(1 - x**2)"
            ]
          },
          "metadata": {},
          "execution_count": 53
        }
      ]
    },
    {
      "cell_type": "code",
      "metadata": {
        "colab": {
          "base_uri": "https://localhost:8080/",
          "height": 55
        },
        "id": "TwCZhJ1INQml",
        "outputId": "d9555c2a-1f7d-4971-a711-85e203c47517"
      },
      "source": [
        "sp.diff(sp.acos(x), x)"
      ],
      "execution_count": null,
      "outputs": [
        {
          "output_type": "execute_result",
          "data": {
            "text/latex": "$\\displaystyle - \\frac{1}{\\sqrt{1 - x^{2}}}$",
            "text/plain": [
              "-1/sqrt(1 - x**2)"
            ]
          },
          "metadata": {},
          "execution_count": 54
        }
      ]
    },
    {
      "cell_type": "code",
      "metadata": {
        "colab": {
          "base_uri": "https://localhost:8080/",
          "height": 52
        },
        "id": "jxLhKIp1NTL8",
        "outputId": "50e8be93-d5db-40c7-80c0-0a0940c545cc"
      },
      "source": [
        "sp.diff(sp.atan(x), x)"
      ],
      "execution_count": null,
      "outputs": [
        {
          "output_type": "execute_result",
          "data": {
            "text/latex": "$\\displaystyle \\frac{1}{x^{2} + 1}$",
            "text/plain": [
              "1/(x**2 + 1)"
            ]
          },
          "metadata": {},
          "execution_count": 55
        }
      ]
    },
    {
      "cell_type": "markdown",
      "metadata": {
        "id": "EQtaV0SmNVbD"
      },
      "source": [
        "### 隱函數微分\n",
        "\n",
        "這隱函數微分總會難倒 `sympy` 了吧? 我們來看個課本的例子。注意我們要給 `sympy` $f(x,y)=0$ 這樣的 $f(x,y)$, 所以課本上的\n",
        "\n",
        "$$y^3 + x^3y - 2xy^2 + 4x^2 = 4$$\n",
        "\n",
        "我們要令成\n",
        "\n",
        "$$y^3 + x^3y - 2xy^2 + 4x^2 - 4$$"
      ]
    },
    {
      "cell_type": "code",
      "metadata": {
        "id": "7FI-C8ZuOQF1"
      },
      "source": [
        "h = y**3 + x**3*y - 2*x*y**2 + 4*x**2 - 4"
      ],
      "execution_count": null,
      "outputs": []
    },
    {
      "cell_type": "code",
      "metadata": {
        "colab": {
          "base_uri": "https://localhost:8080/",
          "height": 38
        },
        "id": "pCrb3CFyO4Wt",
        "outputId": "580e8824-4b0c-4436-f900-5d624f6bc9e6"
      },
      "source": [
        "h"
      ],
      "execution_count": null,
      "outputs": [
        {
          "output_type": "execute_result",
          "data": {
            "text/latex": "$\\displaystyle x^{3} y + 4 x^{2} - 2 x y^{2} + y^{3} - 4$",
            "text/plain": [
              "x**3*y + 4*x**2 - 2*x*y**2 + y**3 - 4"
            ]
          },
          "metadata": {},
          "execution_count": 57
        }
      ]
    },
    {
      "cell_type": "code",
      "metadata": {
        "colab": {
          "base_uri": "https://localhost:8080/",
          "height": 57
        },
        "id": "wVbJieruO4mv",
        "outputId": "d1296287-07b1-49d6-d5c5-b9cd06f0a926"
      },
      "source": [
        "sp.idiff(h, y, x)"
      ],
      "execution_count": null,
      "outputs": [
        {
          "output_type": "execute_result",
          "data": {
            "text/latex": "$\\displaystyle \\frac{- 3 x^{2} y - 8 x + 2 y^{2}}{x^{3} - 4 x y + 3 y^{2}}$",
            "text/plain": [
              "(-3*x**2*y - 8*x + 2*y**2)/(x**3 - 4*x*y + 3*y**2)"
            ]
          },
          "metadata": {},
          "execution_count": 58
        }
      ]
    },
    {
      "cell_type": "markdown",
      "metadata": {
        "id": "B7FubKzeO77N"
      },
      "source": [
        "不得了, 這正確答案!! 我們當然也可以求課本上說這條式子定義出的曲線, 在 $x=1, y=0$ 的切線斜率。"
      ]
    },
    {
      "cell_type": "code",
      "metadata": {
        "colab": {
          "base_uri": "https://localhost:8080/",
          "height": 37
        },
        "id": "LIhMVzf-PTsu",
        "outputId": "75e49a20-64a3-4187-9406-3ff3ef861d49"
      },
      "source": [
        "sp.idiff(h, y, x).subs([(x,1), (y,0)])"
      ],
      "execution_count": null,
      "outputs": [
        {
          "output_type": "execute_result",
          "data": {
            "text/latex": "$\\displaystyle -8$",
            "text/plain": [
              "-8"
            ]
          },
          "metadata": {},
          "execution_count": 59
        }
      ]
    },
    {
      "cell_type": "markdown",
      "metadata": {
        "id": "A9U62pwtPfh9"
      },
      "source": [
        "### 隱函數的畫圖\n",
        "\n",
        "完全正確! 好奇的話我們也可以畫一下這個式子定義出的曲線圖形。`sympy` 如果是\n",
        "\n",
        "$$f(x,y) = a$$\n",
        "\n",
        "這種形式的隱函數, 要用這樣的方式輸入這個等式:\n",
        "\n",
        "```python\n",
        "sp.Eq(f, a)\n",
        "```\n",
        "\n",
        "然後用 `plot_implicit` 畫出來。"
      ]
    },
    {
      "cell_type": "code",
      "metadata": {
        "colab": {
          "base_uri": "https://localhost:8080/",
          "height": 315
        },
        "id": "1BtXlKL1RY5w",
        "outputId": "5506f272-7b1d-4a1e-a04a-1d20c055ff23"
      },
      "source": [
        "sp.plot_implicit(sp.Eq(h, 0))"
      ],
      "execution_count": null,
      "outputs": [
        {
          "output_type": "display_data",
          "data": {
            "image/png": "[encoded data removed]",
            "text/plain": [
              "<Figure size 432x288 with 1 Axes>"
            ]
          },
          "metadata": {
            "needs_background": "light"
          }
        },
        {
          "output_type": "execute_result",
          "data": {
            "text/plain": [
              "<sympy.plotting.plot.Plot at 0x7f0cc5492790>"
            ]
          },
          "metadata": {},
          "execution_count": 60
        }
      ]
    },
    {
      "cell_type": "markdown",
      "metadata": {
        "id": "N8tEev3EiKCf"
      },
      "source": [
        "## 7. 關於函數的極值"
      ]
    },
    {
      "cell_type": "markdown",
      "metadata": {
        "id": "EzVi_dcDWaJS"
      },
      "source": [
        "### `solveset` 找微分等於 0 的點\n",
        "\n",
        "我們知道一個函數的極值是發生在臨界點, 也就是微分等於 0 或是微分不存在的那些點。我們試試可愛的 `sympy` 可不可以幫我們算。\n",
        "\n",
        "$$f(x) = x^4-8x+1$$"
      ]
    },
    {
      "cell_type": "code",
      "metadata": {
        "id": "qAOaqgCEjIXw"
      },
      "source": [
        "f = x**4 - 8*x**2 + 1"
      ],
      "execution_count": null,
      "outputs": []
    },
    {
      "cell_type": "code",
      "metadata": {
        "colab": {
          "base_uri": "https://localhost:8080/",
          "height": 38
        },
        "id": "iHsZvZ7jjRDu",
        "outputId": "dd9ff152-fafc-4df6-db23-90121bef29ca"
      },
      "source": [
        "f"
      ],
      "execution_count": null,
      "outputs": [
        {
          "output_type": "execute_result",
          "data": {
            "text/latex": "$\\displaystyle x^{4} - 8 x^{2} + 1$",
            "text/plain": [
              "x**4 - 8*x**2 + 1"
            ]
          },
          "metadata": {},
          "execution_count": 62
        }
      ]
    },
    {
      "cell_type": "code",
      "metadata": {
        "id": "bO1ArURnjSef"
      },
      "source": [
        "f1 = sp.diff(f, x)"
      ],
      "execution_count": null,
      "outputs": []
    },
    {
      "cell_type": "code",
      "metadata": {
        "colab": {
          "base_uri": "https://localhost:8080/",
          "height": 37
        },
        "id": "zT7mcm3ojaeI",
        "outputId": "538e2060-2a74-4a71-83fc-49aeff3f3533"
      },
      "source": [
        "sp.solveset(f1)"
      ],
      "execution_count": null,
      "outputs": [
        {
          "output_type": "execute_result",
          "data": {
            "text/latex": "$\\displaystyle \\left\\{-2, 0, 2\\right\\}$",
            "text/plain": [
              "FiniteSet(-2, 0, 2)"
            ]
          },
          "metadata": {},
          "execution_count": 64
        }
      ]
    },
    {
      "cell_type": "markdown",
      "metadata": {
        "id": "EY7eDgyzWrBA"
      },
      "source": [
        "### 二階導數判別極大極小"
      ]
    },
    {
      "cell_type": "code",
      "metadata": {
        "id": "F1AfxSlyjeQs"
      },
      "source": [
        "f2 = sp.diff(f, x, x)"
      ],
      "execution_count": null,
      "outputs": []
    },
    {
      "cell_type": "code",
      "metadata": {
        "colab": {
          "base_uri": "https://localhost:8080/",
          "height": 37
        },
        "id": "BQWsW0T6j2M4",
        "outputId": "af65e078-20df-4f49-f598-39dde830d877"
      },
      "source": [
        "f2.subs(x, -2)"
      ],
      "execution_count": null,
      "outputs": [
        {
          "output_type": "execute_result",
          "data": {
            "text/latex": "$\\displaystyle 32$",
            "text/plain": [
              "32"
            ]
          },
          "metadata": {},
          "execution_count": 66
        }
      ]
    },
    {
      "cell_type": "code",
      "metadata": {
        "colab": {
          "base_uri": "https://localhost:8080/",
          "height": 37
        },
        "id": "lAYLG3MtrQB_",
        "outputId": "77788ec9-5673-4eb5-af94-5f3da25fe591"
      },
      "source": [
        "f2.subs(x,0)"
      ],
      "execution_count": null,
      "outputs": [
        {
          "output_type": "execute_result",
          "data": {
            "text/latex": "$\\displaystyle -16$",
            "text/plain": [
              "-16"
            ]
          },
          "metadata": {},
          "execution_count": 67
        }
      ]
    },
    {
      "cell_type": "code",
      "metadata": {
        "colab": {
          "base_uri": "https://localhost:8080/",
          "height": 37
        },
        "id": "_cseSVhGrRui",
        "outputId": "2d423b8f-0b96-4eda-a1c8-b98fdd433eba"
      },
      "source": [
        "f2.subs(x,2)"
      ],
      "execution_count": null,
      "outputs": [
        {
          "output_type": "execute_result",
          "data": {
            "text/latex": "$\\displaystyle 32$",
            "text/plain": [
              "32"
            ]
          },
          "metadata": {},
          "execution_count": 68
        }
      ]
    },
    {
      "cell_type": "markdown",
      "metadata": {
        "id": "70A32ELEoe1i"
      },
      "source": [
        "### 確認函數在區間的遞增、遞減性\n",
        "\n",
        "由二階導數判別相對極值的方法, 可知函數在 $x=-2$ 時有相對極小值, 在 $x=0$ 時有相對極大值, 在 $x=2$ 時有相對極小值。\n",
        "\n",
        "我們也學過, 函數的遞增遞減性只有在臨界點會產生變化。在我們這個例子, 我們可以判斷這幾個區間遞增遞減的情況:\n",
        "\n",
        "$$(-\\infty, -2), (-2,0), (0,2), (2, \\infty)$$\n",
        "\n",
        "還記得就是區間中隨便找個代表點, 代入一階導數, 看正負號就可知函數在這個區間是遞增或是遞減的。\n",
        "\n",
        "這個例子我們會知道函數是\n",
        "\n",
        "遞減 -> 遞增 -> 遞減 -> 遞增\n",
        "\n",
        "用 `sympy` 可以確認一下。"
      ]
    },
    {
      "cell_type": "code",
      "metadata": {
        "colab": {
          "base_uri": "https://localhost:8080/"
        },
        "id": "_3G_8At0pwrw",
        "outputId": "7b835f6b-0e1a-4206-99ff-ec893d60f6bb"
      },
      "source": [
        "sp.is_decreasing(f, sp.Interval(-sp.oo, -2))"
      ],
      "execution_count": null,
      "outputs": [
        {
          "output_type": "execute_result",
          "data": {
            "text/plain": [
              "True"
            ]
          },
          "metadata": {},
          "execution_count": 69
        }
      ]
    },
    {
      "cell_type": "code",
      "metadata": {
        "colab": {
          "base_uri": "https://localhost:8080/"
        },
        "id": "qh7M8Wf7tM2O",
        "outputId": "a7ba35b4-d4f7-41cd-c4d7-05627b37bc2a"
      },
      "source": [
        "sp.is_increasing(f, sp.Interval(-2, 0))"
      ],
      "execution_count": null,
      "outputs": [
        {
          "output_type": "execute_result",
          "data": {
            "text/plain": [
              "True"
            ]
          },
          "metadata": {},
          "execution_count": 70
        }
      ]
    },
    {
      "cell_type": "code",
      "metadata": {
        "colab": {
          "base_uri": "https://localhost:8080/"
        },
        "id": "kdwIhnTstR-l",
        "outputId": "94dbf76c-25b0-4971-f687-fe91a4a914f9"
      },
      "source": [
        "sp.is_decreasing(f, sp.Interval(0, 2))"
      ],
      "execution_count": null,
      "outputs": [
        {
          "output_type": "execute_result",
          "data": {
            "text/plain": [
              "True"
            ]
          },
          "metadata": {},
          "execution_count": 71
        }
      ]
    },
    {
      "cell_type": "code",
      "metadata": {
        "colab": {
          "base_uri": "https://localhost:8080/"
        },
        "id": "S61SOsohtYBD",
        "outputId": "57144037-3b2a-4d09-a790-35a4fefeab38"
      },
      "source": [
        "sp.is_increasing(f, sp.Interval(2, sp.oo))"
      ],
      "execution_count": null,
      "outputs": [
        {
          "output_type": "execute_result",
          "data": {
            "text/plain": [
              "True"
            ]
          },
          "metadata": {},
          "execution_count": 72
        }
      ]
    },
    {
      "cell_type": "markdown",
      "metadata": {
        "id": "VEjjEiZ8j6fG"
      },
      "source": [
        "### 指定定義域是實數的方法\n",
        "\n",
        "使用時要小心一個狀況, 假設我們的函數是這個:\n",
        "\n",
        "$$f(x) = x^3 + x$$"
      ]
    },
    {
      "cell_type": "code",
      "metadata": {
        "id": "jmqYhfucjYHb"
      },
      "source": [
        "f = x**3 + x"
      ],
      "execution_count": null,
      "outputs": []
    },
    {
      "cell_type": "code",
      "metadata": {
        "colab": {
          "base_uri": "https://localhost:8080/",
          "height": 38
        },
        "id": "M1vicca1k7Yn",
        "outputId": "67193d79-8352-4046-f8b6-53f6b7bbf487"
      },
      "source": [
        "f"
      ],
      "execution_count": null,
      "outputs": [
        {
          "output_type": "execute_result",
          "data": {
            "text/latex": "$\\displaystyle x^{3} + x$",
            "text/plain": [
              "x**3 + x"
            ]
          },
          "metadata": {},
          "execution_count": 74
        }
      ]
    },
    {
      "cell_type": "code",
      "metadata": {
        "id": "Is6zsPd1jUSY"
      },
      "source": [
        "f1 = sp.diff(f, x)"
      ],
      "execution_count": null,
      "outputs": []
    },
    {
      "cell_type": "code",
      "metadata": {
        "colab": {
          "base_uri": "https://localhost:8080/",
          "height": 38
        },
        "id": "TP_wObCZk_nm",
        "outputId": "146ee668-8755-41c0-cf3f-56e6be008258"
      },
      "source": [
        "f1"
      ],
      "execution_count": null,
      "outputs": [
        {
          "output_type": "execute_result",
          "data": {
            "text/latex": "$\\displaystyle 3 x^{2} + 1$",
            "text/plain": [
              "3*x**2 + 1"
            ]
          },
          "metadata": {},
          "execution_count": 76
        }
      ]
    },
    {
      "cell_type": "code",
      "metadata": {
        "colab": {
          "base_uri": "https://localhost:8080/",
          "height": 68
        },
        "id": "kDWPNgdglAG0",
        "outputId": "8feb3c3c-5e9f-4e7e-b2ff-981a64a3b9c5"
      },
      "source": [
        "sp.solveset(f1, x)"
      ],
      "execution_count": null,
      "outputs": [
        {
          "output_type": "execute_result",
          "data": {
            "text/latex": "$\\displaystyle \\left\\{- \\frac{\\sqrt{3} i}{3}, \\frac{\\sqrt{3} i}{3}\\right\\}$",
            "text/plain": [
              "FiniteSet(-sqrt(3)*I/3, sqrt(3)*I/3)"
            ]
          },
          "metadata": {},
          "execution_count": 77
        }
      ]
    },
    {
      "cell_type": "markdown",
      "metadata": {
        "id": "S_LJfT_AlJYz"
      },
      "source": [
        "等一下, 這在實數上是沒有解的, 所以無局部極大或極小。雖然我們這樣也看得出來, 但能不能讓 `sympy` 告訴我們實數上是無解的呢?"
      ]
    },
    {
      "cell_type": "code",
      "metadata": {
        "colab": {
          "base_uri": "https://localhost:8080/",
          "height": 37
        },
        "id": "Ve0p6ze3ldc-",
        "outputId": "42850479-ae4c-402d-8cc2-f4e72c31f37c"
      },
      "source": [
        "sp.solveset(f1, x, domain=S.Reals)"
      ],
      "execution_count": null,
      "outputs": [
        {
          "output_type": "execute_result",
          "data": {
            "text/latex": "$\\displaystyle \\emptyset$",
            "text/plain": [
              "EmptySet"
            ]
          },
          "metadata": {},
          "execution_count": 78
        }
      ]
    },
    {
      "cell_type": "markdown",
      "metadata": {
        "id": "OOtlyoWOt7K_"
      },
      "source": [
        "### 用 `singularities` 找出微分不存在的點\n",
        "\n",
        "微分不存在的點呢? 我們可以用 `singularities` 來確認是不是有微分不存在的點。首先先看我們標準例子\n",
        "\n",
        "$$f(x) = |x|$$"
      ]
    },
    {
      "cell_type": "code",
      "metadata": {
        "id": "BQ6hu-T_uChT"
      },
      "source": [
        "from sympy.calculus import singularities"
      ],
      "execution_count": null,
      "outputs": []
    },
    {
      "cell_type": "code",
      "metadata": {
        "id": "tpt1TPcqlqXd"
      },
      "source": [
        "f = sp.Abs(x)"
      ],
      "execution_count": null,
      "outputs": []
    },
    {
      "cell_type": "code",
      "metadata": {
        "colab": {
          "base_uri": "https://localhost:8080/",
          "height": 38
        },
        "id": "kjpjArrTl_lP",
        "outputId": "5cb2005b-f4a5-4dfa-de18-bf2c66047e15"
      },
      "source": [
        "f"
      ],
      "execution_count": null,
      "outputs": [
        {
          "output_type": "execute_result",
          "data": {
            "text/latex": "$\\displaystyle \\left|{x}\\right|$",
            "text/plain": [
              "Abs(x)"
            ]
          },
          "metadata": {},
          "execution_count": 81
        }
      ]
    },
    {
      "cell_type": "code",
      "metadata": {
        "id": "qiOv0SYZmAco"
      },
      "source": [
        "f1 = sp.diff(f, x)"
      ],
      "execution_count": null,
      "outputs": []
    },
    {
      "cell_type": "code",
      "metadata": {
        "colab": {
          "base_uri": "https://localhost:8080/",
          "height": 37
        },
        "id": "D7aStSyauRY1",
        "outputId": "2d9d299a-295c-43ce-c2e2-fc78168ef4b8"
      },
      "source": [
        "singularities(f1, x)"
      ],
      "execution_count": null,
      "outputs": [
        {
          "output_type": "execute_result",
          "data": {
            "text/latex": "$\\displaystyle \\left\\{0\\right\\}$",
            "text/plain": [
              "FiniteSet(0)"
            ]
          },
          "metadata": {},
          "execution_count": 83
        }
      ]
    },
    {
      "cell_type": "markdown",
      "metadata": {
        "id": "Qh2ctYCjuUda"
      },
      "source": [
        "$$f(x) = \\dfrac{1}{x} + x$$"
      ]
    },
    {
      "cell_type": "code",
      "metadata": {
        "id": "2TXrNvB6vBo5"
      },
      "source": [
        "f = 1/x + x"
      ],
      "execution_count": null,
      "outputs": []
    },
    {
      "cell_type": "code",
      "metadata": {
        "id": "J9dUQX2evE5A"
      },
      "source": [
        "f1 = sp.diff(f, x)"
      ],
      "execution_count": null,
      "outputs": []
    },
    {
      "cell_type": "code",
      "metadata": {
        "colab": {
          "base_uri": "https://localhost:8080/",
          "height": 37
        },
        "id": "45Q7FcvivMd0",
        "outputId": "9c07a778-b641-407d-b24b-f512b4f35608"
      },
      "source": [
        "singularities(f1, x)"
      ],
      "execution_count": null,
      "outputs": [
        {
          "output_type": "execute_result",
          "data": {
            "text/latex": "$\\displaystyle \\left\\{0\\right\\}$",
            "text/plain": [
              "FiniteSet(0)"
            ]
          },
          "metadata": {},
          "execution_count": 86
        }
      ]
    },
    {
      "cell_type": "markdown",
      "metadata": {
        "id": "QNzVFltARha-"
      },
      "source": [
        "## 8. 積分"
      ]
    },
    {
      "cell_type": "markdown",
      "metadata": {
        "id": "I5GjwO80XVIN"
      },
      "source": [
        "### 不定積分\n",
        "\n",
        "終於到了我們積分的時刻。首先, 我們先來個假的積分, 我是說, 不定積分。"
      ]
    },
    {
      "cell_type": "code",
      "metadata": {
        "id": "5GiN_HXiVqwD"
      },
      "source": [
        "f = sp.sqrt(31*x + 2)"
      ],
      "execution_count": null,
      "outputs": []
    },
    {
      "cell_type": "code",
      "metadata": {
        "colab": {
          "base_uri": "https://localhost:8080/",
          "height": 37
        },
        "id": "g20vCy2uWd7u",
        "outputId": "f9e018da-3c41-40eb-f56d-ee6d275a264a"
      },
      "source": [
        "f"
      ],
      "execution_count": null,
      "outputs": [
        {
          "output_type": "execute_result",
          "data": {
            "text/latex": "$\\displaystyle \\sqrt{31 x + 2}$",
            "text/plain": [
              "sqrt(31*x + 2)"
            ]
          },
          "metadata": {},
          "execution_count": 88
        }
      ]
    },
    {
      "cell_type": "code",
      "metadata": {
        "colab": {
          "base_uri": "https://localhost:8080/",
          "height": 58
        },
        "id": "5g52HLm_WhII",
        "outputId": "db8a2483-defe-4581-bc3d-7b2e067fe6ab"
      },
      "source": [
        "sp.integrate(f, x)"
      ],
      "execution_count": null,
      "outputs": [
        {
          "output_type": "execute_result",
          "data": {
            "text/latex": "$\\displaystyle \\frac{2 \\left(31 x + 2\\right)^{\\frac{3}{2}}}{93}$",
            "text/plain": [
              "2*(31*x + 2)**(3/2)/93"
            ]
          },
          "metadata": {},
          "execution_count": 89
        }
      ]
    },
    {
      "cell_type": "markdown",
      "metadata": {
        "id": "ngeHK5cAWmwQ"
      },
      "source": [
        "答案是正確的, 但是沒有加 C 要扣分..."
      ]
    },
    {
      "cell_type": "markdown",
      "metadata": {
        "id": "wlUkqjDmXcyb"
      },
      "source": [
        "### 定義分\n",
        "\n",
        "再來看定積分。"
      ]
    },
    {
      "cell_type": "code",
      "metadata": {
        "id": "MYIVKmGTW1i-"
      },
      "source": [
        "f = x/(sp.sqrt(x**2+4))"
      ],
      "execution_count": null,
      "outputs": []
    },
    {
      "cell_type": "code",
      "metadata": {
        "colab": {
          "base_uri": "https://localhost:8080/",
          "height": 51
        },
        "id": "FFK1OUSXW-Iq",
        "outputId": "8e209426-8c9b-40da-913f-65ee103c8d7a"
      },
      "source": [
        "f"
      ],
      "execution_count": null,
      "outputs": [
        {
          "output_type": "execute_result",
          "data": {
            "text/latex": "$\\displaystyle \\frac{x}{\\sqrt{x^{2} + 4}}$",
            "text/plain": [
              "x/sqrt(x**2 + 4)"
            ]
          },
          "metadata": {},
          "execution_count": 91
        }
      ]
    },
    {
      "cell_type": "code",
      "metadata": {
        "colab": {
          "base_uri": "https://localhost:8080/",
          "height": 38
        },
        "id": "mhBStc3MW-jI",
        "outputId": "b716459f-7bd1-41a5-ad75-45ee505b63ed"
      },
      "source": [
        "sp.integrate(f, (x,0,2))"
      ],
      "execution_count": null,
      "outputs": [
        {
          "output_type": "execute_result",
          "data": {
            "text/latex": "$\\displaystyle -2 + 2 \\sqrt{2}$",
            "text/plain": [
              "-2 + 2*sqrt(2)"
            ]
          },
          "metadata": {},
          "execution_count": 92
        }
      ]
    },
    {
      "cell_type": "markdown",
      "metadata": {
        "id": "kFE-NedyXMLg"
      },
      "source": [
        "事實上這是 `sympy`, 你要看一般從 a 到 b 的積分值也可以。"
      ]
    },
    {
      "cell_type": "code",
      "metadata": {
        "colab": {
          "base_uri": "https://localhost:8080/",
          "height": 39
        },
        "id": "lPCmO8LuXZjc",
        "outputId": "e81353d7-b972-480d-c23a-b53a16f2f7fc"
      },
      "source": [
        "sp.integrate(f, (x,a,b))"
      ],
      "execution_count": null,
      "outputs": [
        {
          "output_type": "execute_result",
          "data": {
            "text/latex": "$\\displaystyle - \\sqrt{a^{2} + 4} + \\sqrt{b^{2} + 4}$",
            "text/plain": [
              "-sqrt(a**2 + 4) + sqrt(b**2 + 4)"
            ]
          },
          "metadata": {},
          "execution_count": 93
        }
      ]
    },
    {
      "cell_type": "markdown",
      "metadata": {
        "id": "UMVzYpJlXcMf"
      },
      "source": [
        "### 變數變換等級的題目\n",
        "\n",
        "習題抽幾題考考 `sympy`。\n",
        "\n",
        "$$\\int \\dfrac{\\sqrt{\\ln x}}{x} \\, dx$$"
      ]
    },
    {
      "cell_type": "code",
      "metadata": {
        "colab": {
          "base_uri": "https://localhost:8080/",
          "height": 58
        },
        "id": "vtxppX0pXquI",
        "outputId": "11b94777-f3fa-405e-d64d-c54d9dc1f8fe"
      },
      "source": [
        "sp.integrate(sp.sqrt(sp.log(x))/x, x)"
      ],
      "execution_count": null,
      "outputs": [
        {
          "output_type": "execute_result",
          "data": {
            "text/latex": "$\\displaystyle \\frac{2 \\log{\\left(x \\right)}^{\\frac{3}{2}}}{3}$",
            "text/plain": [
              "2*log(x)**(3/2)/3"
            ]
          },
          "metadata": {},
          "execution_count": 94
        }
      ]
    },
    {
      "cell_type": "markdown",
      "metadata": {
        "id": "OPvTXzwrYN0U"
      },
      "source": [
        "$$\\int_0^1 x e^{-x^2} \\, dx$$"
      ]
    },
    {
      "cell_type": "code",
      "metadata": {
        "colab": {
          "base_uri": "https://localhost:8080/",
          "height": 51
        },
        "id": "WY-KUah1XwZe",
        "outputId": "98c53eff-dae3-4ace-9e67-e13dd4459d3d"
      },
      "source": [
        "sp.integrate(x*sp.exp(-x**2), (x, 0, 1))"
      ],
      "execution_count": null,
      "outputs": [
        {
          "output_type": "execute_result",
          "data": {
            "text/latex": "$\\displaystyle \\frac{1}{2} - \\frac{1}{2 e}$",
            "text/plain": [
              "1/2 - exp(-1)/2"
            ]
          },
          "metadata": {},
          "execution_count": 95
        }
      ]
    },
    {
      "cell_type": "markdown",
      "metadata": {
        "id": "qBkCQN7_Y3Fx"
      },
      "source": [
        "### 微積分基本定理\n",
        "\n",
        "還記得微積分基本定理有一個形式, 告訴我們微分和積分基本上是反運算。寫成數學式子是這樣:\n",
        "\n",
        "$$\\dfrac{d}{dx} \\int_a^x f(t) \\, dt = f(x)$$\n",
        "\n",
        "這寫起來就好可怕的東西, `sympy` 真的會嗎? 我們來試試。"
      ]
    },
    {
      "cell_type": "code",
      "metadata": {
        "id": "J3JH556IZwmw"
      },
      "source": [
        "f = t**3/(t**2+1)"
      ],
      "execution_count": null,
      "outputs": []
    },
    {
      "cell_type": "code",
      "metadata": {
        "colab": {
          "base_uri": "https://localhost:8080/",
          "height": 55
        },
        "id": "bDUPfLMLaO8m",
        "outputId": "dcd5172c-887d-4990-fb38-758640ae8935"
      },
      "source": [
        "f"
      ],
      "execution_count": null,
      "outputs": [
        {
          "output_type": "execute_result",
          "data": {
            "text/latex": "$\\displaystyle \\frac{t^{3}}{t^{2} + 1}$",
            "text/plain": [
              "t**3/(t**2 + 1)"
            ]
          },
          "metadata": {},
          "execution_count": 97
        }
      ]
    },
    {
      "cell_type": "code",
      "metadata": {
        "colab": {
          "base_uri": "https://localhost:8080/",
          "height": 48
        },
        "id": "bDkZiFQBaPTa",
        "outputId": "7da48e09-19d2-403c-8e9f-2ffccdec4a47"
      },
      "source": [
        "sp.diff(sp.integrate(f, (t, a, x)),x)"
      ],
      "execution_count": null,
      "outputs": [
        {
          "output_type": "execute_result",
          "data": {
            "text/latex": "$\\displaystyle x - \\frac{x}{x^{2} + 1}$",
            "text/plain": [
              "x - x/(x**2 + 1)"
            ]
          },
          "metadata": {},
          "execution_count": 98
        }
      ]
    },
    {
      "cell_type": "markdown",
      "metadata": {
        "id": "VgEMVEsAaTh2"
      },
      "source": [
        "### 式子的化簡\n",
        "\n",
        "檢查一下, 這是正確答案。自然我們可以叫 `sympy` 幫我們化簡整理。"
      ]
    },
    {
      "cell_type": "code",
      "metadata": {
        "colab": {
          "base_uri": "https://localhost:8080/",
          "height": 55
        },
        "id": "LUCMs70Ga5Ap",
        "outputId": "4ef5a3f3-6c6e-4780-9b7f-1744a28355bb"
      },
      "source": [
        "sp.simplify(sp.diff(sp.integrate(f, (t, a, x)),x))"
      ],
      "execution_count": null,
      "outputs": [
        {
          "output_type": "execute_result",
          "data": {
            "text/latex": "$\\displaystyle \\frac{x^{3}}{x^{2} + 1}$",
            "text/plain": [
              "x**3/(x**2 + 1)"
            ]
          },
          "metadata": {},
          "execution_count": 99
        }
      ]
    },
    {
      "cell_type": "markdown",
      "metadata": {
        "id": "sSrQ5l8LbAta"
      },
      "source": [
        "### 部分積分等級的題目\n",
        "\n",
        "至此都是「簡單的」積分。那需要用到積分大魔王「部分積分」技巧的, `sympy` 還會做嗎?"
      ]
    },
    {
      "cell_type": "markdown",
      "metadata": {
        "id": "EXq6RbREcO2p"
      },
      "source": [
        "$$\\int x e^x \\, dx$$"
      ]
    },
    {
      "cell_type": "code",
      "metadata": {
        "colab": {
          "base_uri": "https://localhost:8080/",
          "height": 38
        },
        "id": "8y0mduMZcjm3",
        "outputId": "3515f473-5f44-4476-95a6-89f1552eab01"
      },
      "source": [
        "sp.integrate(x*sp.exp(x), x)"
      ],
      "execution_count": null,
      "outputs": [
        {
          "output_type": "execute_result",
          "data": {
            "text/latex": "$\\displaystyle \\left(x - 1\\right) e^{x}$",
            "text/plain": [
              "(x - 1)*exp(x)"
            ]
          },
          "metadata": {},
          "execution_count": 100
        }
      ]
    },
    {
      "cell_type": "markdown",
      "metadata": {
        "id": "8Lra9aEVcoga"
      },
      "source": [
        "$$\\int \\ln x \\, dx$$"
      ]
    },
    {
      "cell_type": "code",
      "metadata": {
        "colab": {
          "base_uri": "https://localhost:8080/",
          "height": 38
        },
        "id": "rtqRibbdc7pq",
        "outputId": "98e2cf1a-6aae-4c28-9694-7c203e1a0e12"
      },
      "source": [
        "sp.integrate(sp.log(x), x)"
      ],
      "execution_count": null,
      "outputs": [
        {
          "output_type": "execute_result",
          "data": {
            "text/latex": "$\\displaystyle x \\log{\\left(x \\right)} - x$",
            "text/plain": [
              "x*log(x) - x"
            ]
          },
          "metadata": {},
          "execution_count": 101
        }
      ]
    },
    {
      "cell_type": "markdown",
      "metadata": {
        "id": "D3bg4fwyfVtL"
      },
      "source": [
        "### 暇積分\n",
        "\n",
        "好像都難不倒 `sympy`, 那最後我們來看看暇積分吧。\n",
        "\n",
        "$$\\int_1^\\infty \\dfrac{1}{x^2} \\, dx$$"
      ]
    },
    {
      "cell_type": "code",
      "metadata": {
        "colab": {
          "base_uri": "https://localhost:8080/",
          "height": 37
        },
        "id": "sNDrEMmrfg98",
        "outputId": "b40150a6-6c15-4ebc-c224-31883c6a3152"
      },
      "source": [
        "sp.integrate(1/x**2, (x, 1, sp.oo))"
      ],
      "execution_count": null,
      "outputs": [
        {
          "output_type": "execute_result",
          "data": {
            "text/latex": "$\\displaystyle 1$",
            "text/plain": [
              "1"
            ]
          },
          "metadata": {},
          "execution_count": 102
        }
      ]
    },
    {
      "cell_type": "markdown",
      "metadata": {
        "id": "tjeCPNNEf72Y"
      },
      "source": [
        "$$\\int_{-\\infty}^{\\infty} 2xe^{-x^2} \\, dx$$"
      ]
    },
    {
      "cell_type": "code",
      "metadata": {
        "colab": {
          "base_uri": "https://localhost:8080/",
          "height": 37
        },
        "id": "GXnnpdMrgNXO",
        "outputId": "7daf0a8c-04f4-41e9-ba2c-b0514d7d37f4"
      },
      "source": [
        "sp.integrate(2*x*sp.exp(-x**2), (x, -sp.oo, sp.oo))"
      ],
      "execution_count": null,
      "outputs": [
        {
          "output_type": "execute_result",
          "data": {
            "text/latex": "$\\displaystyle 0$",
            "text/plain": [
              "0"
            ]
          },
          "metadata": {},
          "execution_count": 103
        }
      ]
    },
    {
      "cell_type": "markdown",
      "metadata": {
        "id": "cBCwKRbqYBZP"
      },
      "source": [
        "## 9. 泰勒級數"
      ]
    },
    {
      "cell_type": "markdown",
      "metadata": {
        "id": "68zVV5jtc9mH"
      },
      "source": [
        "### 求指定階數的泰勒展開\n",
        "\n",
        "最後我們來看超級酷炫, 把可以一直微分的函數轉成多項式的技術: 泰勒級數!\n",
        "\n",
        "一個函數 $f(x)$ 在 $x=a$ 的泰勒展開式是長這個樣子:\n",
        "\n",
        "$$f(x) = f(a) + f'(a) (x-a) + \\dfrac{f''(a)}{2!} (x-a)^2 + \\cdots + \\dfrac{f^{(n)}(a)}{n!} (x-a)^n + \\cdots$$\n",
        "\n",
        "這裡順便說一下, 我們差不多從微積分的第一天開始, 就灌輸大家一個概念: 一個函數 $f(x)$ 如果在 $x=a$ 那點的切線存在的話 (也就是可微), 那這個函數的圖形 $y=f(x)$ 在 $x=a$ 附近和那條切線長得很像。也就是說當 $x$ 和 $a$ 很接近的時候, 我們有:\n",
        "\n",
        "$$f(x) \\simeq f(a) + f'(a) (x-a)$$\n",
        "\n",
        "耶, 這就是泰勒展開式的第一項啊! 如果我們再用二階導數再調整一點就會更像, 三階再調一點, ... 這就得到泰勒級數!\n",
        "\n",
        "說得這麼多, 結果 `sympy` 要求泰勒展開式很容易。我們來看看我們四大天王中的\n",
        "\n",
        "$$f(x)=e^x$$\n",
        "\n",
        "在 $x=0$ 的泰勒展開式。"
      ]
    },
    {
      "cell_type": "code",
      "metadata": {
        "id": "M6PVcHoSiT7Y"
      },
      "source": [
        "f = sp.exp(x)"
      ],
      "execution_count": null,
      "outputs": []
    },
    {
      "cell_type": "code",
      "metadata": {
        "colab": {
          "base_uri": "https://localhost:8080/",
          "height": 54
        },
        "id": "KHgsbPY54XqK",
        "outputId": "50562239-d329-439a-8fac-88a4dd995f76"
      },
      "source": [
        "sp.series(f, n=10)"
      ],
      "execution_count": null,
      "outputs": [
        {
          "output_type": "execute_result",
          "data": {
            "text/latex": "$\\displaystyle 1 + x + \\frac{x^{2}}{2} + \\frac{x^{3}}{6} + \\frac{x^{4}}{24} + \\frac{x^{5}}{120} + \\frac{x^{6}}{720} + \\frac{x^{7}}{5040} + \\frac{x^{8}}{40320} + \\frac{x^{9}}{362880} + O\\left(x^{10}\\right)$",
            "text/plain": [
              "1 + x + x**2/2 + x**3/6 + x**4/24 + x**5/120 + x**6/720 + x**7/5040 + x**8/40320 + x**9/362880 + O(x**10)"
            ]
          },
          "metadata": {},
          "execution_count": 105
        }
      ]
    },
    {
      "cell_type": "markdown",
      "metadata": {
        "id": "wxc6eIKl4c3Z"
      },
      "source": [
        "最後一項是說真正的 $e^x$ 和這個泰勒展開式差距最多是 $x^{10}$ 的某個固定的常數倍。"
      ]
    },
    {
      "cell_type": "markdown",
      "metadata": {
        "id": "vWn4eVdYYScb"
      },
      "source": [
        "### `removeO` 去掉誤差項\n",
        "\n",
        "計算的時候我們希望不要有這個誤差估計項, 那要怎麼做呢?"
      ]
    },
    {
      "cell_type": "code",
      "metadata": {
        "id": "0FVPdZpx5o_K"
      },
      "source": [
        "f_taylor = sp.series(f, n=10).removeO()"
      ],
      "execution_count": null,
      "outputs": []
    },
    {
      "cell_type": "code",
      "metadata": {
        "colab": {
          "base_uri": "https://localhost:8080/",
          "height": 54
        },
        "id": "IXpDTut659he",
        "outputId": "a56d304f-39cd-487d-903c-6ba12fdce025"
      },
      "source": [
        "f_taylor"
      ],
      "execution_count": null,
      "outputs": [
        {
          "output_type": "execute_result",
          "data": {
            "text/latex": "$\\displaystyle \\frac{x^{9}}{362880} + \\frac{x^{8}}{40320} + \\frac{x^{7}}{5040} + \\frac{x^{6}}{720} + \\frac{x^{5}}{120} + \\frac{x^{4}}{24} + \\frac{x^{3}}{6} + \\frac{x^{2}}{2} + x + 1$",
            "text/plain": [
              "x**9/362880 + x**8/40320 + x**7/5040 + x**6/720 + x**5/120 + x**4/24 + x**3/6 + x**2/2 + x + 1"
            ]
          },
          "metadata": {},
          "execution_count": 107
        }
      ]
    },
    {
      "cell_type": "markdown",
      "metadata": {
        "id": "A2qlBAOF6DFW"
      },
      "source": [
        "### 用泰勒多項式估計函數值\n",
        "\n",
        "把一個函數變成可愛的多項式, 就真的可以算了! 比如說, 這裡我們可以開心的算一下 $e = e^1$ 的值。"
      ]
    },
    {
      "cell_type": "code",
      "metadata": {
        "id": "B11hACC16as8"
      },
      "source": [
        "e = f_taylor.subs(x,1)"
      ],
      "execution_count": null,
      "outputs": []
    },
    {
      "cell_type": "code",
      "metadata": {
        "colab": {
          "base_uri": "https://localhost:8080/",
          "height": 51
        },
        "id": "Dq-WHrEE6eii",
        "outputId": "8bac069a-7a50-43bd-e827-c53a8993f9a5"
      },
      "source": [
        "e"
      ],
      "execution_count": null,
      "outputs": [
        {
          "output_type": "execute_result",
          "data": {
            "text/latex": "$\\displaystyle \\frac{98641}{36288}$",
            "text/plain": [
              "98641/36288"
            ]
          },
          "metadata": {},
          "execution_count": 109
        }
      ]
    },
    {
      "cell_type": "markdown",
      "metadata": {
        "id": "TasPLKu26e_S"
      },
      "source": [
        "等等, 這個數字好像沒什麼意義。不過我們前面說過換成數值解的方法。"
      ]
    },
    {
      "cell_type": "code",
      "metadata": {
        "colab": {
          "base_uri": "https://localhost:8080/",
          "height": 37
        },
        "id": "8fi2oWLs6nuc",
        "outputId": "0b5febf4-f5a7-4296-ad5a-63a7ca14c42e"
      },
      "source": [
        "e.n(100)"
      ],
      "execution_count": null,
      "outputs": [
        {
          "output_type": "execute_result",
          "data": {
            "text/latex": "$\\displaystyle 2.718281525573192239858906525573192239858906525573192239858906525573192239858906525573192239858906526$",
            "text/plain": [
              "2.718281525573192239858906525573192239858906525573192239858906525573192239858906525573192239858906526"
            ]
          },
          "metadata": {},
          "execution_count": 110
        }
      ]
    },
    {
      "cell_type": "markdown",
      "metadata": {
        "id": "Ih03ow4a6wEQ"
      },
      "source": [
        "好奇的話我們可以比較一下正確答案。"
      ]
    },
    {
      "cell_type": "code",
      "metadata": {
        "colab": {
          "base_uri": "https://localhost:8080/",
          "height": 37
        },
        "id": "GfLVBv2e6ogH",
        "outputId": "dc8f18f2-862b-4383-de5d-ab95a8909c81"
      },
      "source": [
        "sp.exp(1).n(100)"
      ],
      "execution_count": null,
      "outputs": [
        {
          "output_type": "execute_result",
          "data": {
            "text/latex": "$\\displaystyle 2.718281828459045235360287471352662497757247093699959574966967627724076630353547594571382178525166427$",
            "text/plain": [
              "2.718281828459045235360287471352662497757247093699959574966967627724076630353547594571382178525166427"
            ]
          },
          "metadata": {},
          "execution_count": 111
        }
      ]
    },
    {
      "cell_type": "markdown",
      "metadata": {
        "id": "6YD7nYu0FnZd"
      },
      "source": [
        "### 互動感受泰勒多項式\n",
        "\n",
        "我們來用互動感受一下泰展多項式越來越像原來函數的感覺。"
      ]
    },
    {
      "cell_type": "code",
      "metadata": {
        "id": "9ZwUifd16sfk"
      },
      "source": [
        "from ipywidgets import interact"
      ],
      "execution_count": null,
      "outputs": []
    },
    {
      "cell_type": "code",
      "metadata": {
        "id": "lUFQBTve68tF"
      },
      "source": [
        "def taylor(n=10):\n",
        "    f = sp.exp(x)\n",
        "    egg = sp.series(f, n=n)\n",
        "    f_taylor = egg.removeO()\n",
        "    p1 = sp.plot(f, (x, -5, 5), line_color='blue', show=False)\n",
        "    p2 = sp.plot(f_taylor, (x, -5, 5), line_color='red', show=False)\n",
        "    p1.extend(p2)\n",
        "    p1.show()"
      ],
      "execution_count": null,
      "outputs": []
    },
    {
      "cell_type": "code",
      "metadata": {
        "colab": {
          "base_uri": "https://localhost:8080/",
          "height": 296
        },
        "id": "hPhGhhMt6-kw",
        "outputId": "d6ab6127-d97c-434f-b761-e155d42914f5"
      },
      "source": [
        "taylor(n=10)"
      ],
      "execution_count": null,
      "outputs": [
        {
          "output_type": "display_data",
          "data": {
            "image/png": "[encoded data removed]",
            "text/plain": [
              "<Figure size 432x288 with 1 Axes>"
            ]
          },
          "metadata": {
            "needs_background": "light"
          }
        }
      ]
    },
    {
      "cell_type": "code",
      "metadata": {
        "colab": {
          "base_uri": "https://localhost:8080/",
          "height": 346,
          "referenced_widgets": [
            "1b5e5b48cd9e4d3b9fa811f7e69e7bc2",
            "0902c010327d49cf83b30313bbd2c2cc",
            "291c3c94c7cf4a6984a8cc0e40fd3048",
            "94f7edc8f8f5410aac4e5523f6014b97",
            "544ce52649ae4ef4949b0e6fade7bc78",
            "3322df5eb12342388b070efd9b01fe88",
            "0b67ddb681724c749fc50d953a3e75e7"
          ]
        },
        "id": "9nQe7lfA9nBI",
        "outputId": "0e70d866-5f4b-44bc-8960-9dd68f6c0229"
      },
      "source": [
        "interact(taylor, n=(1,50))"
      ],
      "execution_count": null,
      "outputs": [
        {
          "output_type": "display_data",
          "data": {
            "application/vnd.jupyter.widget-view+json": {
              "model_id": "1b5e5b48cd9e4d3b9fa811f7e69e7bc2",
              "version_minor": 0,
              "version_major": 2
            },
            "text/plain": [
              "interactive(children=(IntSlider(value=10, description='n', max=50, min=1), Output()), _dom_classes=('widget-in…"
            ]
          },
          "metadata": {}
        },
        {
          "output_type": "execute_result",
          "data": {
            "text/plain": [
              "<function __main__.taylor>"
            ]
          },
          "metadata": {},
          "execution_count": 115
        }
      ]
    },
    {
      "cell_type": "markdown",
      "metadata": {
        "id": "MwmLMdqI-84Y"
      },
      "source": [
        "### 應用範例: 計算 $\\pi$ 值\n",
        "\n",
        "我們知道\n",
        "\n",
        "$$\\tan(\\pi/4) = 1$$"
      ]
    },
    {
      "cell_type": "code",
      "metadata": {
        "colab": {
          "base_uri": "https://localhost:8080/",
          "height": 37
        },
        "id": "5LCgWAWM_GyT",
        "outputId": "7806f958-db17-49b9-ff4c-154e9f9604cd"
      },
      "source": [
        "sp.tan(π/4)"
      ],
      "execution_count": null,
      "outputs": [
        {
          "output_type": "execute_result",
          "data": {
            "text/latex": "$\\displaystyle 1$",
            "text/plain": [
              "1"
            ]
          },
          "metadata": {},
          "execution_count": 116
        }
      ]
    },
    {
      "cell_type": "markdown",
      "metadata": {
        "id": "Y6xTog09_Hh6"
      },
      "source": [
        "也就是說\n",
        "\n",
        "$$\\arctan(1) = \\pi/4$$\n",
        "\n",
        "於是我們求出 $\\arctan(x)$ 的泰勒多項式, 計算 $\\arctan(1)$ 的值, 乘以 4 就是 $\\pi$!。"
      ]
    },
    {
      "cell_type": "code",
      "metadata": {
        "id": "ZXRaiZBx_BsA"
      },
      "source": [
        "f = sp.atan(x)"
      ],
      "execution_count": null,
      "outputs": []
    },
    {
      "cell_type": "code",
      "metadata": {
        "id": "UdhAecib_CIO"
      },
      "source": [
        "n = 100\n",
        "\n",
        "f_taylor = sp.series(f, n=n).removeO()"
      ],
      "execution_count": null,
      "outputs": []
    },
    {
      "cell_type": "code",
      "metadata": {
        "id": "1nOVoZl-Hw1c"
      },
      "source": [
        "pi = 4*f_taylor.subs(x, 1)"
      ],
      "execution_count": null,
      "outputs": []
    },
    {
      "cell_type": "code",
      "metadata": {
        "colab": {
          "base_uri": "https://localhost:8080/",
          "height": 51
        },
        "id": "Yv3fi2z6H3Q5",
        "outputId": "5ec7cbaf-6a3b-4412-c4c3-6a2c0ee9f615"
      },
      "source": [
        "pi"
      ],
      "execution_count": null,
      "outputs": [
        {
          "output_type": "execute_result",
          "data": {
            "text/latex": "$\\displaystyle \\frac{3400605476464206445954873476681150352328}{1089380862964257455695840764614254743075}$",
            "text/plain": [
              "3400605476464206445954873476681150352328/1089380862964257455695840764614254743075"
            ]
          },
          "metadata": {},
          "execution_count": 120
        }
      ]
    },
    {
      "cell_type": "code",
      "metadata": {
        "colab": {
          "base_uri": "https://localhost:8080/",
          "height": 37
        },
        "id": "c42cgfxkH4Gk",
        "outputId": "02ded846-dcae-45de-aacd-4763ee6261a2"
      },
      "source": [
        "pi.n(100)"
      ],
      "execution_count": null,
      "outputs": [
        {
          "output_type": "execute_result",
          "data": {
            "text/latex": "$\\displaystyle 3.121594652591010478513182974309492432921769645371316046487107937488694108637565199901122799959931506$",
            "text/plain": [
              "3.121594652591010478513182974309492432921769645371316046487107937488694108637565199901122799959931506"
            ]
          },
          "metadata": {},
          "execution_count": 121
        }
      ]
    },
    {
      "cell_type": "markdown",
      "metadata": {
        "id": "8EDHMagEH5TF"
      },
      "source": [
        "等等, 這小數點第二位就錯了, 這實在太遜了一點! 沒有錯, 其實這是收斂超慢計算 $\\pi$ 的方法。比較好的方法像是數學神人拉馬努金 (Ramanujan) 我們根本猜不到他怎麼想出來, 和 $\\pi$ 有關的等式:\n",
        "\n",
        "$$\\dfrac{4}{\\pi} = \\dfrac{1}{882} \\sum_{n=0}^\\infty \\dfrac{(-1)^n(4n)!}{(4^nn!)^4} \\dfrac{1123 + 21460n}{882^{2n}}$$\n",
        "\n",
        "有興趣可以用 `sympy` 算算看, 會發現比我們上面用的方法好太多!"
      ]
    }
  ]
}