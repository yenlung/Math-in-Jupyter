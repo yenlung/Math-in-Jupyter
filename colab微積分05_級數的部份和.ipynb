{
  "nbformat": 4,
  "nbformat_minor": 0,
  "metadata": {
    "colab": {
      "name": "colab05_級數的部份和.ipynb",
      "provenance": [],
      "authorship_tag": "ABX9TyPnGX5CYae/1nrUlLdh1gcr",
      "include_colab_link": true
    },
    "kernelspec": {
      "name": "python3",
      "display_name": "Python 3"
    },
    "language_info": {
      "name": "python"
    }
  },
  "cells": [
    {
      "cell_type": "markdown",
      "metadata": {
        "id": "view-in-github",
        "colab_type": "text"
      },
      "source": [
        "<a href=\"https://colab.research.google.com/github/yenlung/Math-in-Jupyter/blob/main/colab%E5%BE%AE%E7%A9%8D%E5%88%8605_%E7%B4%9A%E6%95%B8%E7%9A%84%E9%83%A8%E4%BB%BD%E5%92%8C.ipynb\" target=\"_parent\"><img src=\"https://colab.research.google.com/assets/colab-badge.svg\" alt=\"Open In Colab\"/></a>"
      ]
    },
    {
      "cell_type": "code",
      "execution_count": null,
      "metadata": {
        "id": "Ch4H1DnQIv4F"
      },
      "outputs": [],
      "source": [
        "%matplotlib inline\n",
        "\n",
        "import numpy as np\n",
        "import sympy as sp\n",
        "import matplotlib.pyplot as plt"
      ]
    },
    {
      "cell_type": "markdown",
      "source": [
        "## 1. 記得要交給 `sympy` 算時要 `sympify`\n",
        "\n",
        "`sympify` 就是「`sympy` 化」的意思, 有個簡潔的縮寫叫 `S`"
      ],
      "metadata": {
        "id": "EwvD7s1PI7cM"
      }
    },
    {
      "cell_type": "code",
      "source": [
        "from sympy import S"
      ],
      "metadata": {
        "id": "Bv2HdOjdJcWV"
      },
      "execution_count": null,
      "outputs": []
    },
    {
      "cell_type": "code",
      "source": [
        "S(1)/87"
      ],
      "metadata": {
        "colab": {
          "base_uri": "https://localhost:8080/",
          "height": 51
        },
        "id": "zuGidLdCJeRC",
        "outputId": "e86c6ff8-8b07-4ae6-b121-c893914b3c17"
      },
      "execution_count": null,
      "outputs": [
        {
          "output_type": "execute_result",
          "data": {
            "text/plain": [
              "1/87"
            ],
            "text/latex": "$\\displaystyle \\frac{1}{87}$"
          },
          "metadata": {},
          "execution_count": 3
        }
      ]
    },
    {
      "cell_type": "markdown",
      "source": [
        "沒有設的話會是這樣..."
      ],
      "metadata": {
        "id": "IjM2neo6Jfag"
      }
    },
    {
      "cell_type": "code",
      "source": [
        "1/87"
      ],
      "metadata": {
        "colab": {
          "base_uri": "https://localhost:8080/"
        },
        "id": "39G989HaJkBh",
        "outputId": "e889b94d-afc3-4317-dc86-def9404e04e7"
      },
      "execution_count": null,
      "outputs": [
        {
          "output_type": "execute_result",
          "data": {
            "text/plain": [
              "0.011494252873563218"
            ]
          },
          "metadata": {},
          "execution_count": 4
        }
      ]
    },
    {
      "cell_type": "markdown",
      "source": [
        "## 2. 標準一一加起來的動作\n",
        "\n",
        "現在我們知道 $a_n$ 長什麼樣子, 要算部份和 $s_n$, 也就是\n",
        "\n",
        "$$s_n = a_1 + a_2 + \\cdots + a_n$$\n",
        "\n",
        "方法是這樣, 我們先設\n",
        "\n",
        "`s=0`\n",
        "\n",
        "然後 $n=1$ 時, 令\n",
        "\n",
        "`s = s + a1`\n",
        "\n",
        "再來 $n=2$ 時\n",
        "\n",
        "`s = s + a2`, 即 `s = a1 + a2`\n",
        "\n",
        "以此類推加到我們要加的項。\n",
        "\n",
        "以 $a_n = 1/n$ 為例...\n"
      ],
      "metadata": {
        "id": "jz80djNoJkkp"
      }
    },
    {
      "cell_type": "code",
      "source": [
        "def partial_sum(n):\n",
        "    s = 0\n",
        "    for k in range(1, n+1):\n",
        "        s = s + S(1)/k\n",
        "    return s\n"
      ],
      "metadata": {
        "id": "UXFhjfroLOvC"
      },
      "execution_count": null,
      "outputs": []
    },
    {
      "cell_type": "markdown",
      "source": [
        "來看幾個例子..."
      ],
      "metadata": {
        "id": "HXT1Ev0QMbEj"
      }
    },
    {
      "cell_type": "code",
      "source": [
        "partial_sum(1) # 1"
      ],
      "metadata": {
        "colab": {
          "base_uri": "https://localhost:8080/",
          "height": 37
        },
        "id": "WepbYwIcMdho",
        "outputId": "c0da6356-cd53-4785-b113-d698277c2704"
      },
      "execution_count": null,
      "outputs": [
        {
          "output_type": "execute_result",
          "data": {
            "text/plain": [
              "1"
            ],
            "text/latex": "$\\displaystyle 1$"
          },
          "metadata": {},
          "execution_count": 13
        }
      ]
    },
    {
      "cell_type": "code",
      "source": [
        "partial_sum(2) # 1 + 1/2"
      ],
      "metadata": {
        "colab": {
          "base_uri": "https://localhost:8080/",
          "height": 51
        },
        "id": "fO2r6aWRMjAm",
        "outputId": "2d678e5a-5c7d-4bda-b59c-ea13dbf37cc3"
      },
      "execution_count": null,
      "outputs": [
        {
          "output_type": "execute_result",
          "data": {
            "text/plain": [
              "3/2"
            ],
            "text/latex": "$\\displaystyle \\frac{3}{2}$"
          },
          "metadata": {},
          "execution_count": 15
        }
      ]
    },
    {
      "cell_type": "code",
      "source": [
        "partial_sum(3) # 1 + 1/2 + 1/3"
      ],
      "metadata": {
        "colab": {
          "base_uri": "https://localhost:8080/",
          "height": 51
        },
        "id": "RcSIC5vjMkla",
        "outputId": "b659907e-bded-4aa4-b205-3ff1d9b41ef2"
      },
      "execution_count": null,
      "outputs": [
        {
          "output_type": "execute_result",
          "data": {
            "text/plain": [
              "11/6"
            ],
            "text/latex": "$\\displaystyle \\frac{11}{6}$"
          },
          "metadata": {},
          "execution_count": 16
        }
      ]
    },
    {
      "cell_type": "markdown",
      "source": [
        "勇敢加到第 87 項!"
      ],
      "metadata": {
        "id": "4ApZwAI8M1QO"
      }
    },
    {
      "cell_type": "code",
      "source": [
        "partial_sum(87)"
      ],
      "metadata": {
        "colab": {
          "base_uri": "https://localhost:8080/",
          "height": 51
        },
        "id": "A5genOrdM8yD",
        "outputId": "78195c4d-da10-4f30-c752-7a02b785d5f5"
      },
      "execution_count": null,
      "outputs": [
        {
          "output_type": "execute_result",
          "data": {
            "text/plain": [
              "3706795349055853229324900260857622319/734184632222154704090370027645633600"
            ],
            "text/latex": "$\\displaystyle \\frac{3706795349055853229324900260857622319}{734184632222154704090370027645633600}$"
          },
          "metadata": {},
          "execution_count": 17
        }
      ]
    },
    {
      "cell_type": "markdown",
      "source": [
        "看不出來是什麼可以這麼做..."
      ],
      "metadata": {
        "id": "8dy2Dvj8M-KM"
      }
    },
    {
      "cell_type": "code",
      "source": [
        "partial_sum(87).n(2)"
      ],
      "metadata": {
        "colab": {
          "base_uri": "https://localhost:8080/",
          "height": 37
        },
        "id": "SJkAHUs2NDyF",
        "outputId": "3202dd82-51e1-4029-ce71-fc4ec751ca29"
      },
      "execution_count": null,
      "outputs": [
        {
          "output_type": "execute_result",
          "data": {
            "text/plain": [
              "5.0"
            ],
            "text/latex": "$\\displaystyle 5.0$"
          },
          "metadata": {},
          "execution_count": 18
        }
      ]
    },
    {
      "cell_type": "code",
      "source": [
        "partial_sum(9487).n(2)"
      ],
      "metadata": {
        "colab": {
          "base_uri": "https://localhost:8080/",
          "height": 37
        },
        "id": "iuD1eT0-NFqN",
        "outputId": "7fba7f16-17b3-42b9-fd62-c7316c4900f8"
      },
      "execution_count": null,
      "outputs": [
        {
          "output_type": "execute_result",
          "data": {
            "text/plain": [
              "9.7"
            ],
            "text/latex": "$\\displaystyle 9.7$"
          },
          "metadata": {},
          "execution_count": 19
        }
      ]
    },
    {
      "cell_type": "markdown",
      "source": [
        "看來就慢慢變大, 最後這會逼近無窮大。這是我們知道的。"
      ],
      "metadata": {
        "id": "a8COlMOmNLp0"
      }
    },
    {
      "cell_type": "markdown",
      "source": [
        "## 3. 冪級數的情況, 我們居然會算 $\\ln$!!\n",
        "\n",
        "上課時我們知道, 我們可以把 $\\ln(1+x)$ 變成一個冪級數:\n",
        "\n",
        "$$\\ln(1+x) = \\sum_{n=1}^\\infty (-1)^{n+1} \\dfrac{x^n}{n}$$"
      ],
      "metadata": {
        "id": "4qX3MMnrNTf2"
      }
    },
    {
      "cell_type": "code",
      "source": [
        "def ln(n, x):\n",
        "    s = 0\n",
        "    for k in range(1, n+1):\n",
        "        s = s + (-1)**(k+1)*x**k/k\n",
        "    return s"
      ],
      "metadata": {
        "id": "P3pzKdfIN9o8"
      },
      "execution_count": null,
      "outputs": []
    },
    {
      "cell_type": "code",
      "source": [
        "ln(10, S(7)/10).n(10)"
      ],
      "metadata": {
        "colab": {
          "base_uri": "https://localhost:8080/",
          "height": 37
        },
        "id": "ec-c2atlP_kV",
        "outputId": "9b10477c-62c1-4c73-8d2c-8ecb2ffa7083"
      },
      "execution_count": null,
      "outputs": [
        {
          "output_type": "execute_result",
          "data": {
            "text/plain": [
              "0.5295320470"
            ],
            "text/latex": "$\\displaystyle 0.529532047$"
          },
          "metadata": {},
          "execution_count": 29
        }
      ]
    },
    {
      "cell_type": "code",
      "source": [
        "sp.ln(S(17)/10).n(10)"
      ],
      "metadata": {
        "colab": {
          "base_uri": "https://localhost:8080/",
          "height": 37
        },
        "id": "0u-980KSQE-g",
        "outputId": "f1efd037-36b3-4604-8389-37713a6f8b67"
      },
      "execution_count": null,
      "outputs": [
        {
          "output_type": "execute_result",
          "data": {
            "text/plain": [
              "0.5306282511"
            ],
            "text/latex": "$\\displaystyle 0.5306282511$"
          },
          "metadata": {},
          "execution_count": 30
        }
      ]
    },
    {
      "cell_type": "markdown",
      "source": [
        "## 4. 練習: 來計算 $\\pi$ 吧\n",
        "\n",
        "我們知道\n",
        "\n",
        "$$\\tan^{-1}(x) = \\sum_{n=0}^{\\infty} (-1)^{n} \\dfrac{x^{2n+1}}{2n+1}$$\n",
        "\n",
        "$$\\pi = 4 \\cdot \\tan^{-1}(1)$$\n",
        "\n",
        "可以寫個程式計算 $\\pi$ 嗎?"
      ],
      "metadata": {
        "id": "V-nyiTJIQV86"
      }
    },
    {
      "cell_type": "code",
      "source": [
        ""
      ],
      "metadata": {
        "id": "SFRo24M3Q0aP"
      },
      "execution_count": null,
      "outputs": []
    }
  ]
}