{
  "nbformat": 4,
  "nbformat_minor": 0,
  "metadata": {
    "colab": {
      "name": "colab微積分02 求極限.ipynb",
      "provenance": [],
      "authorship_tag": "ABX9TyPUKK8FRlBs1rTVPXmBL9vL",
      "include_colab_link": true
    },
    "kernelspec": {
      "name": "python3",
      "display_name": "Python 3"
    },
    "language_info": {
      "name": "python"
    }
  },
  "cells": [
    {
      "cell_type": "markdown",
      "metadata": {
        "id": "view-in-github",
        "colab_type": "text"
      },
      "source": [
        "<a href=\"https://colab.research.google.com/github/yenlung/Math-in-Jupyter/blob/main/colab%E5%BE%AE%E7%A9%8D%E5%88%8602_%E6%B1%82%E6%A5%B5%E9%99%90.ipynb\" target=\"_parent\"><img src=\"https://colab.research.google.com/assets/colab-badge.svg\" alt=\"Open In Colab\"/></a>"
      ]
    },
    {
      "cell_type": "code",
      "metadata": {
        "id": "F5eNEdCK6bDw"
      },
      "source": [
        "%matplotlib inline\n",
        "\n",
        "import numpy as np\n",
        "import sympy as sp\n",
        "import matplotlib.pyplot as plt"
      ],
      "execution_count": 1,
      "outputs": []
    },
    {
      "cell_type": "markdown",
      "metadata": {
        "id": "ZVhZ009S6kvI"
      },
      "source": [
        "## 1. 數值的逼近"
      ]
    },
    {
      "cell_type": "markdown",
      "metadata": {
        "id": "o4VO-qHc6n5T"
      },
      "source": [
        "#### 【例子】\n",
        "\n",
        "$$\\lim_{x \\to 2} x^2 - x + 2$$"
      ]
    },
    {
      "cell_type": "code",
      "metadata": {
        "id": "NrGI-b0768OP"
      },
      "source": [
        "points = [1.9, 1.91, 1.92, 1.93, 1.94, 1.95, 1.96, 1.97, 1.98, 1.99]"
      ],
      "execution_count": 3,
      "outputs": []
    },
    {
      "cell_type": "code",
      "metadata": {
        "colab": {
          "base_uri": "https://localhost:8080/"
        },
        "id": "bVvL9eRd7T1E",
        "outputId": "f4cf668b-fc0a-4307-a447-d715588e8941"
      },
      "source": [
        "for x in points:\n",
        "    fx = x**2 - x + 2\n",
        "    print(f'x={x} 時, f(x)={fx}')"
      ],
      "execution_count": 4,
      "outputs": [
        {
          "output_type": "stream",
          "name": "stdout",
          "text": [
            "x=1.9 時, f(x)=3.71\n",
            "x=1.91 時, f(x)=3.7381\n",
            "x=1.92 時, f(x)=3.7664\n",
            "x=1.93 時, f(x)=3.7949\n",
            "x=1.94 時, f(x)=3.8236\n",
            "x=1.95 時, f(x)=3.8525\n",
            "x=1.96 時, f(x)=3.8815999999999997\n",
            "x=1.97 時, f(x)=3.9109\n",
            "x=1.98 時, f(x)=3.9404\n",
            "x=1.99 時, f(x)=3.9701000000000004\n"
          ]
        }
      ]
    },
    {
      "cell_type": "code",
      "metadata": {
        "id": "4QrkxVIJ7mCI"
      },
      "source": [
        "points = np.linspace(2.01, 2.9, 10)"
      ],
      "execution_count": 5,
      "outputs": []
    },
    {
      "cell_type": "markdown",
      "metadata": {
        "id": "s999Kljy8m1c"
      },
      "source": [
        "在 Python 中，list 或 array 我們都可以快速反轉!"
      ]
    },
    {
      "cell_type": "code",
      "metadata": {
        "colab": {
          "base_uri": "https://localhost:8080/"
        },
        "id": "trfCAh3Z728y",
        "outputId": "27560155-6174-4611-caaa-10febc42383e"
      },
      "source": [
        "points[::-1]"
      ],
      "execution_count": 11,
      "outputs": [
        {
          "output_type": "execute_result",
          "data": {
            "text/plain": [
              "array([2.9       , 2.80111111, 2.70222222, 2.60333333, 2.50444444,\n",
              "       2.40555556, 2.30666667, 2.20777778, 2.10888889, 2.01      ])"
            ]
          },
          "metadata": {},
          "execution_count": 11
        }
      ]
    },
    {
      "cell_type": "code",
      "metadata": {
        "id": "IaUbudJP8lim"
      },
      "source": [
        "points = points[::-1]"
      ],
      "execution_count": 12,
      "outputs": []
    },
    {
      "cell_type": "code",
      "metadata": {
        "colab": {
          "base_uri": "https://localhost:8080/"
        },
        "id": "01CDJMoD73jW",
        "outputId": "17fe87fe-d490-4ad4-ce39-2912032fd140"
      },
      "source": [
        "for x in points:\n",
        "    fx = x**2 - x + 2\n",
        "    print(f'x={x} 時, f(x)={fx}')"
      ],
      "execution_count": 13,
      "outputs": [
        {
          "output_type": "stream",
          "name": "stdout",
          "text": [
            "x=2.9 時, f(x)=7.51\n",
            "x=2.801111111111111 時, f(x)=7.045112345679012\n",
            "x=2.702222222222222 時, f(x)=6.599782716049381\n",
            "x=2.603333333333333 時, f(x)=6.17401111111111\n",
            "x=2.5044444444444443 時, f(x)=5.767797530864197\n",
            "x=2.4055555555555554 時, f(x)=5.381141975308642\n",
            "x=2.3066666666666666 時, f(x)=5.014044444444444\n",
            "x=2.2077777777777774 時, f(x)=4.666504938271603\n",
            "x=2.1088888888888886 時, f(x)=4.3385234567901225\n",
            "x=2.01 時, f(x)=4.030099999999999\n"
          ]
        }
      ]
    },
    {
      "cell_type": "markdown",
      "metadata": {
        "id": "Q43ArDM-8wmd"
      },
      "source": [
        "這讓我們感受到, \n",
        "\n",
        "$$\\lim_{x \\to 2} x^2 - x + 2 = 4$$\n",
        "\n",
        "和我們想像中的一樣!"
      ]
    },
    {
      "cell_type": "markdown",
      "metadata": {
        "id": "C4q8gpZx8-h8"
      },
      "source": [
        "## 2. 用 sympy 來算極限"
      ]
    },
    {
      "cell_type": "markdown",
      "metadata": {
        "id": "IRr4LUeu9Oiz"
      },
      "source": [
        "### 2.1 設定 sympy 用的變數"
      ]
    },
    {
      "cell_type": "code",
      "metadata": {
        "id": "L0m2c9Dt9DXU"
      },
      "source": [
        "from sympy.abc import x"
      ],
      "execution_count": 14,
      "outputs": []
    },
    {
      "cell_type": "code",
      "metadata": {
        "id": "EqQkLX9d9Hpi"
      },
      "source": [
        "f = x**2 - x + 2"
      ],
      "execution_count": 18,
      "outputs": []
    },
    {
      "cell_type": "code",
      "metadata": {
        "colab": {
          "base_uri": "https://localhost:8080/",
          "height": 39
        },
        "id": "RYWBDGP59ItW",
        "outputId": "e26858cf-4aa6-42d2-8068-eb44d922aade"
      },
      "source": [
        "f"
      ],
      "execution_count": 19,
      "outputs": [
        {
          "output_type": "execute_result",
          "data": {
            "text/latex": "$\\displaystyle x^{2} - x + 2$",
            "text/plain": [
              "x**2 - x + 2"
            ]
          },
          "metadata": {},
          "execution_count": 19
        }
      ]
    },
    {
      "cell_type": "markdown",
      "metadata": {
        "id": "nDMfpbB09JEE"
      },
      "source": [
        "### 2.2 代入一個數值"
      ]
    },
    {
      "cell_type": "code",
      "metadata": {
        "colab": {
          "base_uri": "https://localhost:8080/",
          "height": 37
        },
        "id": "n5ieYPY-9X60",
        "outputId": "9672044f-9718-4ee2-bbfc-8e427d4e3392"
      },
      "source": [
        "f.subs(x,2)"
      ],
      "execution_count": 20,
      "outputs": [
        {
          "output_type": "execute_result",
          "data": {
            "text/latex": "$\\displaystyle 4$",
            "text/plain": [
              "4"
            ]
          },
          "metadata": {},
          "execution_count": 20
        }
      ]
    },
    {
      "cell_type": "markdown",
      "metadata": {
        "id": "l38A2RFH9Zo_"
      },
      "source": [
        "### 2.3 求極限"
      ]
    },
    {
      "cell_type": "code",
      "metadata": {
        "colab": {
          "base_uri": "https://localhost:8080/",
          "height": 37
        },
        "id": "pWjZg1w89joH",
        "outputId": "d9779adc-9ab6-4a4d-c4cc-0e9338b2c70e"
      },
      "source": [
        "sp.limit(f, x, 2)"
      ],
      "execution_count": 23,
      "outputs": [
        {
          "output_type": "execute_result",
          "data": {
            "text/latex": "$\\displaystyle 4$",
            "text/plain": [
              "4"
            ]
          },
          "metadata": {},
          "execution_count": 23
        }
      ]
    },
    {
      "cell_type": "markdown",
      "metadata": {
        "id": "o_nm-E1r96Xo"
      },
      "source": [
        "難一點的試試看。"
      ]
    },
    {
      "cell_type": "code",
      "metadata": {
        "id": "QseB6JQS-LUI"
      },
      "source": [
        "f = (x**3+2*x**2-1)/(5-3*x)"
      ],
      "execution_count": 24,
      "outputs": []
    },
    {
      "cell_type": "code",
      "metadata": {
        "colab": {
          "base_uri": "https://localhost:8080/",
          "height": 55
        },
        "id": "cMjT5bKo-SBC",
        "outputId": "c648472e-b23f-4565-d340-3d56cee9a720"
      },
      "source": [
        "f"
      ],
      "execution_count": 25,
      "outputs": [
        {
          "output_type": "execute_result",
          "data": {
            "text/latex": "$\\displaystyle \\frac{x^{3} + 2 x^{2} - 1}{5 - 3 x}$",
            "text/plain": [
              "(x**3 + 2*x**2 - 1)/(5 - 3*x)"
            ]
          },
          "metadata": {},
          "execution_count": 25
        }
      ]
    },
    {
      "cell_type": "code",
      "metadata": {
        "colab": {
          "base_uri": "https://localhost:8080/",
          "height": 51
        },
        "id": "KgTVCu72-Sv5",
        "outputId": "b1a155e6-8d59-4b51-f9c3-18e363a042a3"
      },
      "source": [
        "sp.limit(f, x, -2)"
      ],
      "execution_count": 26,
      "outputs": [
        {
          "output_type": "execute_result",
          "data": {
            "text/latex": "$\\displaystyle - \\frac{1}{11}$",
            "text/plain": [
              "-1/11"
            ]
          },
          "metadata": {},
          "execution_count": 26
        }
      ]
    },
    {
      "cell_type": "markdown",
      "metadata": {
        "id": "2b2ia6qT-VdW"
      },
      "source": [
        "完全可以抄, 我是說, 可以驗算自己做的結果!"
      ]
    },
    {
      "cell_type": "code",
      "metadata": {
        "id": "-c-klVWm-bNk"
      },
      "source": [
        "f = (x**2-1)/(x-1)"
      ],
      "execution_count": 27,
      "outputs": []
    },
    {
      "cell_type": "code",
      "metadata": {
        "colab": {
          "base_uri": "https://localhost:8080/",
          "height": 55
        },
        "id": "gRWCJeIR-fP6",
        "outputId": "430895cd-d506-4797-f3b2-93433d210310"
      },
      "source": [
        "f"
      ],
      "execution_count": 28,
      "outputs": [
        {
          "output_type": "execute_result",
          "data": {
            "text/latex": "$\\displaystyle \\frac{x^{2} - 1}{x - 1}$",
            "text/plain": [
              "(x**2 - 1)/(x - 1)"
            ]
          },
          "metadata": {},
          "execution_count": 28
        }
      ]
    },
    {
      "cell_type": "code",
      "metadata": {
        "colab": {
          "base_uri": "https://localhost:8080/",
          "height": 37
        },
        "id": "5PyI0SmR-iX6",
        "outputId": "38e172ed-a648-4ea3-a4fd-fe43c635d15d"
      },
      "source": [
        "sp.limit(f, x, 1)"
      ],
      "execution_count": 29,
      "outputs": [
        {
          "output_type": "execute_result",
          "data": {
            "text/latex": "$\\displaystyle 2$",
            "text/plain": [
              "2"
            ]
          },
          "metadata": {},
          "execution_count": 29
        }
      ]
    },
    {
      "cell_type": "markdown",
      "metadata": {
        "id": "eyFxGd5w-j6V"
      },
      "source": [
        "##【作業】\n",
        "\n",
        "和 Python PK! 試試看他求極限的功力強, 還是你求極限的功加強。\n"
      ]
    }
  ]
}