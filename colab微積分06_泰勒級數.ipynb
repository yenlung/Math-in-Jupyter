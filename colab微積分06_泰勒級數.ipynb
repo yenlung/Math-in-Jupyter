{
  "nbformat": 4,
  "nbformat_minor": 0,
  "metadata": {
    "colab": {
      "name": "colab微積分06_泰勒級數.ipynb",
      "provenance": [],
      "collapsed_sections": [],
      "authorship_tag": "ABX9TyO9VjRhMxFNyJXiSiVasi+j",
      "include_colab_link": true
    },
    "kernelspec": {
      "name": "python3",
      "display_name": "Python 3"
    },
    "language_info": {
      "name": "python"
    },
    "widgets": {
      "application/vnd.jupyter.widget-state+json": {
        "84bd65e2322446febd8fb2900582b078": {
          "model_module": "@jupyter-widgets/controls",
          "model_name": "VBoxModel",
          "model_module_version": "1.5.0",
          "state": {
            "_dom_classes": [
              "widget-interact"
            ],
            "_model_module": "@jupyter-widgets/controls",
            "_model_module_version": "1.5.0",
            "_model_name": "VBoxModel",
            "_view_count": null,
            "_view_module": "@jupyter-widgets/controls",
            "_view_module_version": "1.5.0",
            "_view_name": "VBoxView",
            "box_style": "",
            "children": [
              "IPY_MODEL_4d57f0378f0040adb7594b7cc7cf0215",
              "IPY_MODEL_b2e517df9703415eb7a6d25d427e5e67"
            ],
            "layout": "IPY_MODEL_790e7da5897e4a2ab31f50728ae13674"
          }
        },
        "4d57f0378f0040adb7594b7cc7cf0215": {
          "model_module": "@jupyter-widgets/controls",
          "model_name": "IntSliderModel",
          "model_module_version": "1.5.0",
          "state": {
            "_dom_classes": [],
            "_model_module": "@jupyter-widgets/controls",
            "_model_module_version": "1.5.0",
            "_model_name": "IntSliderModel",
            "_view_count": null,
            "_view_module": "@jupyter-widgets/controls",
            "_view_module_version": "1.5.0",
            "_view_name": "IntSliderView",
            "continuous_update": true,
            "description": "n",
            "description_tooltip": null,
            "disabled": false,
            "layout": "IPY_MODEL_8a50a2290cbc40828c774707288dc5b1",
            "max": 20,
            "min": 1,
            "orientation": "horizontal",
            "readout": true,
            "readout_format": "d",
            "step": 1,
            "style": "IPY_MODEL_093dea7f6fb849998ff2c69928d6107d",
            "value": 10
          }
        },
        "b2e517df9703415eb7a6d25d427e5e67": {
          "model_module": "@jupyter-widgets/output",
          "model_name": "OutputModel",
          "model_module_version": "1.0.0",
          "state": {
            "_dom_classes": [],
            "_model_module": "@jupyter-widgets/output",
            "_model_module_version": "1.0.0",
            "_model_name": "OutputModel",
            "_view_count": null,
            "_view_module": "@jupyter-widgets/output",
            "_view_module_version": "1.0.0",
            "_view_name": "OutputView",
            "layout": "IPY_MODEL_75d8694d957f45d881601098edd40fa4",
            "msg_id": "",
            "outputs": [
              {
                "output_type": "display_data",
                "data": {
                  "text/plain": "<Figure size 432x288 with 1 Axes>",
                  "image/png": "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\n"
                },
                "metadata": {
                  "needs_background": "light"
                }
              }
            ]
          }
        },
        "790e7da5897e4a2ab31f50728ae13674": {
          "model_module": "@jupyter-widgets/base",
          "model_name": "LayoutModel",
          "model_module_version": "1.2.0",
          "state": {
            "_model_module": "@jupyter-widgets/base",
            "_model_module_version": "1.2.0",
            "_model_name": "LayoutModel",
            "_view_count": null,
            "_view_module": "@jupyter-widgets/base",
            "_view_module_version": "1.2.0",
            "_view_name": "LayoutView",
            "align_content": null,
            "align_items": null,
            "align_self": null,
            "border": null,
            "bottom": null,
            "display": null,
            "flex": null,
            "flex_flow": null,
            "grid_area": null,
            "grid_auto_columns": null,
            "grid_auto_flow": null,
            "grid_auto_rows": null,
            "grid_column": null,
            "grid_gap": null,
            "grid_row": null,
            "grid_template_areas": null,
            "grid_template_columns": null,
            "grid_template_rows": null,
            "height": null,
            "justify_content": null,
            "justify_items": null,
            "left": null,
            "margin": null,
            "max_height": null,
            "max_width": null,
            "min_height": null,
            "min_width": null,
            "object_fit": null,
            "object_position": null,
            "order": null,
            "overflow": null,
            "overflow_x": null,
            "overflow_y": null,
            "padding": null,
            "right": null,
            "top": null,
            "visibility": null,
            "width": null
          }
        },
        "8a50a2290cbc40828c774707288dc5b1": {
          "model_module": "@jupyter-widgets/base",
          "model_name": "LayoutModel",
          "model_module_version": "1.2.0",
          "state": {
            "_model_module": "@jupyter-widgets/base",
            "_model_module_version": "1.2.0",
            "_model_name": "LayoutModel",
            "_view_count": null,
            "_view_module": "@jupyter-widgets/base",
            "_view_module_version": "1.2.0",
            "_view_name": "LayoutView",
            "align_content": null,
            "align_items": null,
            "align_self": null,
            "border": null,
            "bottom": null,
            "display": null,
            "flex": null,
            "flex_flow": null,
            "grid_area": null,
            "grid_auto_columns": null,
            "grid_auto_flow": null,
            "grid_auto_rows": null,
            "grid_column": null,
            "grid_gap": null,
            "grid_row": null,
            "grid_template_areas": null,
            "grid_template_columns": null,
            "grid_template_rows": null,
            "height": null,
            "justify_content": null,
            "justify_items": null,
            "left": null,
            "margin": null,
            "max_height": null,
            "max_width": null,
            "min_height": null,
            "min_width": null,
            "object_fit": null,
            "object_position": null,
            "order": null,
            "overflow": null,
            "overflow_x": null,
            "overflow_y": null,
            "padding": null,
            "right": null,
            "top": null,
            "visibility": null,
            "width": null
          }
        },
        "093dea7f6fb849998ff2c69928d6107d": {
          "model_module": "@jupyter-widgets/controls",
          "model_name": "SliderStyleModel",
          "model_module_version": "1.5.0",
          "state": {
            "_model_module": "@jupyter-widgets/controls",
            "_model_module_version": "1.5.0",
            "_model_name": "SliderStyleModel",
            "_view_count": null,
            "_view_module": "@jupyter-widgets/base",
            "_view_module_version": "1.2.0",
            "_view_name": "StyleView",
            "description_width": "",
            "handle_color": null
          }
        },
        "75d8694d957f45d881601098edd40fa4": {
          "model_module": "@jupyter-widgets/base",
          "model_name": "LayoutModel",
          "model_module_version": "1.2.0",
          "state": {
            "_model_module": "@jupyter-widgets/base",
            "_model_module_version": "1.2.0",
            "_model_name": "LayoutModel",
            "_view_count": null,
            "_view_module": "@jupyter-widgets/base",
            "_view_module_version": "1.2.0",
            "_view_name": "LayoutView",
            "align_content": null,
            "align_items": null,
            "align_self": null,
            "border": null,
            "bottom": null,
            "display": null,
            "flex": null,
            "flex_flow": null,
            "grid_area": null,
            "grid_auto_columns": null,
            "grid_auto_flow": null,
            "grid_auto_rows": null,
            "grid_column": null,
            "grid_gap": null,
            "grid_row": null,
            "grid_template_areas": null,
            "grid_template_columns": null,
            "grid_template_rows": null,
            "height": null,
            "justify_content": null,
            "justify_items": null,
            "left": null,
            "margin": null,
            "max_height": null,
            "max_width": null,
            "min_height": null,
            "min_width": null,
            "object_fit": null,
            "object_position": null,
            "order": null,
            "overflow": null,
            "overflow_x": null,
            "overflow_y": null,
            "padding": null,
            "right": null,
            "top": null,
            "visibility": null,
            "width": null
          }
        }
      }
    }
  },
  "cells": [
    {
      "cell_type": "markdown",
      "metadata": {
        "id": "view-in-github",
        "colab_type": "text"
      },
      "source": [
        "<a href=\"https://colab.research.google.com/github/yenlung/Math-in-Jupyter/blob/main/colab%E5%BE%AE%E7%A9%8D%E5%88%8606_%E6%B3%B0%E5%8B%92%E7%B4%9A%E6%95%B8.ipynb\" target=\"_parent\"><img src=\"https://colab.research.google.com/assets/colab-badge.svg\" alt=\"Open In Colab\"/></a>"
      ]
    },
    {
      "cell_type": "code",
      "execution_count": 1,
      "metadata": {
        "id": "4SMEb9NaMfCQ"
      },
      "outputs": [],
      "source": [
        "%matplotlib inline\n",
        "\n",
        "import numpy as np\n",
        "import sympy as sp\n",
        "import matplotlib.pyplot as plt"
      ]
    },
    {
      "cell_type": "markdown",
      "source": [
        "## 1. `sympy` 基本設定\n",
        "\n",
        "就是讀入 `symify` 的縮寫版 `S`, 還有定義 `x` 為符號變數。"
      ],
      "metadata": {
        "id": "Q6UrHxdcMpf2"
      }
    },
    {
      "cell_type": "code",
      "source": [
        "from sympy import S"
      ],
      "metadata": {
        "id": "UU7dSuPSMxLV"
      },
      "execution_count": 2,
      "outputs": []
    },
    {
      "cell_type": "code",
      "source": [
        "from sympy.abc import x"
      ],
      "metadata": {
        "id": "E1ozPZ6lMyyi"
      },
      "execution_count": 3,
      "outputs": []
    },
    {
      "cell_type": "markdown",
      "source": [
        "## 2. 找到第 $n$ 項的泰勒級數"
      ],
      "metadata": {
        "id": "l6xKj9W3M0O7"
      }
    },
    {
      "cell_type": "code",
      "source": [
        "f = sp.sin(x)\n",
        "\n",
        "T = sp.series(f, n=11)"
      ],
      "metadata": {
        "id": "jcIh14xOM11E"
      },
      "execution_count": 4,
      "outputs": []
    },
    {
      "cell_type": "markdown",
      "source": [
        "第 $n$ 項我們可以令一個變數, 更容易調整。Py人很喜歡把變數名和參數名設一樣!"
      ],
      "metadata": {
        "id": "Sj_NpMo7M42S"
      }
    },
    {
      "cell_type": "code",
      "source": [
        "n = 11\n",
        "T = sp.series(f, n=n)"
      ],
      "metadata": {
        "id": "xKDLh_CqNAzf"
      },
      "execution_count": 5,
      "outputs": []
    },
    {
      "cell_type": "code",
      "source": [
        "T"
      ],
      "metadata": {
        "colab": {
          "base_uri": "https://localhost:8080/",
          "height": 54
        },
        "id": "7MZF59tlNhBl",
        "outputId": "e22830f7-ba8c-4782-eacf-417257f77968"
      },
      "execution_count": 6,
      "outputs": [
        {
          "output_type": "execute_result",
          "data": {
            "text/plain": [
              "x - x**3/6 + x**5/120 - x**7/5040 + x**9/362880 + O(x**11)"
            ],
            "text/latex": "$\\displaystyle x - \\frac{x^{3}}{6} + \\frac{x^{5}}{120} - \\frac{x^{7}}{5040} + \\frac{x^{9}}{362880} + O\\left(x^{11}\\right)$"
          },
          "metadata": {},
          "execution_count": 6
        }
      ]
    },
    {
      "cell_type": "markdown",
      "source": [
        "有個討厭的 big O, 要怎麼去掉呢?"
      ],
      "metadata": {
        "id": "yscFl_3hOFUw"
      }
    },
    {
      "cell_type": "code",
      "source": [
        "Tn = T.removeO()"
      ],
      "metadata": {
        "id": "H3gK65LaNhS7"
      },
      "execution_count": 7,
      "outputs": []
    },
    {
      "cell_type": "code",
      "source": [
        "Tn"
      ],
      "metadata": {
        "colab": {
          "base_uri": "https://localhost:8080/",
          "height": 54
        },
        "id": "wYMM9zBMNrKf",
        "outputId": "dc530c35-d201-4647-9b88-35612b084dbf"
      },
      "execution_count": 8,
      "outputs": [
        {
          "output_type": "execute_result",
          "data": {
            "text/plain": [
              "x**9/362880 - x**7/5040 + x**5/120 - x**3/6 + x"
            ],
            "text/latex": "$\\displaystyle \\frac{x^{9}}{362880} - \\frac{x^{7}}{5040} + \\frac{x^{5}}{120} - \\frac{x^{3}}{6} + x$"
          },
          "metadata": {},
          "execution_count": 8
        }
      ]
    },
    {
      "cell_type": "markdown",
      "source": [
        "於是我們真的可以算 $\\sin$ 值..."
      ],
      "metadata": {
        "id": "p-Pwh_80OKmO"
      }
    },
    {
      "cell_type": "code",
      "source": [
        "Tn.subs(x,1.0)"
      ],
      "metadata": {
        "colab": {
          "base_uri": "https://localhost:8080/",
          "height": 37
        },
        "id": "YC5N5v1mNrtB",
        "outputId": "f928dcef-e7c2-4980-9b69-fb1bed680cb5"
      },
      "execution_count": 9,
      "outputs": [
        {
          "output_type": "execute_result",
          "data": {
            "text/plain": [
              "0.841471009700176"
            ],
            "text/latex": "$\\displaystyle 0.841471009700176$"
          },
          "metadata": {},
          "execution_count": 9
        }
      ]
    },
    {
      "cell_type": "markdown",
      "source": [
        "## 3. 誤差是多少呢?\n",
        "\n",
        "$$|R_n(x)| \\leq \\left|\\dfrac{M}{(n+1)!} x^{n+1}\\right|$$\n",
        "\n",
        "因為是 $\\sin(x)$ 的 $n+1$ 階導數, 所以 $|f^{n+1}(x)| \\leq 1$, 也就是我們可以取 $M=1$。"
      ],
      "metadata": {
        "id": "TBvy4cScNwS3"
      }
    },
    {
      "cell_type": "code",
      "source": [
        "sp.plot(Tn, xlim=(-10,10), ylim=(-1.5, 1.5))"
      ],
      "metadata": {
        "colab": {
          "base_uri": "https://localhost:8080/",
          "height": 314
        },
        "id": "G2WXbxDtOZMM",
        "outputId": "98952f41-ff87-4b85-fb81-6107fa3a0d45"
      },
      "execution_count": 10,
      "outputs": [
        {
          "output_type": "display_data",
          "data": {
            "text/plain": [
              "<Figure size 432x288 with 1 Axes>"
            ],
            "image/png": "[encoded data removed]"
          },
          "metadata": {
            "needs_background": "light"
          }
        },
        {
          "output_type": "execute_result",
          "data": {
            "text/plain": [
              "<sympy.plotting.plot.Plot at 0x7ff1bc414c10>"
            ]
          },
          "metadata": {},
          "execution_count": 10
        }
      ]
    },
    {
      "cell_type": "code",
      "source": [
        "Rn = 1/(sp.factorial(n))*1**n"
      ],
      "metadata": {
        "id": "Gib_qmxGP616"
      },
      "execution_count": 11,
      "outputs": []
    },
    {
      "cell_type": "code",
      "source": [
        "Rn.n(5)"
      ],
      "metadata": {
        "colab": {
          "base_uri": "https://localhost:8080/",
          "height": 37
        },
        "id": "82NbO4K_Q4TO",
        "outputId": "3ae71589-5ec7-4d95-cc73-c690bd31c298"
      },
      "execution_count": 13,
      "outputs": [
        {
          "output_type": "execute_result",
          "data": {
            "text/plain": [
              "2.5052e-8"
            ],
            "text/latex": "$\\displaystyle 2.5052 \\cdot 10^{-8}$"
          },
          "metadata": {},
          "execution_count": 13
        }
      ]
    },
    {
      "cell_type": "code",
      "source": [
        "T = sp.series(f, n=8).removeO()"
      ],
      "metadata": {
        "id": "Cx6bad4XM8Ge"
      },
      "execution_count": 14,
      "outputs": []
    },
    {
      "cell_type": "code",
      "source": [
        "T"
      ],
      "metadata": {
        "colab": {
          "base_uri": "https://localhost:8080/",
          "height": 54
        },
        "id": "hJTTpGdwNBzO",
        "outputId": "4d7551bd-1439-4535-f667-c2d8e43da6e4"
      },
      "execution_count": 15,
      "outputs": [
        {
          "output_type": "execute_result",
          "data": {
            "text/plain": [
              "-x**7/5040 + x**5/120 - x**3/6 + x"
            ],
            "text/latex": "$\\displaystyle - \\frac{x^{7}}{5040} + \\frac{x^{5}}{120} - \\frac{x^{3}}{6} + x$"
          },
          "metadata": {},
          "execution_count": 15
        }
      ]
    },
    {
      "cell_type": "code",
      "source": [
        "T.subs(x,1.0)"
      ],
      "metadata": {
        "colab": {
          "base_uri": "https://localhost:8080/",
          "height": 37
        },
        "id": "lfmo457SNCzG",
        "outputId": "8a8486d4-8a2e-42d6-9ad0-930a8866a4a9"
      },
      "execution_count": 16,
      "outputs": [
        {
          "output_type": "execute_result",
          "data": {
            "text/plain": [
              "0.841468253968254"
            ],
            "text/latex": "$\\displaystyle 0.841468253968254$"
          },
          "metadata": {},
          "execution_count": 16
        }
      ]
    },
    {
      "cell_type": "markdown",
      "source": [
        "所以看起來還可以!"
      ],
      "metadata": {
        "id": "zD8f0JYpRDHo"
      }
    },
    {
      "cell_type": "markdown",
      "source": [
        "## 4. 欣賞慢慢逼近的感覺!"
      ],
      "metadata": {
        "id": "b1xRCaWgRQlN"
      }
    },
    {
      "cell_type": "code",
      "source": [
        "from ipywidgets import interact"
      ],
      "metadata": {
        "id": "nmTj1sC1R1oe"
      },
      "execution_count": 17,
      "outputs": []
    },
    {
      "cell_type": "code",
      "source": [
        "def my_sin(n):\n",
        "    f = sp.sin(x)\n",
        "    Tn = sp.series(f, n=n).removeO()\n",
        "    graph = sp.plot(f, Tn,  xlim=(-10,10), ylim=(-1.5, 1.5), show=False)\n",
        "    graph[0].line_color='b'\n",
        "    graph[1].line_color='r'\n",
        "    graph.show()"
      ],
      "metadata": {
        "id": "0HTZr4VpR38i"
      },
      "execution_count": 18,
      "outputs": []
    },
    {
      "cell_type": "code",
      "source": [
        "my_sin(5)"
      ],
      "metadata": {
        "colab": {
          "base_uri": "https://localhost:8080/",
          "height": 297
        },
        "id": "RUH3JCj7SP63",
        "outputId": "1249a3cc-7a6b-4102-e4a7-cf4763c2adb0"
      },
      "execution_count": 19,
      "outputs": [
        {
          "output_type": "display_data",
          "data": {
            "text/plain": [
              "<Figure size 432x288 with 1 Axes>"
            ],
            "image/png": "[encoded data removed]"
          },
          "metadata": {
            "needs_background": "light"
          }
        }
      ]
    },
    {
      "cell_type": "code",
      "source": [
        "interact(my_sin, n=(1, 20));"
      ],
      "metadata": {
        "colab": {
          "base_uri": "https://localhost:8080/",
          "height": 329,
          "referenced_widgets": [
            "84bd65e2322446febd8fb2900582b078",
            "4d57f0378f0040adb7594b7cc7cf0215",
            "b2e517df9703415eb7a6d25d427e5e67",
            "790e7da5897e4a2ab31f50728ae13674",
            "8a50a2290cbc40828c774707288dc5b1",
            "093dea7f6fb849998ff2c69928d6107d",
            "75d8694d957f45d881601098edd40fa4"
          ]
        },
        "id": "s-PuesvMSQ3J",
        "outputId": "c298caae-c111-4110-b0eb-f45f4d15fc29"
      },
      "execution_count": 20,
      "outputs": [
        {
          "output_type": "display_data",
          "data": {
            "text/plain": [
              "interactive(children=(IntSlider(value=10, description='n', max=20, min=1), Output()), _dom_classes=('widget-in…"
            ],
            "application/vnd.jupyter.widget-view+json": {
              "version_major": 2,
              "version_minor": 0,
              "model_id": "84bd65e2322446febd8fb2900582b078"
            }
          },
          "metadata": {}
        }
      ]
    },
    {
      "cell_type": "markdown",
      "source": [
        "## 【作業】\n",
        "\n",
        "用泰勒多項式計算 $e$ 的值, 誤差要在 0.000001 之內。記得「不可以」假設我們會算 $e^n$ 這種數, 除非是 $e^0$。\n",
        "\n",
        "你也可以仿前面介紹的方法, 畫個 $T_n(x)$ 慢慢逼近 $f(x)=e^x$的圖。"
      ],
      "metadata": {
        "id": "QVIVOJlUT4ui"
      }
    }
  ]
}