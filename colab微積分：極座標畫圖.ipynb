{
  "nbformat": 4,
  "nbformat_minor": 0,
  "metadata": {
    "colab": {
      "name": "微積分：極座標畫圖.ipynb",
      "provenance": [],
      "collapsed_sections": [],
      "authorship_tag": "ABX9TyNfqXOJsNGmr9L1crMEFLUR",
      "include_colab_link": true
    },
    "kernelspec": {
      "name": "python3",
      "display_name": "Python 3"
    },
    "language_info": {
      "name": "python"
    },
    "widgets": {
      "application/vnd.jupyter.widget-state+json": {
        "1f2ff17cf9ad4d979b790ad532196018": {
          "model_module": "@jupyter-widgets/controls",
          "model_name": "VBoxModel",
          "model_module_version": "1.5.0",
          "state": {
            "_view_name": "VBoxView",
            "_dom_classes": [
              "widget-interact"
            ],
            "_model_name": "VBoxModel",
            "_view_module": "@jupyter-widgets/controls",
            "_model_module_version": "1.5.0",
            "_view_count": null,
            "_view_module_version": "1.5.0",
            "box_style": "",
            "layout": "IPY_MODEL_2bdb01bed21c4f759d7d35754cd80300",
            "_model_module": "@jupyter-widgets/controls",
            "children": [
              "IPY_MODEL_7d7b3ba6db3c4b12ba349338646cc813",
              "IPY_MODEL_1c54c01811534c888c955ca8d60ceb19"
            ]
          }
        },
        "2bdb01bed21c4f759d7d35754cd80300": {
          "model_module": "@jupyter-widgets/base",
          "model_name": "LayoutModel",
          "model_module_version": "1.2.0",
          "state": {
            "_view_name": "LayoutView",
            "grid_template_rows": null,
            "right": null,
            "justify_content": null,
            "_view_module": "@jupyter-widgets/base",
            "overflow": null,
            "_model_module_version": "1.2.0",
            "_view_count": null,
            "flex_flow": null,
            "width": null,
            "min_width": null,
            "border": null,
            "align_items": null,
            "bottom": null,
            "_model_module": "@jupyter-widgets/base",
            "top": null,
            "grid_column": null,
            "overflow_y": null,
            "overflow_x": null,
            "grid_auto_flow": null,
            "grid_area": null,
            "grid_template_columns": null,
            "flex": null,
            "_model_name": "LayoutModel",
            "justify_items": null,
            "grid_row": null,
            "max_height": null,
            "align_content": null,
            "visibility": null,
            "align_self": null,
            "height": null,
            "min_height": null,
            "padding": null,
            "grid_auto_rows": null,
            "grid_gap": null,
            "max_width": null,
            "order": null,
            "_view_module_version": "1.2.0",
            "grid_template_areas": null,
            "object_position": null,
            "object_fit": null,
            "grid_auto_columns": null,
            "margin": null,
            "display": null,
            "left": null
          }
        },
        "7d7b3ba6db3c4b12ba349338646cc813": {
          "model_module": "@jupyter-widgets/controls",
          "model_name": "FloatSliderModel",
          "model_module_version": "1.5.0",
          "state": {
            "_view_name": "FloatSliderView",
            "style": "IPY_MODEL_c173bb5a25bc46f3af88dc259198277c",
            "_dom_classes": [],
            "description": "c",
            "step": 0.1,
            "_model_name": "FloatSliderModel",
            "orientation": "horizontal",
            "max": 2,
            "_view_module": "@jupyter-widgets/controls",
            "_model_module_version": "1.5.0",
            "value": 0.5,
            "_view_count": null,
            "disabled": false,
            "_view_module_version": "1.5.0",
            "min": -2,
            "continuous_update": true,
            "readout_format": ".2f",
            "description_tooltip": null,
            "readout": true,
            "_model_module": "@jupyter-widgets/controls",
            "layout": "IPY_MODEL_3cc897a7328b40cab5664fc14d0fcd40"
          }
        },
        "1c54c01811534c888c955ca8d60ceb19": {
          "model_module": "@jupyter-widgets/output",
          "model_name": "OutputModel",
          "model_module_version": "1.0.0",
          "state": {
            "_view_name": "OutputView",
            "msg_id": "",
            "_dom_classes": [],
            "_model_name": "OutputModel",
            "outputs": [
              {
                "output_type": "display_data",
                "data": {
                  "image/png": "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\n",
                  "text/plain": "<Figure size 432x288 with 1 Axes>"
                },
                "metadata": {
                  "needs_background": "light"
                }
              }
            ],
            "_view_module": "@jupyter-widgets/output",
            "_model_module_version": "1.0.0",
            "_view_count": null,
            "_view_module_version": "1.0.0",
            "layout": "IPY_MODEL_c570bc8eac6b4c038ca67f1b637fb5f8",
            "_model_module": "@jupyter-widgets/output"
          }
        },
        "c173bb5a25bc46f3af88dc259198277c": {
          "model_module": "@jupyter-widgets/controls",
          "model_name": "SliderStyleModel",
          "model_module_version": "1.5.0",
          "state": {
            "_view_name": "StyleView",
            "handle_color": null,
            "_model_name": "SliderStyleModel",
            "description_width": "",
            "_view_module": "@jupyter-widgets/base",
            "_model_module_version": "1.5.0",
            "_view_count": null,
            "_view_module_version": "1.2.0",
            "_model_module": "@jupyter-widgets/controls"
          }
        },
        "3cc897a7328b40cab5664fc14d0fcd40": {
          "model_module": "@jupyter-widgets/base",
          "model_name": "LayoutModel",
          "model_module_version": "1.2.0",
          "state": {
            "_view_name": "LayoutView",
            "grid_template_rows": null,
            "right": null,
            "justify_content": null,
            "_view_module": "@jupyter-widgets/base",
            "overflow": null,
            "_model_module_version": "1.2.0",
            "_view_count": null,
            "flex_flow": null,
            "width": null,
            "min_width": null,
            "border": null,
            "align_items": null,
            "bottom": null,
            "_model_module": "@jupyter-widgets/base",
            "top": null,
            "grid_column": null,
            "overflow_y": null,
            "overflow_x": null,
            "grid_auto_flow": null,
            "grid_area": null,
            "grid_template_columns": null,
            "flex": null,
            "_model_name": "LayoutModel",
            "justify_items": null,
            "grid_row": null,
            "max_height": null,
            "align_content": null,
            "visibility": null,
            "align_self": null,
            "height": null,
            "min_height": null,
            "padding": null,
            "grid_auto_rows": null,
            "grid_gap": null,
            "max_width": null,
            "order": null,
            "_view_module_version": "1.2.0",
            "grid_template_areas": null,
            "object_position": null,
            "object_fit": null,
            "grid_auto_columns": null,
            "margin": null,
            "display": null,
            "left": null
          }
        },
        "c570bc8eac6b4c038ca67f1b637fb5f8": {
          "model_module": "@jupyter-widgets/base",
          "model_name": "LayoutModel",
          "model_module_version": "1.2.0",
          "state": {
            "_view_name": "LayoutView",
            "grid_template_rows": null,
            "right": null,
            "justify_content": null,
            "_view_module": "@jupyter-widgets/base",
            "overflow": null,
            "_model_module_version": "1.2.0",
            "_view_count": null,
            "flex_flow": null,
            "width": null,
            "min_width": null,
            "border": null,
            "align_items": null,
            "bottom": null,
            "_model_module": "@jupyter-widgets/base",
            "top": null,
            "grid_column": null,
            "overflow_y": null,
            "overflow_x": null,
            "grid_auto_flow": null,
            "grid_area": null,
            "grid_template_columns": null,
            "flex": null,
            "_model_name": "LayoutModel",
            "justify_items": null,
            "grid_row": null,
            "max_height": null,
            "align_content": null,
            "visibility": null,
            "align_self": null,
            "height": null,
            "min_height": null,
            "padding": null,
            "grid_auto_rows": null,
            "grid_gap": null,
            "max_width": null,
            "order": null,
            "_view_module_version": "1.2.0",
            "grid_template_areas": null,
            "object_position": null,
            "object_fit": null,
            "grid_auto_columns": null,
            "margin": null,
            "display": null,
            "left": null
          }
        },
        "8c2cbf8bdbcb460a92b5a71ea03d9ad9": {
          "model_module": "@jupyter-widgets/controls",
          "model_name": "VBoxModel",
          "model_module_version": "1.5.0",
          "state": {
            "_view_name": "VBoxView",
            "_dom_classes": [
              "widget-interact"
            ],
            "_model_name": "VBoxModel",
            "_view_module": "@jupyter-widgets/controls",
            "_model_module_version": "1.5.0",
            "_view_count": null,
            "_view_module_version": "1.5.0",
            "box_style": "",
            "layout": "IPY_MODEL_cd3a058f96424cd2967f32db3076bfaa",
            "_model_module": "@jupyter-widgets/controls",
            "children": [
              "IPY_MODEL_b5e4744404e64b6a885f87613d6431f4",
              "IPY_MODEL_ee26e1deffa7484c8e5e280d4e84e795"
            ]
          }
        },
        "cd3a058f96424cd2967f32db3076bfaa": {
          "model_module": "@jupyter-widgets/base",
          "model_name": "LayoutModel",
          "model_module_version": "1.2.0",
          "state": {
            "_view_name": "LayoutView",
            "grid_template_rows": null,
            "right": null,
            "justify_content": null,
            "_view_module": "@jupyter-widgets/base",
            "overflow": null,
            "_model_module_version": "1.2.0",
            "_view_count": null,
            "flex_flow": null,
            "width": null,
            "min_width": null,
            "border": null,
            "align_items": null,
            "bottom": null,
            "_model_module": "@jupyter-widgets/base",
            "top": null,
            "grid_column": null,
            "overflow_y": null,
            "overflow_x": null,
            "grid_auto_flow": null,
            "grid_area": null,
            "grid_template_columns": null,
            "flex": null,
            "_model_name": "LayoutModel",
            "justify_items": null,
            "grid_row": null,
            "max_height": null,
            "align_content": null,
            "visibility": null,
            "align_self": null,
            "height": null,
            "min_height": null,
            "padding": null,
            "grid_auto_rows": null,
            "grid_gap": null,
            "max_width": null,
            "order": null,
            "_view_module_version": "1.2.0",
            "grid_template_areas": null,
            "object_position": null,
            "object_fit": null,
            "grid_auto_columns": null,
            "margin": null,
            "display": null,
            "left": null
          }
        },
        "b5e4744404e64b6a885f87613d6431f4": {
          "model_module": "@jupyter-widgets/controls",
          "model_name": "IntSliderModel",
          "model_module_version": "1.5.0",
          "state": {
            "_view_name": "IntSliderView",
            "style": "IPY_MODEL_f9c9ea4966544b059dffbc499c562afb",
            "_dom_classes": [],
            "description": "n",
            "step": 1,
            "_model_name": "IntSliderModel",
            "orientation": "horizontal",
            "max": 10,
            "_view_module": "@jupyter-widgets/controls",
            "_model_module_version": "1.5.0",
            "value": 7,
            "_view_count": null,
            "disabled": false,
            "_view_module_version": "1.5.0",
            "min": 1,
            "continuous_update": true,
            "readout_format": "d",
            "description_tooltip": null,
            "readout": true,
            "_model_module": "@jupyter-widgets/controls",
            "layout": "IPY_MODEL_d390f1752af14f6098529d334ad1fe96"
          }
        },
        "ee26e1deffa7484c8e5e280d4e84e795": {
          "model_module": "@jupyter-widgets/output",
          "model_name": "OutputModel",
          "model_module_version": "1.0.0",
          "state": {
            "_view_name": "OutputView",
            "msg_id": "",
            "_dom_classes": [],
            "_model_name": "OutputModel",
            "outputs": [
              {
                "output_type": "display_data",
                "data": {
                  "image/png": "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\n",
                  "text/plain": "<Figure size 432x288 with 1 Axes>"
                },
                "metadata": {
                  "needs_background": "light"
                }
              }
            ],
            "_view_module": "@jupyter-widgets/output",
            "_model_module_version": "1.0.0",
            "_view_count": null,
            "_view_module_version": "1.0.0",
            "layout": "IPY_MODEL_67ee2a852c2e4529812afc7b61a2ed76",
            "_model_module": "@jupyter-widgets/output"
          }
        },
        "f9c9ea4966544b059dffbc499c562afb": {
          "model_module": "@jupyter-widgets/controls",
          "model_name": "SliderStyleModel",
          "model_module_version": "1.5.0",
          "state": {
            "_view_name": "StyleView",
            "handle_color": null,
            "_model_name": "SliderStyleModel",
            "description_width": "",
            "_view_module": "@jupyter-widgets/base",
            "_model_module_version": "1.5.0",
            "_view_count": null,
            "_view_module_version": "1.2.0",
            "_model_module": "@jupyter-widgets/controls"
          }
        },
        "d390f1752af14f6098529d334ad1fe96": {
          "model_module": "@jupyter-widgets/base",
          "model_name": "LayoutModel",
          "model_module_version": "1.2.0",
          "state": {
            "_view_name": "LayoutView",
            "grid_template_rows": null,
            "right": null,
            "justify_content": null,
            "_view_module": "@jupyter-widgets/base",
            "overflow": null,
            "_model_module_version": "1.2.0",
            "_view_count": null,
            "flex_flow": null,
            "width": null,
            "min_width": null,
            "border": null,
            "align_items": null,
            "bottom": null,
            "_model_module": "@jupyter-widgets/base",
            "top": null,
            "grid_column": null,
            "overflow_y": null,
            "overflow_x": null,
            "grid_auto_flow": null,
            "grid_area": null,
            "grid_template_columns": null,
            "flex": null,
            "_model_name": "LayoutModel",
            "justify_items": null,
            "grid_row": null,
            "max_height": null,
            "align_content": null,
            "visibility": null,
            "align_self": null,
            "height": null,
            "min_height": null,
            "padding": null,
            "grid_auto_rows": null,
            "grid_gap": null,
            "max_width": null,
            "order": null,
            "_view_module_version": "1.2.0",
            "grid_template_areas": null,
            "object_position": null,
            "object_fit": null,
            "grid_auto_columns": null,
            "margin": null,
            "display": null,
            "left": null
          }
        },
        "67ee2a852c2e4529812afc7b61a2ed76": {
          "model_module": "@jupyter-widgets/base",
          "model_name": "LayoutModel",
          "model_module_version": "1.2.0",
          "state": {
            "_view_name": "LayoutView",
            "grid_template_rows": null,
            "right": null,
            "justify_content": null,
            "_view_module": "@jupyter-widgets/base",
            "overflow": null,
            "_model_module_version": "1.2.0",
            "_view_count": null,
            "flex_flow": null,
            "width": null,
            "min_width": null,
            "border": null,
            "align_items": null,
            "bottom": null,
            "_model_module": "@jupyter-widgets/base",
            "top": null,
            "grid_column": null,
            "overflow_y": null,
            "overflow_x": null,
            "grid_auto_flow": null,
            "grid_area": null,
            "grid_template_columns": null,
            "flex": null,
            "_model_name": "LayoutModel",
            "justify_items": null,
            "grid_row": null,
            "max_height": null,
            "align_content": null,
            "visibility": null,
            "align_self": null,
            "height": null,
            "min_height": null,
            "padding": null,
            "grid_auto_rows": null,
            "grid_gap": null,
            "max_width": null,
            "order": null,
            "_view_module_version": "1.2.0",
            "grid_template_areas": null,
            "object_position": null,
            "object_fit": null,
            "grid_auto_columns": null,
            "margin": null,
            "display": null,
            "left": null
          }
        }
      }
    }
  },
  "cells": [
    {
      "cell_type": "markdown",
      "metadata": {
        "id": "view-in-github",
        "colab_type": "text"
      },
      "source": [
        "<a href=\"https://colab.research.google.com/github/yenlung/Math-in-Jupyter/blob/main/colab%E5%BE%AE%E7%A9%8D%E5%88%86%EF%BC%9A%E6%A5%B5%E5%BA%A7%E6%A8%99%E7%95%AB%E5%9C%96.ipynb\" target=\"_parent\"><img src=\"https://colab.research.google.com/assets/colab-badge.svg\" alt=\"Open In Colab\"/></a>"
      ]
    },
    {
      "cell_type": "code",
      "execution_count": null,
      "metadata": {
        "id": "EBJ76EibXAET"
      },
      "outputs": [],
      "source": [
        "%matplotlib inline\n",
        "\n",
        "import numpy as np\n",
        "import sympy as sp\n",
        "import matplotlib.pyplot as plt"
      ]
    },
    {
      "cell_type": "markdown",
      "source": [
        "## 1. 基本款就是畫圖"
      ],
      "metadata": {
        "id": "17dsy-WHXNCE"
      }
    },
    {
      "cell_type": "code",
      "source": [
        "π = np.pi"
      ],
      "metadata": {
        "id": "_YO5LVfEXW9t"
      },
      "execution_count": null,
      "outputs": []
    },
    {
      "cell_type": "code",
      "source": [
        "θ = np.linspace(-2*π, 2*π, 1000)"
      ],
      "metadata": {
        "id": "uJ9XF0sgXbXa"
      },
      "execution_count": null,
      "outputs": []
    },
    {
      "cell_type": "code",
      "source": [
        "r = 3\n",
        "\n",
        "x = r * np.cos(θ)\n",
        "y = r * np.sin(θ)"
      ],
      "metadata": {
        "id": "YLfM7zCsXhS3"
      },
      "execution_count": null,
      "outputs": []
    },
    {
      "cell_type": "code",
      "source": [
        "plt.axis('equal')\n",
        "plt.plot(x, y)"
      ],
      "metadata": {
        "colab": {
          "base_uri": "https://localhost:8080/",
          "height": 283
        },
        "id": "mcyqYDqLXpm9",
        "outputId": "d26de242-6e09-43cb-9295-fb71be3a885f"
      },
      "execution_count": null,
      "outputs": [
        {
          "output_type": "execute_result",
          "data": {
            "text/plain": [
              "[<matplotlib.lines.Line2D at 0x7f132dd03490>]"
            ]
          },
          "metadata": {},
          "execution_count": 7
        },
        {
          "output_type": "display_data",
          "data": {
            "image/png": "[encoded data removed]",
            "text/plain": [
              "<Figure size 432x288 with 1 Axes>"
            ]
          },
          "metadata": {
            "needs_background": "light"
          }
        }
      ]
    },
    {
      "cell_type": "markdown",
      "source": [
        "## 2. 只要 r 有變化..."
      ],
      "metadata": {
        "id": "2DUiKQE0Xtym"
      }
    },
    {
      "cell_type": "markdown",
      "source": [
        "### take 1"
      ],
      "metadata": {
        "id": "GPsZq7_YY9Ru"
      }
    },
    {
      "cell_type": "code",
      "source": [
        "r = 1 - np.sin(θ)\n",
        "\n",
        "x = r * np.cos(θ)\n",
        "y = r * np.sin(θ)"
      ],
      "metadata": {
        "id": "DAUpv1VRX3ya"
      },
      "execution_count": null,
      "outputs": []
    },
    {
      "cell_type": "code",
      "source": [
        "plt.axis('equal')\n",
        "plt.plot(x, y)"
      ],
      "metadata": {
        "colab": {
          "base_uri": "https://localhost:8080/",
          "height": 283
        },
        "id": "V5dS6zAOYHuQ",
        "outputId": "eaca2f56-9d1d-44db-c9b4-97d4b962180b"
      },
      "execution_count": null,
      "outputs": [
        {
          "output_type": "execute_result",
          "data": {
            "text/plain": [
              "[<matplotlib.lines.Line2D at 0x7f132d75fc90>]"
            ]
          },
          "metadata": {},
          "execution_count": 10
        },
        {
          "output_type": "display_data",
          "data": {
            "image/png": "[encoded data removed]",
            "text/plain": [
              "<Figure size 432x288 with 1 Axes>"
            ]
          },
          "metadata": {
            "needs_background": "light"
          }
        }
      ]
    },
    {
      "cell_type": "code",
      "source": [
        "plt.axis('equal')\n",
        "plt.fill(x, y, c='#F1C0EB')"
      ],
      "metadata": {
        "colab": {
          "base_uri": "https://localhost:8080/",
          "height": 283
        },
        "id": "_jKEG6U1YIoh",
        "outputId": "4a0c8159-17d2-42d5-8608-35fac15683c5"
      },
      "execution_count": null,
      "outputs": [
        {
          "output_type": "execute_result",
          "data": {
            "text/plain": [
              "[<matplotlib.patches.Polygon at 0x7f132d520910>]"
            ]
          },
          "metadata": {},
          "execution_count": 14
        },
        {
          "output_type": "display_data",
          "data": {
            "image/png": "[encoded data removed]",
            "text/plain": [
              "<Figure size 432x288 with 1 Axes>"
            ]
          },
          "metadata": {
            "needs_background": "light"
          }
        }
      ]
    },
    {
      "cell_type": "markdown",
      "source": [
        "### take 2\n",
        "\n",
        "課本的 **Example 8**\n",
        "\n",
        "$$r = \\cos 2\\theta$$"
      ],
      "metadata": {
        "id": "i0TU8JarYRHe"
      }
    },
    {
      "cell_type": "code",
      "source": [
        "r = np.cos(3*θ)\n",
        "\n",
        "x = r * np.cos(θ)\n",
        "y = r * np.sin(θ)"
      ],
      "metadata": {
        "id": "LUguFLfLZE4d"
      },
      "execution_count": null,
      "outputs": []
    },
    {
      "cell_type": "code",
      "source": [
        "plt.axis('equal')\n",
        "\n",
        "plt.plot(x, y, c='r')"
      ],
      "metadata": {
        "colab": {
          "base_uri": "https://localhost:8080/",
          "height": 283
        },
        "id": "7htNbtyyZaxn",
        "outputId": "f9f49351-b61e-4580-e155-450a1655462d"
      },
      "execution_count": null,
      "outputs": [
        {
          "output_type": "execute_result",
          "data": {
            "text/plain": [
              "[<matplotlib.lines.Line2D at 0x7f132d4ebd90>]"
            ]
          },
          "metadata": {},
          "execution_count": 23
        },
        {
          "output_type": "display_data",
          "data": {
            "image/png": "[encoded data removed]",
            "text/plain": [
              "<Figure size 432x288 with 1 Axes>"
            ]
          },
          "metadata": {
            "needs_background": "light"
          }
        }
      ]
    },
    {
      "cell_type": "markdown",
      "source": [
        "### take 3\n",
        "\n",
        "$$r = \\sin(8θ/5)$$"
      ],
      "metadata": {
        "id": "tRaM6u8YZebl"
      }
    },
    {
      "cell_type": "code",
      "source": [
        "θ = np.linspace(-6*π, 6*π, 1000)"
      ],
      "metadata": {
        "id": "7z1QNtcFbvRS"
      },
      "execution_count": null,
      "outputs": []
    },
    {
      "cell_type": "code",
      "source": [
        "r = np.sin(8*θ/5)\n",
        "\n",
        "x = r * np.cos(θ)\n",
        "y = r * np.sin(θ)"
      ],
      "metadata": {
        "id": "9e2l3LI7Z3sP"
      },
      "execution_count": null,
      "outputs": []
    },
    {
      "cell_type": "code",
      "source": [
        "plt.axis('equal')\n",
        "\n",
        "plt.plot(x, y)"
      ],
      "metadata": {
        "colab": {
          "base_uri": "https://localhost:8080/",
          "height": 283
        },
        "id": "lqheJ9R5agt9",
        "outputId": "23fdf818-3917-4b03-f99c-7501e4a7edd8"
      },
      "execution_count": null,
      "outputs": [
        {
          "output_type": "execute_result",
          "data": {
            "text/plain": [
              "[<matplotlib.lines.Line2D at 0x7f132d013a50>]"
            ]
          },
          "metadata": {},
          "execution_count": 47
        },
        {
          "output_type": "display_data",
          "data": {
            "image/png": "[encoded data removed]",
            "text/plain": [
              "<Figure size 432x288 with 1 Axes>"
            ]
          },
          "metadata": {
            "needs_background": "light"
          }
        }
      ]
    },
    {
      "cell_type": "markdown",
      "source": [
        "## 3. 互動\n",
        "\n",
        "### take 1.\n",
        "\n",
        "$$r = 1 + c \\sinθ$$"
      ],
      "metadata": {
        "id": "CRxZfdoQalTf"
      }
    },
    {
      "cell_type": "code",
      "source": [
        "from ipywidgets import interact"
      ],
      "metadata": {
        "id": "LQZrvHTkcS6S"
      },
      "execution_count": null,
      "outputs": []
    },
    {
      "cell_type": "code",
      "source": [
        "θ = np.linspace(-2*π, 2*π, 1000)"
      ],
      "metadata": {
        "id": "HxFw-AagcVz2"
      },
      "execution_count": null,
      "outputs": []
    },
    {
      "cell_type": "code",
      "source": [
        "def polar1(c):\n",
        "    r = 1 + c * np.sin(θ)\n",
        "    x = r * np.cos(θ)\n",
        "    y = r * np.sin(θ)\n",
        "    plt.axis('equal')\n",
        "    plt.plot(x, y, c='r')"
      ],
      "metadata": {
        "id": "1wyZaQSWcbQo"
      },
      "execution_count": null,
      "outputs": []
    },
    {
      "cell_type": "code",
      "source": [
        "polar1(1.7)"
      ],
      "metadata": {
        "colab": {
          "base_uri": "https://localhost:8080/",
          "height": 265
        },
        "id": "9rirx04odhul",
        "outputId": "8175741f-039b-45d3-f11a-dcf461a8cf45"
      },
      "execution_count": null,
      "outputs": [
        {
          "output_type": "display_data",
          "data": {
            "image/png": "[encoded data removed]",
            "text/plain": [
              "<Figure size 432x288 with 1 Axes>"
            ]
          },
          "metadata": {
            "needs_background": "light"
          }
        }
      ]
    },
    {
      "cell_type": "code",
      "source": [
        "interact(polar1, c=(-2., 2.));"
      ],
      "metadata": {
        "colab": {
          "base_uri": "https://localhost:8080/",
          "height": 297,
          "referenced_widgets": [
            "1f2ff17cf9ad4d979b790ad532196018",
            "2bdb01bed21c4f759d7d35754cd80300",
            "7d7b3ba6db3c4b12ba349338646cc813",
            "1c54c01811534c888c955ca8d60ceb19",
            "c173bb5a25bc46f3af88dc259198277c",
            "3cc897a7328b40cab5664fc14d0fcd40",
            "c570bc8eac6b4c038ca67f1b637fb5f8"
          ]
        },
        "id": "yLR9jCSKdkOO",
        "outputId": "e0691c93-46db-4505-fef3-5a54881349c3"
      },
      "execution_count": null,
      "outputs": [
        {
          "output_type": "display_data",
          "data": {
            "application/vnd.jupyter.widget-view+json": {
              "model_id": "1f2ff17cf9ad4d979b790ad532196018",
              "version_minor": 0,
              "version_major": 2
            },
            "text/plain": [
              "interactive(children=(FloatSlider(value=0.0, description='c', max=2.0, min=-2.0), Output()), _dom_classes=('wi…"
            ]
          },
          "metadata": {}
        }
      ]
    },
    {
      "cell_type": "markdown",
      "source": [
        "### take 2\n",
        "\n",
        "$$r = \\cos n\\theta$$"
      ],
      "metadata": {
        "id": "o5E1JHVkdwDd"
      }
    },
    {
      "cell_type": "code",
      "source": [
        "def polar2(n):\n",
        "    r = np.cos(n*θ)\n",
        "    x = r * np.cos(θ)\n",
        "    y = r * np.sin(θ)\n",
        "    plt.axis('equal')\n",
        "    plt.plot(x, y, c='r')"
      ],
      "metadata": {
        "id": "qGmndEgQeOVd"
      },
      "execution_count": null,
      "outputs": []
    },
    {
      "cell_type": "code",
      "source": [
        "polar2(3)"
      ],
      "metadata": {
        "colab": {
          "base_uri": "https://localhost:8080/",
          "height": 265
        },
        "id": "NpVG-G-kejJz",
        "outputId": "0a38c2f4-6b2d-477e-a4f0-72208e3a1a10"
      },
      "execution_count": null,
      "outputs": [
        {
          "output_type": "display_data",
          "data": {
            "image/png": "[encoded data removed]",
            "text/plain": [
              "<Figure size 432x288 with 1 Axes>"
            ]
          },
          "metadata": {
            "needs_background": "light"
          }
        }
      ]
    },
    {
      "cell_type": "code",
      "source": [
        "interact(polar2, n=(1, 10));"
      ],
      "metadata": {
        "colab": {
          "base_uri": "https://localhost:8080/",
          "height": 297,
          "referenced_widgets": [
            "8c2cbf8bdbcb460a92b5a71ea03d9ad9",
            "cd3a058f96424cd2967f32db3076bfaa",
            "b5e4744404e64b6a885f87613d6431f4",
            "ee26e1deffa7484c8e5e280d4e84e795",
            "f9c9ea4966544b059dffbc499c562afb",
            "d390f1752af14f6098529d334ad1fe96",
            "67ee2a852c2e4529812afc7b61a2ed76"
          ]
        },
        "id": "5cP8Waj6elBS",
        "outputId": "ccae8b7c-6a4f-4a72-b2ce-90aa0c791011"
      },
      "execution_count": null,
      "outputs": [
        {
          "output_type": "display_data",
          "data": {
            "application/vnd.jupyter.widget-view+json": {
              "model_id": "8c2cbf8bdbcb460a92b5a71ea03d9ad9",
              "version_minor": 0,
              "version_major": 2
            },
            "text/plain": [
              "interactive(children=(IntSlider(value=5, description='n', max=10, min=1), Output()), _dom_classes=('widget-int…"
            ]
          },
          "metadata": {}
        }
      ]
    }
  ]
}